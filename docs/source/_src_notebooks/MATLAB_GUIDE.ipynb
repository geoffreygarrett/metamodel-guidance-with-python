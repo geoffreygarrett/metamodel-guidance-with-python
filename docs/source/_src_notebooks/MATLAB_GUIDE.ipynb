{
 "cells": [
  {
   "cell_type": "markdown",
   "metadata": {},
   "source": [
    "# Using the MATLAB Engine"
   ]
  },
  {
   "cell_type": "markdown",
   "metadata": {},
   "source": [
    "## Install MATLAB Engine API for Python\n",
    "\n",
    "https://nl.mathworks.com/help/matlab/matlab_external/install-the-matlab-engine-for-python.html"
   ]
  },
  {
   "cell_type": "markdown",
   "metadata": {},
   "source": [
    "In the MATLAB Command Window, perform the following procedure.\n",
    "\n",
    "1. Open the directory containing the Python API engine.\n",
    "        >> cd (fullfile(matlabroot,'extern','engines','python'))\n",
    "        \n",
    "        \n",
    "2. Install the API.\n",
    "        >> system('python setup.py install')"
   ]
  },
  {
   "cell_type": "markdown",
   "metadata": {
    "toc-hr-collapsed": false
   },
   "source": [
    "## Start and Stop MATLAB Engine for Python\n",
    "\n",
    "https://nl.mathworks.com/help/matlab/matlab_external/start-the-matlab-engine-for-python.html"
   ]
  },
  {
   "cell_type": "markdown",
   "metadata": {},
   "source": [
    "### Start MATLAB Engine for Python\n",
    "- Start Python® at the operating system prompt.\n",
    "- Import the matlab.engine package into your Python session.\n",
    "- Start a new MATLAB® process by calling start_matlab. The start_matlab function returns a Python object, eng, which enables you to pass data and call functions executed by MATLAB."
   ]
  },
  {
   "cell_type": "code",
   "execution_count": null,
   "metadata": {},
   "outputs": [],
   "source": [
    "import matlab.engine\n",
    "eng = matlab.engine.start_matlab()"
   ]
  },
  {
   "cell_type": "markdown",
   "metadata": {},
   "source": [
    "### Run Multiple Engines"
   ]
  },
  {
   "cell_type": "markdown",
   "metadata": {},
   "source": [
    "Start each engine separately. Each engine starts and communicates with its own MATLAB process."
   ]
  },
  {
   "cell_type": "code",
   "execution_count": null,
   "metadata": {},
   "outputs": [],
   "source": [
    "eng1 = matlab.engine.start_matlab()\n",
    "eng2 = matlab.engine.start_matlab()"
   ]
  },
  {
   "cell_type": "markdown",
   "metadata": {},
   "source": [
    "### Stop Engine\n",
    "Call either the exit or the quit function."
   ]
  },
  {
   "cell_type": "code",
   "execution_count": null,
   "metadata": {},
   "outputs": [],
   "source": [
    "eng.quit()"
   ]
  },
  {
   "cell_type": "markdown",
   "metadata": {},
   "source": [
    "If you exit Python with an engine still running, then Python automatically stops the engine and its MATLAB process."
   ]
  },
  {
   "cell_type": "markdown",
   "metadata": {},
   "source": [
    "### Start Engine with Startup Options\n",
    "\n",
    "Start the engine and pass the options as an input argument string to matlab.engine.start_matlab. For example, start MATLAB with the desktop."
   ]
  },
  {
   "cell_type": "code",
   "execution_count": null,
   "metadata": {},
   "outputs": [],
   "source": [
    "eng = matlab.engine.start_matlab(\"-desktop\")"
   ]
  },
  {
   "cell_type": "markdown",
   "metadata": {},
   "source": [
    "You can define multiple startup options with a single string. For example, start the desktop and set the numeric display format to short."
   ]
  },
  {
   "cell_type": "code",
   "execution_count": null,
   "metadata": {},
   "outputs": [],
   "source": [
    "eng = matlab.engine.start_matlab(\"-desktop -r 'format short'\")"
   ]
  },
  {
   "cell_type": "markdown",
   "metadata": {},
   "source": [
    "You also can start the desktop after you start the engine."
   ]
  },
  {
   "cell_type": "code",
   "execution_count": null,
   "metadata": {},
   "outputs": [],
   "source": [
    "import matlab.engine\n",
    "eng = matlab.engine.start_matlab()\n",
    "eng.desktop(nargout=0)"
   ]
  },
  {
   "cell_type": "markdown",
   "metadata": {},
   "source": [
    "### Start Engine Asynchronously\n",
    "\n",
    "Start the engine asynchronously. While MATLAB starts, you can enter commands at the Python command line."
   ]
  },
  {
   "cell_type": "code",
   "execution_count": null,
   "metadata": {},
   "outputs": [],
   "source": [
    "import matlab.engine\n",
    "future = matlab.engine.start_matlab(background=True)"
   ]
  },
  {
   "cell_type": "markdown",
   "metadata": {},
   "source": [
    "Create the MATLAB instance so you can perform computations in MATLAB."
   ]
  },
  {
   "cell_type": "code",
   "execution_count": null,
   "metadata": {},
   "outputs": [],
   "source": [
    "eng = future.result()"
   ]
  },
  {
   "cell_type": "markdown",
   "metadata": {},
   "source": [
    "## Python data structure into MATLAB"
   ]
  },
  {
   "cell_type": "markdown",
   "metadata": {},
   "source": [
    "Various methods of bringing data structures into MATLAB from Python exist. [Each have their own pros and cons.](https://stackoverflow.com/questions/10997254/converting-numpy-arrays-to-matlab-and-vice-versa)"
   ]
  },
  {
   "cell_type": "code",
   "execution_count": 184,
   "metadata": {},
   "outputs": [],
   "source": [
    "import numpy as np\n",
    "test_to = dict(x = np.linspace(0, 1, 1000))\n",
    "test_from = eng.linspace(0.,1.,1000)"
   ]
  },
  {
   "cell_type": "markdown",
   "metadata": {},
   "source": [
    "### `matlab`\n",
    "\n",
    "A simple solution, without passing data by file or external libs. Can be applied to single data arrays."
   ]
  },
  {
   "cell_type": "code",
   "execution_count": 144,
   "metadata": {},
   "outputs": [],
   "source": [
    "import matlab"
   ]
  },
  {
   "cell_type": "code",
   "execution_count": 185,
   "metadata": {},
   "outputs": [
    {
     "name": "stdout",
     "output_type": "stream",
     "text": [
      "523 µs ± 25.8 µs per loop (mean ± std. dev. of 7 runs, 1000 loops each)\n"
     ]
    }
   ],
   "source": [
    "%%timeit\n",
    "\n",
    "matlab_array = matlab.double(test_to['x'].tolist())"
   ]
  },
  {
   "cell_type": "markdown",
   "metadata": {},
   "source": [
    "### `scipy.io`"
   ]
  },
  {
   "cell_type": "markdown",
   "metadata": {},
   "source": [
    "Perhaps the safest and most efficient way to bring a data structure into MATLAB is through the `scipy.io` module. This method can only be done through a dictionary format."
   ]
  },
  {
   "cell_type": "code",
   "execution_count": 140,
   "metadata": {},
   "outputs": [],
   "source": [
    "import scipy.io"
   ]
  },
  {
   "cell_type": "code",
   "execution_count": 186,
   "metadata": {},
   "outputs": [
    {
     "name": "stdout",
     "output_type": "stream",
     "text": [
      "1.32 ms ± 41 µs per loop (mean ± std. dev. of 7 runs, 1000 loops each)\n"
     ]
    }
   ],
   "source": [
    "%%timeit\n",
    "\n",
    "scipy.io.savemat(\"test_to.mat\", test)\n",
    "matlab_space = eng.load(\"test_to.mat\")"
   ]
  },
  {
   "cell_type": "markdown",
   "metadata": {},
   "source": [
    "### Scalability"
   ]
  },
  {
   "cell_type": "markdown",
   "metadata": {},
   "source": [
    "The previous examples of converting to `MATLAB` arrays were carried out for an array size of 1000 doubles. At that size, it is clear that the vanilla `matlab` module is preferred, with the input of list types. However `scipy.io` scales up better than the `matlab.double(list)` method, as is seen below."
   ]
  },
  {
   "cell_type": "code",
   "execution_count": 187,
   "metadata": {},
   "outputs": [],
   "source": [
    "%matplotlib inline\n",
    "import matplotlib.pyplot as plt\n",
    "import timeit\n",
    "\n",
    "def vanilla_to_matlab(nparray):\n",
    "    return matlab.double(nparray.tolist())\n",
    "\n",
    "def scipyio_to_matlab(nparray):\n",
    "    scipy.io.savemat(\"test_to.mat\", {\"x\":nparray})\n",
    "    return eng.load(\"test_to.mat\")[\"x\"]\n",
    "\n",
    "time_vanilla = []\n",
    "time_scipyio = []\n",
    "size = []\n",
    "for i in range(0, 6):\n",
    "    s = int(10**i)\n",
    "    x = np.linspace(0,1,s)\n",
    "    size.append(s)\n",
    "    time_vanilla.append(timeit.timeit('vanilla_to_matlab(x)', number=200, globals=globals()))\n",
    "    time_scipyio.append(timeit.timeit('scipyio_to_matlab(x)', number=200, globals=globals()))"
   ]
  },
  {
   "cell_type": "code",
   "execution_count": 188,
   "metadata": {},
   "outputs": [
    {
     "data": {
      "image/png": "[encoded data removed]",
      "text/plain": [
       "<Figure size 1500x900 with 1 Axes>"
      ]
     },
     "metadata": {
      "needs_background": "light"
     },
     "output_type": "display_data"
    }
   ],
   "source": [
    "plt.figure(dpi=300, figsize=(5,3))\n",
    "plt.ylabel(\"Time [s]\")\n",
    "plt.xlabel(\"Size [#]\")\n",
    "plt.grid(which=\"minor\", linewidth=0.1)\n",
    "plt.grid(which=\"major\", linewidth=0.5)\n",
    "plt.loglog(size, time_vanilla, label=\"Vanilla\")\n",
    "plt.loglog(size, time_scipyio, label=\"scipy.io\")\n",
    "plt.legend()\n",
    "plt.show()"
   ]
  },
  {
   "cell_type": "markdown",
   "metadata": {},
   "source": [
    "In conclusion, the `scipy.io` has more initial overhead, most probably due to the `io` operations. As a rule of thumb, if your array is larger than ~3000 doubles, than the faster method of conversion might be `scipy.io.savemat`."
   ]
  },
  {
   "cell_type": "markdown",
   "metadata": {},
   "source": [
    "## MATLAB datastructure into Python"
   ]
  },
  {
   "cell_type": "markdown",
   "metadata": {},
   "source": [
    "Conversion from MATLAB data structures into Python can be used [easily through numpy](https://nl.mathworks.com/matlabcentral/answers/327455-convert-matlab-engine-outputs-to-numpy-arrays)"
   ]
  },
  {
   "cell_type": "code",
   "execution_count": 143,
   "metadata": {},
   "outputs": [
    {
     "name": "stdout",
     "output_type": "stream",
     "text": [
      "232 µs ± 17.5 µs per loop (mean ± std. dev. of 7 runs, 1000 loops each)\n"
     ]
    }
   ],
   "source": [
    "%%timeit\n",
    "\n",
    "tested = np.asarray(test_from)"
   ]
  },
  {
   "cell_type": "markdown",
   "metadata": {},
   "source": [
    "## Simulink with MATLAB Engine in Python\n",
    "\n",
    "See [Speed Up Your Simulations with Rapid Accelerator Mode](https://nl.mathworks.com/company/newsletters/articles/speed-up-your-simulations-with-rapid-accelerator-mode.html) for original documentation. Here is the Python implementation."
   ]
  },
  {
   "cell_type": "markdown",
   "metadata": {},
   "source": [
    "Suppose we want to vary the coefficient of restitution, specified as k in the block dialog. To tune the value of k, we need to define it as a Simulink.Parameter object1:"
   ]
  },
  {
   "cell_type": "code",
   "execution_count": 86,
   "metadata": {},
   "outputs": [
    {
     "name": "stderr",
     "output_type": "stream",
     "text": [
      "Exception ignored in: <function MatlabEngine.__del__ at 0x7f0a202bfe18>\n",
      "Traceback (most recent call last):\n",
      "  File \"/home/ggarrett/anaconda3/envs/sigh/lib/python3.7/site-packages/matlab/engine/matlabengine.py\", line 250, in __del__\n",
      "    self.exit()\n",
      "  File \"/home/ggarrett/anaconda3/envs/sigh/lib/python3.7/site-packages/matlab/engine/matlabengine.py\", line 232, in exit\n",
      "    pythonengine.closeMATLAB(self.__dict__[\"_matlab\"])\n",
      "SystemError: MATLAB process cannot be terminated.\n"
     ]
    }
   ],
   "source": [
    "import matlab.engine\n",
    "eng = matlab.engine.start_matlab()"
   ]
  },
  {
   "cell_type": "code",
   "execution_count": 41,
   "metadata": {},
   "outputs": [],
   "source": [
    "# k = eng.Simulink.Parameter\n",
    "#k.CoderInfo.StorageClass = 'SimulinkGlobal';\n",
    "#k.Value = -0.9;\n",
    "# print(k)\n",
    "\n",
    "import matlab.engine\n",
    "eng = matlab.engine.start_matlab()\n",
    "mdl = 'vdp';\n",
    "\n",
    "rtp = eng.Simulink.BlockDiagram.buildRapidAcceleratorTarget(mdl);\n"
   ]
  },
  {
   "cell_type": "code",
   "execution_count": 27,
   "metadata": {},
   "outputs": [],
   "source": [
    "res = eng.sim('vdp')"
   ]
  },
  {
   "cell_type": "code",
   "execution_count": 28,
   "metadata": {},
   "outputs": [
    {
     "data": {
      "text/plain": [
       "<matlab.object at 0x7f9f044018f0>"
      ]
     },
     "execution_count": 28,
     "metadata": {},
     "output_type": "execute_result"
    }
   ],
   "source": [
    "eng.plot(res)"
   ]
  },
  {
   "cell_type": "code",
   "execution_count": 42,
   "metadata": {},
   "outputs": [],
   "source": [
    "# import matlab.engine\n",
    "# eng = matlab.engine.start_matlab()\n",
    "simOut = eng.sim('vdp','SimulationMode','normal','AbsTol','1e-5',\n",
    "            'SaveState','on','StateSaveName','xout',\n",
    "            'SaveOutput','on','OutputSaveName','yout',\n",
    " 'SaveFormat', 'Dataset');\n",
    "\n"
   ]
  },
  {
   "cell_type": "code",
   "execution_count": 45,
   "metadata": {},
   "outputs": [
    {
     "ename": "IndexError",
     "evalue": "index exceeds matrix dimensions",
     "output_type": "error",
     "traceback": [
      "\u001b[0;31m---------------------------------------------------------------------------\u001b[0m",
      "\u001b[0;31mIndexError\u001b[0m                                Traceback (most recent call last)",
      "\u001b[0;32m<ipython-input-45-66dfa507f003>\u001b[0m in \u001b[0;36m<module>\u001b[0;34m\u001b[0m\n\u001b[1;32m      1\u001b[0m \u001b[0;32mimport\u001b[0m \u001b[0mnumpy\u001b[0m \u001b[0;32mas\u001b[0m \u001b[0mnp\u001b[0m\u001b[0;34m\u001b[0m\u001b[0;34m\u001b[0m\u001b[0m\n\u001b[0;32m----> 2\u001b[0;31m \u001b[0meng\u001b[0m\u001b[0;34m.\u001b[0m\u001b[0mplot\u001b[0m\u001b[0;34m(\u001b[0m\u001b[0mnp\u001b[0m\u001b[0;34m.\u001b[0m\u001b[0masarray\u001b[0m\u001b[0;34m(\u001b[0m\u001b[0msimOut\u001b[0m\u001b[0;34m)\u001b[0m\u001b[0;34m)\u001b[0m\u001b[0;34m\u001b[0m\u001b[0;34m\u001b[0m\u001b[0m\n\u001b[0m",
      "\u001b[0;32m~/anaconda3/envs/sigh/lib/python3.7/site-packages/numpy/core/_asarray.py\u001b[0m in \u001b[0;36masarray\u001b[0;34m(a, dtype, order)\u001b[0m\n\u001b[1;32m     83\u001b[0m \u001b[0;34m\u001b[0m\u001b[0m\n\u001b[1;32m     84\u001b[0m     \"\"\"\n\u001b[0;32m---> 85\u001b[0;31m     \u001b[0;32mreturn\u001b[0m \u001b[0marray\u001b[0m\u001b[0;34m(\u001b[0m\u001b[0ma\u001b[0m\u001b[0;34m,\u001b[0m \u001b[0mdtype\u001b[0m\u001b[0;34m,\u001b[0m \u001b[0mcopy\u001b[0m\u001b[0;34m=\u001b[0m\u001b[0;32mFalse\u001b[0m\u001b[0;34m,\u001b[0m \u001b[0morder\u001b[0m\u001b[0;34m=\u001b[0m\u001b[0morder\u001b[0m\u001b[0;34m)\u001b[0m\u001b[0;34m\u001b[0m\u001b[0;34m\u001b[0m\u001b[0m\n\u001b[0m\u001b[1;32m     86\u001b[0m \u001b[0;34m\u001b[0m\u001b[0m\n\u001b[1;32m     87\u001b[0m \u001b[0;34m\u001b[0m\u001b[0m\n",
      "\u001b[0;31mIndexError\u001b[0m: index exceeds matrix dimensions"
     ]
    }
   ],
   "source": [
    "\n",
    "import numpy as np\n",
    "eng.plot(np.asarray(simOut))\n"
   ]
  },
  {
   "cell_type": "code",
   "execution_count": 81,
   "metadata": {},
   "outputs": [],
   "source": [
    "t1 = np.array([[1.,2.,3.,4.]])\n",
    "t2 = np.array([[10.,20.,30.,40.]])\n",
    "tt = np.array([0.5, 3.4, 2.1])\n",
    "import matlab\n",
    "\n",
    "x = eng.interp1(matlab.double(t1.tolist()), \n",
    "                matlab.double(t2.tolist()), \n",
    "                matlab.double(tt.tolist()))"
   ]
  },
  {
   "cell_type": "code",
   "execution_count": 82,
   "metadata": {},
   "outputs": [
    {
     "name": "stdout",
     "output_type": "stream",
     "text": [
      "[[nan 34. 21.]]\n"
     ]
    }
   ],
   "source": [
    "import numpy as np\n",
    "x = np.array(x)\n",
    "print(x)"
   ]
  },
  {
   "cell_type": "code",
   "execution_count": 53,
   "metadata": {},
   "outputs": [
    {
     "ename": "AttributeError",
     "evalue": "'matlab.object' object has no attribute 'yout'",
     "output_type": "error",
     "traceback": [
      "\u001b[0;31m---------------------------------------------------------------------------\u001b[0m",
      "\u001b[0;31mAttributeError\u001b[0m                            Traceback (most recent call last)",
      "\u001b[0;32m<ipython-input-53-91f6f4c60387>\u001b[0m in \u001b[0;36m<module>\u001b[0;34m\u001b[0m\n\u001b[1;32m      4\u001b[0m  'SaveFormat', 'Dataset');\n\u001b[1;32m      5\u001b[0m \u001b[0;31m# outputs = simOut.get('yout')\u001b[0m\u001b[0;34m\u001b[0m\u001b[0;34m\u001b[0m\u001b[0;34m\u001b[0m\u001b[0m\n\u001b[0;32m----> 6\u001b[0;31m \u001b[0mprint\u001b[0m\u001b[0;34m(\u001b[0m\u001b[0msimOut\u001b[0m\u001b[0;34m.\u001b[0m\u001b[0myout\u001b[0m\u001b[0;34m)\u001b[0m\u001b[0;34m\u001b[0m\u001b[0;34m\u001b[0m\u001b[0m\n\u001b[0m",
      "\u001b[0;31mAttributeError\u001b[0m: 'matlab.object' object has no attribute 'yout'"
     ]
    }
   ],
   "source": [
    "simOut = eng.sim('vdp','SimulationMode','normal','AbsTol','1e-5',\n",
    "            'SaveState','on','StateSaveName','xout',\n",
    "            'SaveOutput','on','OutputSaveName','yout',\n",
    " 'SaveFormat', 'Dataset');\n",
    "# outputs = simOut.get('yout')\n",
    "print(simOut.yout)"
   ]
  },
  {
   "cell_type": "code",
   "execution_count": null,
   "metadata": {},
   "outputs": [],
   "source": []
  },
  {
   "cell_type": "code",
   "execution_count": 26,
   "metadata": {},
   "outputs": [
    {
     "ename": "AttributeError",
     "evalue": "'matlab.object' object has no attribute '__dic__'",
     "output_type": "error",
     "traceback": [
      "\u001b[0;31m---------------------------------------------------------------------------\u001b[0m",
      "\u001b[0;31mAttributeError\u001b[0m                            Traceback (most recent call last)",
      "\u001b[0;32m<ipython-input-26-71aa1d224ece>\u001b[0m in \u001b[0;36m<module>\u001b[0;34m\u001b[0m\n\u001b[0;32m----> 1\u001b[0;31m \u001b[0mprint\u001b[0m\u001b[0;34m(\u001b[0m\u001b[0mres\u001b[0m\u001b[0;34m.\u001b[0m\u001b[0m__dic__\u001b[0m\u001b[0;34m)\u001b[0m\u001b[0;34m\u001b[0m\u001b[0;34m\u001b[0m\u001b[0m\n\u001b[0m",
      "\u001b[0;31mAttributeError\u001b[0m: 'matlab.object' object has no attribute '__dic__'"
     ]
    }
   ],
   "source": [
    "print(res.__dic__)"
   ]
  },
  {
   "cell_type": "code",
   "execution_count": 29,
   "metadata": {},
   "outputs": [
    {
     "name": "stdout",
     "output_type": "stream",
     "text": [
      "\n"
     ]
    }
   ],
   "source": [
    "\n",
    "eng.workspace[\"y\"] = [1,1,2]\n",
    "print(eng.workspace)"
   ]
  },
  {
   "cell_type": "code",
   "execution_count": 32,
   "metadata": {},
   "outputs": [
    {
     "name": "stdout",
     "output_type": "stream",
     "text": [
      "[1, 1, 2]\n"
     ]
    }
   ],
   "source": [
    "print(eng.workspace[\"y\"])"
   ]
  },
  {
   "cell_type": "code",
   "execution_count": 37,
   "metadata": {},
   "outputs": [
    {
     "data": {
      "text/plain": [
       "['__call__',\n",
       " '__class__',\n",
       " '__delattr__',\n",
       " '__dir__',\n",
       " '__doc__',\n",
       " '__eq__',\n",
       " '__format__',\n",
       " '__ge__',\n",
       " '__getattribute__',\n",
       " '__gt__',\n",
       " '__hash__',\n",
       " '__init__',\n",
       " '__init_subclass__',\n",
       " '__le__',\n",
       " '__lt__',\n",
       " '__module__',\n",
       " '__name__',\n",
       " '__ne__',\n",
       " '__new__',\n",
       " '__qualname__',\n",
       " '__reduce__',\n",
       " '__reduce_ex__',\n",
       " '__repr__',\n",
       " '__self__',\n",
       " '__setattr__',\n",
       " '__sizeof__',\n",
       " '__str__',\n",
       " '__subclasshook__',\n",
       " '__text_signature__']"
      ]
     },
     "execution_count": 37,
     "metadata": {},
     "output_type": "execute_result"
    }
   ],
   "source": [
    "dir(res.__dir__)"
   ]
  },
  {
   "cell_type": "code",
   "execution_count": null,
   "metadata": {},
   "outputs": [],
   "source": []
  }
 ],
 "metadata": {
  "kernelspec": {
   "display_name": "sigh",
   "language": "python",
   "name": "sigh"
  },
  "language_info": {
   "codemirror_mode": {
    "name": "ipython",
    "version": 3
   },
   "file_extension": ".py",
   "mimetype": "text/x-python",
   "name": "python",
   "nbconvert_exporter": "python",
   "pygments_lexer": "ipython3",
   "version": "3.7.3"
  },
  "toc-autonumbering": true
 },
 "nbformat": 4,
 "nbformat_minor": 4
}
