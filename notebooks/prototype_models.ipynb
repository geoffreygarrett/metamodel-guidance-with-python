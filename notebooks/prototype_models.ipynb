{
 "cells": [
  {
   "cell_type": "code",
   "execution_count": 1,
   "metadata": {},
   "outputs": [
    {
     "name": "stdout",
     "output_type": "stream",
     "text": [
      "/home/ggarrett/lab/NB10422645\n"
     ]
    },
    {
     "name": "stderr",
     "output_type": "stream",
     "text": [
      "/home/ggarrett/anaconda3/envs/sigh/lib/python3.7/site-packages/sklearn/externals/joblib/__init__.py:15: DeprecationWarning: sklearn.externals.joblib is deprecated in 0.21 and will be removed in 0.23. Please import this functionality directly from joblib, which can be installed with: pip install joblib. If this warning is raised when loading pickled models, you may need to re-serialize those models with scikit-learn 0.21+.\n",
      "  warnings.warn(msg, category=DeprecationWarning)\n"
     ]
    },
    {
     "name": "stdout",
     "output_type": "stream",
     "text": [
      "CPU times: user 1.22 s, sys: 367 ms, total: 1.58 s\n",
      "Wall time: 1.04 s\n"
     ]
    }
   ],
   "source": [
    "%%time\n",
    "\n",
    "%cd \"~/lab/NB10422645\"\n",
    "\n",
    "from src.surrogate.algorithms import ssifl2\n",
    "from src.surrogate.models import RandomForestRegression, SupportVectorRegression, FeedForwardNNRegression\n",
    "from sklearn.preprocessing import MinMaxScaler\n",
    "from src.surrogate.tools.matlab import idx_target_sim_func\n"
   ]
  },
  {
   "cell_type": "code",
   "execution_count": 36,
   "metadata": {},
   "outputs": [],
   "source": [
    "from scipy.io import loadmat\n",
    "import skopt\n",
    "from tqdm import tqdm_notebook as tqdm\n",
    "\n",
    "train = loadmat(\"simulation/data/rs_bicycle/idoe/rs_bicycle_UG_N3_S15.mat\") \n",
    "test = loadmat(\"simulation/data/rs_bicycle/idoe/rs_bicycle_UG_N3_S10.mat\")\n",
    "\n",
    "\n",
    "f1_sim=idx_target_sim_func(0, tag=\"f1\")\n",
    "f2_sim=idx_target_sim_func(1, tag=\"f2\")\n",
    "f3_sim=idx_target_sim_func(2, tag=\"f3\")\n",
    "\n",
    "\n",
    "class TqdmSkopt(object):\n",
    "    def __init__(self, **kwargs):\n",
    "        self._bar = tqdm(**kwargs)\n",
    "\n",
    "    def __call__(self, res):\n",
    "        self._bar.update()\n",
    "\n",
    "    def close(self):\n",
    "        self._bar.close()\n",
    "        self._bar.clear()\n",
    "        \n",
    "def evaluate(current_model, ep, validation_data):\n",
    "    y_pred = current_model.predict(validation_data[0])\n",
    "    epsilon = (np.max(validation_data[1]) - np.min(validation_data[1])) * ep\n",
    "    abs_error = np.abs(y_pred - validation_data[1])\n",
    "    Pr = len(abs_error[abs_error <= epsilon])/len(abs_error)\n",
    "    print(f\"Pr(|f(x)-f_s(x)| <= epsilon) = {Pr}\")\n",
    "\n",
    "\n",
    "def train_rs_bicycle_model(idx):\n",
    "    f_idx = idx\n",
    "    scaler=MinMaxScaler(feature_range=(0,10))\n",
    "    training_data = (train[\"X\"], scaler.fit_transform(train[\"F\"][:,f_idx].reshape(-1,1)).flatten())\n",
    "    validation_data = (test[\"X\"], scaler.transform(test[\"F\"][:,f_idx].reshape(-1,1)).flatten())\n",
    "    t_mod = SupportVectorRegression()\n",
    "    hpopt_space = t_mod.space\n",
    "    @skopt.utils.use_named_args(hpopt_space)\n",
    "    def objective(**params):\n",
    "        t_mod.reset_model()\n",
    "        static_params = {\"training_data\": training_data, \"validation_data\": validation_data,\n",
    "                         \"Xdim\": len(training_data[0][0]), \"fdim\": 1}\n",
    "        t_mod.static_params = static_params\n",
    "        t_mod.hyper_params = params\n",
    "        t_mod.fit(*training_data)\n",
    "        return -t_mod.score(*validation_data)\n",
    "\n",
    "    n_calls=15\n",
    "    total=15\n",
    "    progress = TqdmSkopt(total=total, desc=\"Model HpOpt\", leave=False)\n",
    "    results = skopt.forest_minimize(objective, hpopt_space, verbose=False, n_calls=n_calls,\n",
    "                                    callback=[progress])\n",
    "    t_mod.reset_model()\n",
    "    static_params = {\"training_data\": training_data, \"validation_data\": validation_data,\n",
    "                     \"Xdim\": len(training_data[0][0]), \"fdim\": 1}\n",
    "    t_mod.static_params = static_params\n",
    "    t_mod.hyper_params = t_mod.hyper_params_x(results.x)\n",
    "    current_model = t_mod\n",
    "    current_model.fit(*training_data)\n",
    "    return current_model, scaler, training_data, validation_data\n",
    "    "
   ]
  },
  {
   "cell_type": "code",
   "execution_count": 149,
   "metadata": {},
   "outputs": [
    {
     "name": "stdout",
     "output_type": "stream",
     "text": [
      "Pr(|f(x)-f_s(x)| <= epsilon) = 1.0\n",
      "Pr(|f(x)-f_s(x)| <= epsilon) = 0.999\n",
      "Pr(|f(x)-f_s(x)| <= epsilon) = 0.726\n"
     ]
    }
   ],
   "source": [
    "# f1_model, s1, t1, v1 = train_rs_bicycle_model(0)\n",
    "evaluate(f1_model, 0.10, v1)\n",
    "evaluate(f1_model, 0.05, v1)\n",
    "evaluate(f1_model, 0.01, v1)"
   ]
  },
  {
   "cell_type": "code",
   "execution_count": 289,
   "metadata": {},
   "outputs": [
    {
     "name": "stdout",
     "output_type": "stream",
     "text": [
      "Pr(|f(x)-f_s(x)| <= epsilon) = 1.0\n",
      "Pr(|f(x)-f_s(x)| <= epsilon) = 0.999\n",
      "Pr(|f(x)-f_s(x)| <= epsilon) = 0.68\n"
     ]
    }
   ],
   "source": [
    "# f2_model, s2, t2, v2 = train_rs_bicycle_model(1)\n",
    "evaluate(f2_model, 0.10, v2)\n",
    "evaluate(f2_model, 0.05, v2)\n",
    "evaluate(f2_model, 0.01, v2)"
   ]
  },
  {
   "cell_type": "code",
   "execution_count": 290,
   "metadata": {},
   "outputs": [
    {
     "name": "stdout",
     "output_type": "stream",
     "text": [
      "Pr(|f(x)-f_s(x)| <= epsilon) = 0.995\n",
      "Pr(|f(x)-f_s(x)| <= epsilon) = 0.954\n",
      "Pr(|f(x)-f_s(x)| <= epsilon) = 0.65\n"
     ]
    }
   ],
   "source": [
    "# f3_model, s3, t3, v3 = train_rs_bicycle_model(2)\n",
    "# evaluate(f3_model, 0.1, v3)\n",
    "evaluate(f3_model, 0.10, v3)\n",
    "evaluate(f3_model, 0.05, v3)\n",
    "evaluate(f3_model, 0.01, v3)"
   ]
  },
  {
   "cell_type": "code",
   "execution_count": 57,
   "metadata": {},
   "outputs": [],
   "source": [
    "def make_function_from_mod(model, scaler):\n",
    "    def f(*X):\n",
    "        return scaler.inverse_transform(model.predict(np.array([X])).reshape(-1,1)).flatten()[0]\n",
    "    return f\n",
    "\n",
    "def make_function_from_sim(sim_f):\n",
    "    def f(*X):\n",
    "        return sim_f(*np.array([X]).T)[0]\n",
    "    return f"
   ]
  },
  {
   "cell_type": "code",
   "execution_count": 79,
   "metadata": {},
   "outputs": [
    {
     "data": {
      "application/vnd.jupyter.widget-view+json": {
       "model_id": "",
       "version_major": 2,
       "version_minor": 0
      },
      "text/plain": [
       "HBox(children=(IntProgress(value=0, description='Saving designs', max=1, style=ProgressStyle(description_width…"
      ]
     },
     "metadata": {},
     "output_type": "display_data"
    },
    {
     "data": {
      "application/vnd.jupyter.widget-view+json": {
       "model_id": "",
       "version_major": 2,
       "version_minor": 0
      },
      "text/plain": [
       "HBox(children=(IntProgress(value=0, description='Simulating', max=1, style=ProgressStyle(description_width='in…"
      ]
     },
     "metadata": {},
     "output_type": "display_data"
    },
    {
     "name": "stdout",
     "output_type": "stream",
     "text": [
      "[0.8931 0.8895]\n"
     ]
    },
    {
     "data": {
      "application/vnd.jupyter.widget-view+json": {
       "model_id": "",
       "version_major": 2,
       "version_minor": 0
      },
      "text/plain": [
       "HBox(children=(IntProgress(value=0, description='Saving designs', max=1, style=ProgressStyle(description_width…"
      ]
     },
     "metadata": {},
     "output_type": "display_data"
    },
    {
     "data": {
      "application/vnd.jupyter.widget-view+json": {
       "model_id": "",
       "version_major": 2,
       "version_minor": 0
      },
      "text/plain": [
       "HBox(children=(IntProgress(value=0, description='Simulating', max=1, style=ProgressStyle(description_width='in…"
      ]
     },
     "metadata": {},
     "output_type": "display_data"
    },
    {
     "name": "stdout",
     "output_type": "stream",
     "text": [
      "[0.1556 0.1543]\n"
     ]
    },
    {
     "data": {
      "application/vnd.jupyter.widget-view+json": {
       "model_id": "",
       "version_major": 2,
       "version_minor": 0
      },
      "text/plain": [
       "HBox(children=(IntProgress(value=0, description='Saving designs', max=1, style=ProgressStyle(description_width…"
      ]
     },
     "metadata": {},
     "output_type": "display_data"
    },
    {
     "data": {
      "application/vnd.jupyter.widget-view+json": {
       "model_id": "",
       "version_major": 2,
       "version_minor": 0
      },
      "text/plain": [
       "HBox(children=(IntProgress(value=0, description='Simulating', max=1, style=ProgressStyle(description_width='in…"
      ]
     },
     "metadata": {},
     "output_type": "display_data"
    },
    {
     "name": "stdout",
     "output_type": "stream",
     "text": [
      "[181.7331 181.176 ]\n"
     ]
    }
   ],
   "source": [
    "f1_s = make_function_from_mod(f1_model, s1)\n",
    "f2_s = make_function_from_mod(f2_model, s2)\n",
    "f3_s = make_function_from_mod(f3_model, s3)\n",
    "\n",
    "f1   = make_function_from_sim(f1_sim)\n",
    "f2   = make_function_from_sim(f2_sim)\n",
    "f3   = make_function_from_sim(f3_sim)\n",
    "\n",
    "\n",
    "X_test = [0.1,0.9,0.1]\n",
    "\n",
    "for pair in [(f1,f1_s),(f2,f2_s),(f3,f3_s)]:\n",
    "    print(np.round(np.array([pair[0](*X_test), pair[1](*X_test)]),4))"
   ]
  },
  {
   "cell_type": "code",
   "execution_count": null,
   "metadata": {},
   "outputs": [],
   "source": [
    "# f_ = [f1,f2,f3]\n",
    "\n",
    "# f_[0]"
   ]
  },
  {
   "cell_type": "code",
   "execution_count": 64,
   "metadata": {},
   "outputs": [
    {
     "data": {
      "application/vnd.jupyter.widget-view+json": {
       "model_id": "",
       "version_major": 2,
       "version_minor": 0
      },
      "text/plain": [
       "HBox(children=(IntProgress(value=0, description='Saving designs', max=1, style=ProgressStyle(description_width…"
      ]
     },
     "metadata": {},
     "output_type": "display_data"
    },
    {
     "data": {
      "application/vnd.jupyter.widget-view+json": {
       "model_id": "",
       "version_major": 2,
       "version_minor": 0
      },
      "text/plain": [
       "HBox(children=(IntProgress(value=0, description='Simulating', max=1, style=ProgressStyle(description_width='in…"
      ]
     },
     "metadata": {},
     "output_type": "display_data"
    },
    {
     "data": {
      "application/vnd.jupyter.widget-view+json": {
       "model_id": "",
       "version_major": 2,
       "version_minor": 0
      },
      "text/plain": [
       "HBox(children=(IntProgress(value=0, description='Saving designs', max=1, style=ProgressStyle(description_width…"
      ]
     },
     "metadata": {},
     "output_type": "display_data"
    },
    {
     "data": {
      "application/vnd.jupyter.widget-view+json": {
       "model_id": "",
       "version_major": 2,
       "version_minor": 0
      },
      "text/plain": [
       "HBox(children=(IntProgress(value=0, description='Simulating', max=1, style=ProgressStyle(description_width='in…"
      ]
     },
     "metadata": {},
     "output_type": "display_data"
    },
    {
     "data": {
      "application/vnd.jupyter.widget-view+json": {
       "model_id": "",
       "version_major": 2,
       "version_minor": 0
      },
      "text/plain": [
       "HBox(children=(IntProgress(value=0, description='Saving designs', max=1, style=ProgressStyle(description_width…"
      ]
     },
     "metadata": {},
     "output_type": "display_data"
    },
    {
     "data": {
      "application/vnd.jupyter.widget-view+json": {
       "model_id": "",
       "version_major": 2,
       "version_minor": 0
      },
      "text/plain": [
       "HBox(children=(IntProgress(value=0, description='Simulating', max=1, style=ProgressStyle(description_width='in…"
      ]
     },
     "metadata": {},
     "output_type": "display_data"
    },
    {
     "data": {
      "application/vnd.jupyter.widget-view+json": {
       "model_id": "",
       "version_major": 2,
       "version_minor": 0
      },
      "text/plain": [
       "HBox(children=(IntProgress(value=0, description='Saving designs', max=1, style=ProgressStyle(description_width…"
      ]
     },
     "metadata": {},
     "output_type": "display_data"
    },
    {
     "data": {
      "application/vnd.jupyter.widget-view+json": {
       "model_id": "",
       "version_major": 2,
       "version_minor": 0
      },
      "text/plain": [
       "HBox(children=(IntProgress(value=0, description='Simulating', max=1, style=ProgressStyle(description_width='in…"
      ]
     },
     "metadata": {},
     "output_type": "display_data"
    },
    {
     "data": {
      "application/vnd.jupyter.widget-view+json": {
       "model_id": "",
       "version_major": 2,
       "version_minor": 0
      },
      "text/plain": [
       "HBox(children=(IntProgress(value=0, description='Saving designs', max=1, style=ProgressStyle(description_width…"
      ]
     },
     "metadata": {},
     "output_type": "display_data"
    },
    {
     "data": {
      "application/vnd.jupyter.widget-view+json": {
       "model_id": "",
       "version_major": 2,
       "version_minor": 0
      },
      "text/plain": [
       "HBox(children=(IntProgress(value=0, description='Simulating', max=1, style=ProgressStyle(description_width='in…"
      ]
     },
     "metadata": {},
     "output_type": "display_data"
    },
    {
     "data": {
      "application/vnd.jupyter.widget-view+json": {
       "model_id": "",
       "version_major": 2,
       "version_minor": 0
      },
      "text/plain": [
       "HBox(children=(IntProgress(value=0, description='Saving designs', max=1, style=ProgressStyle(description_width…"
      ]
     },
     "metadata": {},
     "output_type": "display_data"
    },
    {
     "data": {
      "application/vnd.jupyter.widget-view+json": {
       "model_id": "",
       "version_major": 2,
       "version_minor": 0
      },
      "text/plain": [
       "HBox(children=(IntProgress(value=0, description='Simulating', max=1, style=ProgressStyle(description_width='in…"
      ]
     },
     "metadata": {},
     "output_type": "display_data"
    },
    {
     "data": {
      "application/vnd.jupyter.widget-view+json": {
       "model_id": "",
       "version_major": 2,
       "version_minor": 0
      },
      "text/plain": [
       "HBox(children=(IntProgress(value=0, description='Saving designs', max=1, style=ProgressStyle(description_width…"
      ]
     },
     "metadata": {},
     "output_type": "display_data"
    },
    {
     "data": {
      "application/vnd.jupyter.widget-view+json": {
       "model_id": "",
       "version_major": 2,
       "version_minor": 0
      },
      "text/plain": [
       "HBox(children=(IntProgress(value=0, description='Simulating', max=1, style=ProgressStyle(description_width='in…"
      ]
     },
     "metadata": {},
     "output_type": "display_data"
    },
    {
     "data": {
      "application/vnd.jupyter.widget-view+json": {
       "model_id": "",
       "version_major": 2,
       "version_minor": 0
      },
      "text/plain": [
       "HBox(children=(IntProgress(value=0, description='Saving designs', max=1, style=ProgressStyle(description_width…"
      ]
     },
     "metadata": {},
     "output_type": "display_data"
    },
    {
     "data": {
      "application/vnd.jupyter.widget-view+json": {
       "model_id": "",
       "version_major": 2,
       "version_minor": 0
      },
      "text/plain": [
       "HBox(children=(IntProgress(value=0, description='Simulating', max=1, style=ProgressStyle(description_width='in…"
      ]
     },
     "metadata": {},
     "output_type": "display_data"
    },
    {
     "name": "stdout",
     "output_type": "stream",
     "text": [
      "593 ms ± 69.5 ms per loop (mean ± std. dev. of 7 runs, 1 loop each)\n"
     ]
    }
   ],
   "source": [
    "%%timeit\n",
    "\n",
    "f1(*X_test)"
   ]
  },
  {
   "cell_type": "code",
   "execution_count": 63,
   "metadata": {},
   "outputs": [
    {
     "name": "stdout",
     "output_type": "stream",
     "text": [
      "207 µs ± 44.5 µs per loop (mean ± std. dev. of 7 runs, 1000 loops each)\n"
     ]
    }
   ],
   "source": [
    "%%timeit\n",
    "\n",
    "f1_s(*X_test)"
   ]
  },
  {
   "cell_type": "code",
   "execution_count": 267,
   "metadata": {},
   "outputs": [],
   "source": [
    "import pygmo as pg\n",
    "from src.optimisation import GlobalOptimisation, OptimisationRoutine, PopulationManager, LocalOptimisation\n",
    "\n",
    "\n",
    "class BicycleProblemS1:\n",
    "    def __init__(self, f, bf=None):\n",
    "        self.f = f\n",
    "        self.bf = bf\n",
    "        \n",
    "    def fitness(self, x):\n",
    "        obj = -self.f[1](*x)\n",
    "        ce1 = self.f[0](*x) - 1.0\n",
    "        ci1 = 150 - self.f[2](*x)\n",
    "        return [obj, ce1, ci1]\n",
    "        \n",
    "    def get_bounds(self):\n",
    "        return ([0.]*3, [1.]*3)\n",
    "    \n",
    "    def get_nic(self):\n",
    "        return 1\n",
    "\n",
    "    def get_nec(self):\n",
    "        return 1\n",
    "    \n",
    "class BicycleProblemS2:\n",
    "    def __init__(self, f, bf=None):\n",
    "        self.f = f\n",
    "        self.bf = bf\n",
    "        \n",
    "    def fitness(self, x):\n",
    "        obj = self.f[1](*x)\n",
    "        ce1 = self.f[0](*x) - 1.0\n",
    "        ci1 = 150 - self.f[2](*x)\n",
    "        return [obj, ce1, ci1]\n",
    "        \n",
    "    def get_bounds(self):\n",
    "        return ([0.]*3, [1.]*3)\n",
    "    \n",
    "    def get_nic(self):\n",
    "        return 1\n",
    "\n",
    "    def get_nec(self):\n",
    "        return 1\n",
    "    \n",
    "class BicycleProblemS3:\n",
    "    def __init__(self, f, bf=None):\n",
    "        self.f = f\n",
    "        self.bf = bf\n",
    "        \n",
    "    def fitness(self, x):\n",
    "        obj = -self.f[0](*x)\n",
    "        ce1 = 0.1 - self.f[1](*x)\n",
    "        ci1 = 150 - self.f[2](*x)\n",
    "        return [obj, ce1, ci1]\n",
    "        \n",
    "    def get_bounds(self):\n",
    "        return ([0.]*3, [1.]*3)\n",
    "    \n",
    "    def get_nic(self):\n",
    "        return 1\n",
    "\n",
    "    def get_nec(self):\n",
    "        return 1\n",
    "    \n",
    "# class BicycleProblemS2:\n",
    "#     def __init__(self, f, bf=None):\n",
    "#         self.f = f\n",
    "#         self.bf = bf\n",
    "        \n",
    "#     def fitness(self, x):\n",
    "#         obj = -self.f[1](*x)\n",
    "#         ce1 = self.f[0](*x) - 1.0\n",
    "#         ci1 = 200 - self.f[2](*x)\n",
    "#         return [obj, ce1, ci1]\n",
    "        \n",
    "#     def get_bounds(self):\n",
    "#         return ([0.]*3, [1.]*3)\n",
    "    \n",
    "#     def get_nic(self):\n",
    "#         return 1\n",
    "\n",
    "#     def get_nec(self):\n",
    "#         return 1\n",
    "    \n",
    "    \n",
    "#     def gradient(self, x):\n",
    "#         return pg.estimate_gradient_h(lambda x: self.fitness(x), x)\n",
    "    \n",
    "    \n",
    "surrogate_problemS1 = pg.problem(BicycleProblemS1([f1_s, f2_s, f3_s]))\n",
    "surrogate_problemS2 = pg.problem(BicycleProblemS2([f1_s, f2_s, f3_s]))\n",
    "surrogate_problemS3 = pg.problem(BicycleProblemS3([f1_s, f2_s, f3_s]))\n",
    "\n",
    "simulated_problemS1 = pg.problem(BicycleProblemS1([f1, f2, f3], [f1_sim, f2_sim, f3_sim]))\n",
    "simulated_problemS2 = pg.problem(BicycleProblemS2([f1, f2, f3], [f1_sim, f2_sim, f3_sim]))\n",
    "simulated_problemS3 = pg.problem(BicycleProblemS3([f1, f2, f3], [f1_sim, f2_sim, f3_sim]))\n",
    "\n",
    "class bfe_sim:\n",
    "    \n",
    "    def __init__(self):\n",
    "        pass\n",
    "        \n",
    "    def __call__(self, prob, dvs):\n",
    "        print(dvs.shape)\n",
    "        return np.hstack([np.array(_bf(dvs.reshape(-1,3))).reshape(-1,1) for _bf in prob.bf]).flatten()\n",
    "        \n",
    "\n",
    "# pop_surrogate = pg.population(surrogate_problem, 100)\n",
    "# pop_simulated = pg.population(simulated_problem, 5, pg.bfe(bfe_sim()))\n",
    "\n",
    "routine = [\n",
    "    GlobalOptimisation.gaco(gen=20),\n",
    "    LocalOptimisation.compass(300)\n",
    "]\n",
    "\n",
    "\n",
    "# opt1 = OptimisationRoutine.from_list_algos(pop_surrogate, routine, verbosity=2)\n",
    "# print(np.round(opt1.champion_x, 4))\n",
    "# print(np.round(opt1.champion_f, 4))"
   ]
  },
  {
   "cell_type": "code",
   "execution_count": 143,
   "metadata": {},
   "outputs": [
    {
     "name": "stdout",
     "output_type": "stream",
     "text": [
      "[0.7742 0.0535 0.4692]\n",
      "[ -0.1509   0.     -28.4374]\n"
     ]
    }
   ],
   "source": [
    "# opt1 = OptimisationRoutine.from_list_algos(pop_surrogate, routine, verbosity=2)\n",
    "# print(np.round(opt1.champion_x, 4))\n",
    "# print(np.round(opt1.champion_f, 4))"
   ]
  },
  {
   "cell_type": "code",
   "execution_count": 145,
   "metadata": {},
   "outputs": [
    {
     "name": "stdout",
     "output_type": "stream",
     "text": [
      "[0.7635 0.066  0.4498]\n",
      "[ -0.1599  -0.     -33.0394]\n"
     ]
    }
   ],
   "source": [
    "# opt1 = OptimisationRoutine.from_list_algos(pop_surrogate, routine, verbosity=2)\n",
    "# print(np.round(opt1.champion_x,4))\n",
    "# print(np.round(opt1.champion_f, 4))"
   ]
  },
  {
   "cell_type": "code",
   "execution_count": 254,
   "metadata": {},
   "outputs": [
    {
     "name": "stdout",
     "output_type": "stream",
     "text": [
      "1/500\n",
      "2/500\n",
      "3/500\n",
      "4/500\n",
      "5/500\n",
      "6/500\n",
      "7/500\n",
      "8/500\n",
      "9/500\n",
      "10/500\n",
      "11/500\n",
      "12/500\n",
      "13/500\n",
      "14/500\n",
      "15/500\n",
      "16/500\n",
      "17/500\n",
      "18/500\n",
      "19/500\n",
      "20/500\n",
      "21/500\n",
      "22/500\n",
      "23/500\n",
      "24/500\n",
      "25/500\n",
      "26/500\n",
      "27/500\n",
      "28/500\n",
      "29/500\n",
      "30/500\n",
      "31/500\n",
      "32/500\n",
      "33/500\n",
      "34/500\n",
      "35/500\n",
      "36/500\n",
      "37/500\n",
      "38/500\n",
      "39/500\n",
      "40/500\n",
      "41/500\n",
      "42/500\n",
      "43/500\n",
      "44/500\n",
      "45/500\n",
      "46/500\n",
      "47/500\n",
      "48/500\n",
      "49/500\n",
      "50/500\n",
      "51/500\n",
      "52/500\n",
      "53/500\n",
      "54/500\n",
      "55/500\n",
      "56/500\n",
      "57/500\n",
      "58/500\n",
      "59/500\n",
      "60/500\n",
      "61/500\n",
      "62/500\n",
      "63/500\n",
      "64/500\n",
      "65/500\n",
      "66/500\n",
      "67/500\n",
      "68/500\n",
      "69/500\n",
      "70/500\n",
      "71/500\n",
      "72/500\n",
      "73/500\n",
      "74/500\n",
      "75/500\n",
      "76/500\n",
      "77/500\n",
      "78/500\n",
      "79/500\n",
      "80/500\n",
      "81/500\n",
      "82/500\n",
      "83/500\n",
      "84/500\n",
      "85/500\n",
      "86/500\n",
      "87/500\n",
      "88/500\n",
      "89/500\n",
      "90/500\n",
      "91/500\n",
      "92/500\n",
      "93/500\n",
      "94/500\n",
      "95/500\n",
      "96/500\n",
      "97/500\n",
      "98/500\n",
      "99/500\n",
      "100/500\n"
     ]
    }
   ],
   "source": [
    "# opt2_hist_X = []\n",
    "# opt2_hist_f = []\n",
    "\n",
    "for i in range(100):\n",
    "    print(f\"{i+1}/100\") if i%10==0 else False\n",
    "    opt2 = OptimisationRoutine.from_list_algos( pg.population(surrogate_problemS2, 100), routine, verbosity=2)\n",
    "    opt2_hist_X.append(opt2.champion_x)\n",
    "    opt2_hist_f.append(opt2.champion_f) "
   ]
  },
  {
   "cell_type": "code",
   "execution_count": 268,
   "metadata": {},
   "outputs": [
    {
     "name": "stdout",
     "output_type": "stream",
     "text": [
      "1/500\n",
      "51/500\n"
     ]
    }
   ],
   "source": [
    "opt3_hist_X = []\n",
    "opt3_hist_f = []\n",
    "\n",
    "for i in range(100):\n",
    "    print(f\"{i+1}/100\") if i%10==0 else False\n",
    "    opt3 = OptimisationRoutine.from_list_algos( pg.population(surrogate_problemS3, 100), routine, verbosity=2)\n",
    "    opt3_hist_X.append(opt3.champion_x)\n",
    "    opt3_hist_f.append(opt3.champion_f) "
   ]
  },
  {
   "cell_type": "code",
   "execution_count": 253,
   "metadata": {},
   "outputs": [
    {
     "name": "stdout",
     "output_type": "stream",
     "text": [
      "1/100\n",
      "2/100\n",
      "3/100\n",
      "4/100\n",
      "5/100\n",
      "6/100\n",
      "7/100\n",
      "8/100\n",
      "9/100\n",
      "10/100\n",
      "11/100\n",
      "12/100\n",
      "13/100\n",
      "14/100\n",
      "15/100\n",
      "16/100\n",
      "17/100\n",
      "18/100\n",
      "19/100\n",
      "20/100\n",
      "21/100\n",
      "22/100\n",
      "23/100\n",
      "24/100\n",
      "25/100\n",
      "26/100\n",
      "27/100\n",
      "28/100\n",
      "29/100\n",
      "30/100\n",
      "31/100\n",
      "32/100\n",
      "33/100\n",
      "34/100\n",
      "35/100\n",
      "36/100\n",
      "37/100\n",
      "38/100\n",
      "39/100\n",
      "40/100\n",
      "41/100\n",
      "42/100\n",
      "43/100\n",
      "44/100\n",
      "45/100\n",
      "46/100\n",
      "47/100\n",
      "48/100\n",
      "49/100\n",
      "50/100\n",
      "51/100\n",
      "52/100\n",
      "53/100\n",
      "54/100\n",
      "55/100\n",
      "56/100\n",
      "57/100\n",
      "58/100\n",
      "59/100\n",
      "60/100\n",
      "61/100\n",
      "62/100\n",
      "63/100\n",
      "64/100\n",
      "65/100\n",
      "66/100\n",
      "67/100\n",
      "68/100\n",
      "69/100\n",
      "70/100\n",
      "71/100\n",
      "72/100\n",
      "73/100\n",
      "74/100\n",
      "75/100\n",
      "76/100\n",
      "77/100\n",
      "78/100\n",
      "79/100\n",
      "80/100\n",
      "81/100\n",
      "82/100\n",
      "83/100\n",
      "84/100\n",
      "85/100\n",
      "86/100\n",
      "87/100\n",
      "88/100\n",
      "89/100\n",
      "90/100\n",
      "91/100\n",
      "92/100\n",
      "93/100\n",
      "94/100\n",
      "95/100\n",
      "96/100\n",
      "97/100\n",
      "98/100\n",
      "99/100\n",
      "100/100\n"
     ]
    }
   ],
   "source": [
    "# opt2_hist_X = []\n",
    "# opt2_hist_f = []\n",
    "\n",
    "for i in range(100):\n",
    "    print(f\"{i+1}/100\") if i%10==0 else False\n",
    "    opt1 = OptimisationRoutine.from_list_algos( pg.population(surrogate_problemS1, 100), routine, verbosity=2)\n",
    "    opt1_hist_X.append(opt1.champion_x)\n",
    "    opt1_hist_f.append(opt1.champion_f)    "
   ]
  },
  {
   "cell_type": "code",
   "execution_count": 291,
   "metadata": {},
   "outputs": [],
   "source": [
    "\n",
    "X_S1 = np.array(opt1_hist_X)\n",
    "X_S2 = np.array(opt2_hist_X)\n",
    "X_S3 = np.array(opt3_hist_X)\n",
    "X_all = np.array(opt1_hist_X+opt2_hist_X+opt3_hist_X)\n",
    "\n",
    "f_S1 = np.array(opt1_hist_f)\n",
    "f_S2 = np.array(opt2_hist_f)\n",
    "f_S3 = np.array(opt3_hist_f)\n",
    "f_all = np.array(opt1_hist_f+opt2_hist_f+opt3_hist_f)\n"
   ]
  },
  {
   "cell_type": "code",
   "execution_count": 304,
   "metadata": {},
   "outputs": [
    {
     "name": "stdout",
     "output_type": "stream",
     "text": [
      "score:  -0.424291674127796\n",
      "[0.04334303 0.96008172 0.08347628] [-0.1461 -0.0911 -0.0244]\n",
      "[0.0015 0.0227 0.1169]\n",
      "[0.94500908 0.92485291 0.94238708] [-1.4190e-01 -4.0000e-04 -3.5949e+00]\n",
      "[1.3000e-03 3.1000e-03 2.3741e+00]\n",
      "[0.95612184 0.78740861 0.94953863] [-0.1413 -0.     -2.2213]\n",
      "[5.0000e-04 0.0000e+00 1.3613e+00]\n",
      "score:  -1.1372347660160609\n",
      "[0.67499489 0.81453963 0.33974418] [ 0.1335 -0.0196 -3.0041]\n",
      "[0.0131 0.0152 4.2334]\n",
      "[0.94310296 0.89250184 0.93945614] [ 1.4200e-01 -1.9000e-03 -2.9939e+00]\n",
      "[1.3000e-03 3.5000e-03 2.5981e+00]\n",
      "score:  -15.204204668154876\n",
      "[0.29239002 0.6130025  0.62359087] [ -0.5387   0.     -67.2239]\n",
      "[ 0.0426  0.     13.8548]\n"
     ]
    },
    {
     "data": {
      "image/png": "[encoded data removed]",
      "text/plain": [
       "<Figure size 3200x2000 with 1 Axes>"
      ]
     },
     "metadata": {
      "needs_background": "light"
     },
     "output_type": "display_data"
    }
   ],
   "source": [
    "\n",
    "\n",
    "from sklearn.cluster import KMeans\n",
    "import numpy as np\n",
    "import matplotlib.pyplot as plt\n",
    "from sklearn.decomposition import PCA\n",
    "\n",
    "n_c = 4\n",
    "pca = PCA(n_components=2)\n",
    "pca_trans = pca.fit(X_all)\n",
    "\n",
    "def k_means_analysis(n_c, X, f):\n",
    "    kmeans = KMeans(n_clusters=n_c, random_state=0).fit(X)\n",
    "    kmeans.labels_\n",
    "    print(\"score: \", kmeans.score(X))\n",
    "    idx = kmeans.labels_\n",
    "\n",
    "    for i in range(n_c):\n",
    "        print(np.mean(X[idx==i],axis=0), np.round(np.mean(f[idx==i],axis=0),4))\n",
    "        print(np.round((np.var(f[idx==i],axis=0)**(1/2)),4))\n",
    "\n",
    "\n",
    "def pca_2d_plot(X, lab=None):\n",
    "    import numpy as np\n",
    "    x2 = pca_trans.transform(X)\n",
    "    plt.scatter(*x2.T, label=lab)\n",
    "\n",
    "\n",
    "\n",
    "k_means_analysis(3, X_S1, f_S1)\n",
    "k_means_analysis(2, X_S2, f_S2)\n",
    "k_means_analysis(1, X_S3, f_S3)\n",
    "\n",
    "\n",
    "plt.figure(figsize=(8,5), dpi=400)\n",
    "pca_2d_plot(X_S1, lab=\"S1\")\n",
    "pca_2d_plot(X_S2, lab=\"S2\")\n",
    "pca_2d_plot(X_S3, lab=\"S3\")\n",
    "plt.legend()\n",
    "plt.savefig(\"notebooks/test.png\")\n",
    "\n",
    "def pca_joint_2d(X_all,f_all, Xt,ft):\n",
    "    pca = PCA(n_components=2)\n",
    "    s_all = np.hstack([X_all,f_all])\n",
    "    pca_trans = pca.fit(s_all)\n",
    "    \n",
    "    s_t = np.hstack([Xt, ft])\n",
    "    x2 = pca_trans.transform(s_t)\n",
    "    plt.scatter(*x2.T)\n",
    "\n",
    "def k_means_joint(n_c, X, f=None):\n",
    "    s = np.hstack([X,f]) if f is not None else X\n",
    "    kmeans = KMeans(n_clusters=n_c, random_state=0).fit(s)\n",
    "    kmeans.labels_\n",
    "    print(\"score: \", kmeans.score(s))\n",
    "    idx = kmeans.labels_\n",
    "    for i in range(n_c):\n",
    "        print(np.mean(s[idx==i],axis=0))\n",
    "    \n",
    "    \n",
    "    \n",
    "# pca_joint_2d(X_all, f_all, X_S1, f_S1)\n",
    "# pca_joint_2d(X_all, f_all, X_S2, f_S2)\n",
    "\n",
    "# k_means_joint(4, X_all)\n",
    "# pca_joint_2d(X_all, f_all, X_S1, f_S1)"
   ]
  },
  {
   "cell_type": "markdown",
   "metadata": {},
   "source": [
    "# SIFL"
   ]
  },
  {
   "cell_type": "markdown",
   "metadata": {},
   "source": [
    "## $\\epsilon$ and $\\delta$ setting for learning."
   ]
  },
  {
   "cell_type": "code",
   "execution_count": 2,
   "metadata": {},
   "outputs": [],
   "source": [
    "epsilon = 0.15\n",
    "delta = 0.2"
   ]
  },
  {
   "cell_type": "markdown",
   "metadata": {},
   "source": [
    "## $f_1$: Fraction of total cycling track travelled in T."
   ]
  },
  {
   "cell_type": "code",
   "execution_count": 3,
   "metadata": {
    "scrolled": true
   },
   "outputs": [
    {
     "data": {
      "application/vnd.jupyter.widget-view+json": {
       "model_id": "",
       "version_major": 2,
       "version_minor": 0
      },
      "text/plain": [
       "HBox(children=(IntProgress(value=0, description='Iterating CVT', max=50, style=ProgressStyle(description_width…"
      ]
     },
     "metadata": {},
     "output_type": "display_data"
    },
    {
     "name": "stdout",
     "output_type": "stream",
     "text": [
      "\r"
     ]
    },
    {
     "data": {
      "application/vnd.jupyter.widget-view+json": {
       "model_id": "",
       "version_major": 2,
       "version_minor": 0
      },
      "text/plain": [
       "HBox(children=(IntProgress(value=0, description='Saving designs', max=81, style=ProgressStyle(description_widt…"
      ]
     },
     "metadata": {},
     "output_type": "display_data"
    },
    {
     "name": "stdout",
     "output_type": "stream",
     "text": [
      "\r"
     ]
    },
    {
     "data": {
      "application/vnd.jupyter.widget-view+json": {
       "model_id": "",
       "version_major": 2,
       "version_minor": 0
      },
      "text/plain": [
       "HBox(children=(IntProgress(value=0, description='Simulating', max=9, style=ProgressStyle(description_width='in…"
      ]
     },
     "metadata": {},
     "output_type": "display_data"
    },
    {
     "name": "stdout",
     "output_type": "stream",
     "text": [
      "\r"
     ]
    },
    {
     "data": {
      "application/vnd.jupyter.widget-view+json": {
       "model_id": "",
       "version_major": 2,
       "version_minor": 0
      },
      "text/plain": [
       "HBox(children=(IntProgress(value=0, description='Model HpOpt', max=40, style=ProgressStyle(description_width='…"
      ]
     },
     "metadata": {},
     "output_type": "display_data"
    },
    {
     "name": "stdout",
     "output_type": "stream",
     "text": [
      "+------+---------+--------------------+----------+------------------------------+\n",
      "| iter | s_train | n_s_test < epsilon | n_s_test | Pr(|fsm(x)-f(x)| <= epsilon) |\n",
      "+------+---------+--------------------+----------+------------------------------+\n",
      "|  1   |   64    |         9          |    17    |            0.529             |\n"
     ]
    },
    {
     "data": {
      "application/vnd.jupyter.widget-view+json": {
       "model_id": "",
       "version_major": 2,
       "version_minor": 0
      },
      "text/plain": [
       "HBox(children=(IntProgress(value=0, description='Saving designs', max=22, style=ProgressStyle(description_widt…"
      ]
     },
     "metadata": {},
     "output_type": "display_data"
    },
    {
     "name": "stdout",
     "output_type": "stream",
     "text": [
      "\r"
     ]
    },
    {
     "data": {
      "application/vnd.jupyter.widget-view+json": {
       "model_id": "",
       "version_major": 2,
       "version_minor": 0
      },
      "text/plain": [
       "HBox(children=(IntProgress(value=0, description='Simulating', max=3, style=ProgressStyle(description_width='in…"
      ]
     },
     "metadata": {},
     "output_type": "display_data"
    },
    {
     "name": "stdout",
     "output_type": "stream",
     "text": [
      "\r"
     ]
    },
    {
     "data": {
      "application/vnd.jupyter.widget-view+json": {
       "model_id": "",
       "version_major": 2,
       "version_minor": 0
      },
      "text/plain": [
       "HBox(children=(IntProgress(value=0, description='Model HpOpt', max=15, style=ProgressStyle(description_width='…"
      ]
     },
     "metadata": {},
     "output_type": "display_data"
    },
    {
     "name": "stdout",
     "output_type": "stream",
     "text": [
      "|  2   |   81    |         13         |    22    |            0.591             |\n"
     ]
    },
    {
     "data": {
      "application/vnd.jupyter.widget-view+json": {
       "model_id": "",
       "version_major": 2,
       "version_minor": 0
      },
      "text/plain": [
       "HBox(children=(IntProgress(value=0, description='Saving designs', max=24, style=ProgressStyle(description_widt…"
      ]
     },
     "metadata": {},
     "output_type": "display_data"
    },
    {
     "name": "stdout",
     "output_type": "stream",
     "text": [
      "\r"
     ]
    },
    {
     "data": {
      "application/vnd.jupyter.widget-view+json": {
       "model_id": "",
       "version_major": 2,
       "version_minor": 0
      },
      "text/plain": [
       "HBox(children=(IntProgress(value=0, description='Simulating', max=3, style=ProgressStyle(description_width='in…"
      ]
     },
     "metadata": {},
     "output_type": "display_data"
    },
    {
     "name": "stdout",
     "output_type": "stream",
     "text": [
      "\r"
     ]
    },
    {
     "data": {
      "application/vnd.jupyter.widget-view+json": {
       "model_id": "",
       "version_major": 2,
       "version_minor": 0
      },
      "text/plain": [
       "HBox(children=(IntProgress(value=0, description='Model HpOpt', max=14, style=ProgressStyle(description_width='…"
      ]
     },
     "metadata": {},
     "output_type": "display_data"
    },
    {
     "name": "stdout",
     "output_type": "stream",
     "text": [
      "|  3   |   100   |         16         |    27    |            0.593             |\n"
     ]
    },
    {
     "data": {
      "application/vnd.jupyter.widget-view+json": {
       "model_id": "",
       "version_major": 2,
       "version_minor": 0
      },
      "text/plain": [
       "HBox(children=(IntProgress(value=0, description='Saving designs', max=27, style=ProgressStyle(description_widt…"
      ]
     },
     "metadata": {},
     "output_type": "display_data"
    },
    {
     "name": "stdout",
     "output_type": "stream",
     "text": [
      "\r"
     ]
    },
    {
     "data": {
      "application/vnd.jupyter.widget-view+json": {
       "model_id": "",
       "version_major": 2,
       "version_minor": 0
      },
      "text/plain": [
       "HBox(children=(IntProgress(value=0, description='Simulating', max=3, style=ProgressStyle(description_width='in…"
      ]
     },
     "metadata": {},
     "output_type": "display_data"
    },
    {
     "name": "stdout",
     "output_type": "stream",
     "text": [
      "\r"
     ]
    },
    {
     "data": {
      "application/vnd.jupyter.widget-view+json": {
       "model_id": "",
       "version_major": 2,
       "version_minor": 0
      },
      "text/plain": [
       "HBox(children=(IntProgress(value=0, description='Model HpOpt', max=13, style=ProgressStyle(description_width='…"
      ]
     },
     "metadata": {},
     "output_type": "display_data"
    },
    {
     "name": "stdout",
     "output_type": "stream",
     "text": [
      "|  4   |   121   |         18         |    33    |            0.545             |\n"
     ]
    },
    {
     "data": {
      "application/vnd.jupyter.widget-view+json": {
       "model_id": "",
       "version_major": 2,
       "version_minor": 0
      },
      "text/plain": [
       "HBox(children=(IntProgress(value=0, description='Saving designs', max=29, style=ProgressStyle(description_widt…"
      ]
     },
     "metadata": {},
     "output_type": "display_data"
    },
    {
     "name": "stdout",
     "output_type": "stream",
     "text": [
      "\r"
     ]
    },
    {
     "data": {
      "application/vnd.jupyter.widget-view+json": {
       "model_id": "",
       "version_major": 2,
       "version_minor": 0
      },
      "text/plain": [
       "HBox(children=(IntProgress(value=0, description='Simulating', max=3, style=ProgressStyle(description_width='in…"
      ]
     },
     "metadata": {},
     "output_type": "display_data"
    },
    {
     "name": "stdout",
     "output_type": "stream",
     "text": [
      "\r"
     ]
    },
    {
     "data": {
      "application/vnd.jupyter.widget-view+json": {
       "model_id": "",
       "version_major": 2,
       "version_minor": 0
      },
      "text/plain": [
       "HBox(children=(IntProgress(value=0, description='Model HpOpt', max=12, style=ProgressStyle(description_width='…"
      ]
     },
     "metadata": {},
     "output_type": "display_data"
    },
    {
     "name": "stdout",
     "output_type": "stream",
     "text": [
      "|  5   |   144   |         21         |    39    |            0.538             |\n"
     ]
    },
    {
     "data": {
      "application/vnd.jupyter.widget-view+json": {
       "model_id": "",
       "version_major": 2,
       "version_minor": 0
      },
      "text/plain": [
       "HBox(children=(IntProgress(value=0, description='Saving designs', max=32, style=ProgressStyle(description_widt…"
      ]
     },
     "metadata": {},
     "output_type": "display_data"
    },
    {
     "name": "stdout",
     "output_type": "stream",
     "text": [
      "\r"
     ]
    },
    {
     "data": {
      "application/vnd.jupyter.widget-view+json": {
       "model_id": "",
       "version_major": 2,
       "version_minor": 0
      },
      "text/plain": [
       "HBox(children=(IntProgress(value=0, description='Simulating', max=4, style=ProgressStyle(description_width='in…"
      ]
     },
     "metadata": {},
     "output_type": "display_data"
    },
    {
     "name": "stdout",
     "output_type": "stream",
     "text": [
      "\r"
     ]
    },
    {
     "data": {
      "application/vnd.jupyter.widget-view+json": {
       "model_id": "",
       "version_major": 2,
       "version_minor": 0
      },
      "text/plain": [
       "HBox(children=(IntProgress(value=0, description='Model HpOpt', max=11, style=ProgressStyle(description_width='…"
      ]
     },
     "metadata": {},
     "output_type": "display_data"
    },
    {
     "name": "stdout",
     "output_type": "stream",
     "text": [
      "|  6   |   169   |         26         |    46    |            0.565             |\n"
     ]
    },
    {
     "data": {
      "application/vnd.jupyter.widget-view+json": {
       "model_id": "",
       "version_major": 2,
       "version_minor": 0
      },
      "text/plain": [
       "HBox(children=(IntProgress(value=0, description='Saving designs', max=34, style=ProgressStyle(description_widt…"
      ]
     },
     "metadata": {},
     "output_type": "display_data"
    },
    {
     "name": "stdout",
     "output_type": "stream",
     "text": [
      "\r"
     ]
    },
    {
     "data": {
      "application/vnd.jupyter.widget-view+json": {
       "model_id": "",
       "version_major": 2,
       "version_minor": 0
      },
      "text/plain": [
       "HBox(children=(IntProgress(value=0, description='Simulating', max=4, style=ProgressStyle(description_width='in…"
      ]
     },
     "metadata": {},
     "output_type": "display_data"
    },
    {
     "name": "stdout",
     "output_type": "stream",
     "text": [
      "\r"
     ]
    },
    {
     "data": {
      "application/vnd.jupyter.widget-view+json": {
       "model_id": "",
       "version_major": 2,
       "version_minor": 0
      },
      "text/plain": [
       "HBox(children=(IntProgress(value=0, description='Model HpOpt', max=11, style=ProgressStyle(description_width='…"
      ]
     },
     "metadata": {},
     "output_type": "display_data"
    },
    {
     "name": "stdout",
     "output_type": "stream",
     "text": [
      "|  7   |   196   |         25         |    53    |            0.472             |\n"
     ]
    },
    {
     "data": {
      "application/vnd.jupyter.widget-view+json": {
       "model_id": "",
       "version_major": 2,
       "version_minor": 0
      },
      "text/plain": [
       "HBox(children=(IntProgress(value=0, description='Saving designs', max=37, style=ProgressStyle(description_widt…"
      ]
     },
     "metadata": {},
     "output_type": "display_data"
    },
    {
     "name": "stdout",
     "output_type": "stream",
     "text": [
      "\r"
     ]
    },
    {
     "data": {
      "application/vnd.jupyter.widget-view+json": {
       "model_id": "",
       "version_major": 2,
       "version_minor": 0
      },
      "text/plain": [
       "HBox(children=(IntProgress(value=0, description='Simulating', max=4, style=ProgressStyle(description_width='in…"
      ]
     },
     "metadata": {},
     "output_type": "display_data"
    },
    {
     "name": "stdout",
     "output_type": "stream",
     "text": [
      "\r"
     ]
    },
    {
     "data": {
      "application/vnd.jupyter.widget-view+json": {
       "model_id": "",
       "version_major": 2,
       "version_minor": 0
      },
      "text/plain": [
       "HBox(children=(IntProgress(value=0, description='Model HpOpt', max=11, style=ProgressStyle(description_width='…"
      ]
     },
     "metadata": {},
     "output_type": "display_data"
    },
    {
     "name": "stdout",
     "output_type": "stream",
     "text": [
      "|  8   |   225   |         30         |    61    |            0.492             |\n"
     ]
    },
    {
     "data": {
      "application/vnd.jupyter.widget-view+json": {
       "model_id": "",
       "version_major": 2,
       "version_minor": 0
      },
      "text/plain": [
       "HBox(children=(IntProgress(value=0, description='Saving designs', max=39, style=ProgressStyle(description_widt…"
      ]
     },
     "metadata": {},
     "output_type": "display_data"
    },
    {
     "name": "stdout",
     "output_type": "stream",
     "text": [
      "\r"
     ]
    },
    {
     "data": {
      "application/vnd.jupyter.widget-view+json": {
       "model_id": "",
       "version_major": 2,
       "version_minor": 0
      },
      "text/plain": [
       "HBox(children=(IntProgress(value=0, description='Simulating', max=4, style=ProgressStyle(description_width='in…"
      ]
     },
     "metadata": {},
     "output_type": "display_data"
    },
    {
     "name": "stdout",
     "output_type": "stream",
     "text": [
      "\r"
     ]
    },
    {
     "data": {
      "application/vnd.jupyter.widget-view+json": {
       "model_id": "",
       "version_major": 2,
       "version_minor": 0
      },
      "text/plain": [
       "HBox(children=(IntProgress(value=0, description='Model HpOpt', max=11, style=ProgressStyle(description_width='…"
      ]
     },
     "metadata": {},
     "output_type": "display_data"
    },
    {
     "name": "stdout",
     "output_type": "stream",
     "text": [
      "|  9   |   256   |         32         |    69    |            0.464             |\n"
     ]
    },
    {
     "data": {
      "application/vnd.jupyter.widget-view+json": {
       "model_id": "",
       "version_major": 2,
       "version_minor": 0
      },
      "text/plain": [
       "HBox(children=(IntProgress(value=0, description='Saving designs', max=42, style=ProgressStyle(description_widt…"
      ]
     },
     "metadata": {},
     "output_type": "display_data"
    },
    {
     "name": "stdout",
     "output_type": "stream",
     "text": [
      "\r"
     ]
    },
    {
     "data": {
      "application/vnd.jupyter.widget-view+json": {
       "model_id": "",
       "version_major": 2,
       "version_minor": 0
      },
      "text/plain": [
       "HBox(children=(IntProgress(value=0, description='Simulating', max=5, style=ProgressStyle(description_width='in…"
      ]
     },
     "metadata": {},
     "output_type": "display_data"
    },
    {
     "name": "stdout",
     "output_type": "stream",
     "text": [
      "\r"
     ]
    },
    {
     "data": {
      "application/vnd.jupyter.widget-view+json": {
       "model_id": "",
       "version_major": 2,
       "version_minor": 0
      },
      "text/plain": [
       "HBox(children=(IntProgress(value=0, description='Model HpOpt', max=11, style=ProgressStyle(description_width='…"
      ]
     },
     "metadata": {},
     "output_type": "display_data"
    },
    {
     "name": "stdout",
     "output_type": "stream",
     "text": [
      "|  10  |   289   |         33         |    78    |            0.423             |\n"
     ]
    },
    {
     "data": {
      "application/vnd.jupyter.widget-view+json": {
       "model_id": "",
       "version_major": 2,
       "version_minor": 0
      },
      "text/plain": [
       "HBox(children=(IntProgress(value=0, description='Saving designs', max=44, style=ProgressStyle(description_widt…"
      ]
     },
     "metadata": {},
     "output_type": "display_data"
    },
    {
     "name": "stdout",
     "output_type": "stream",
     "text": [
      "\r"
     ]
    },
    {
     "data": {
      "application/vnd.jupyter.widget-view+json": {
       "model_id": "06dc96c0daba4c78ba37bfb74065cb8f",
       "version_major": 2,
       "version_minor": 0
      },
      "text/plain": [
       "HBox(children=(IntProgress(value=0, description='Simulating', max=5, style=ProgressStyle(description_width='in…"
      ]
     },
     "metadata": {},
     "output_type": "display_data"
    },
    {
     "ename": "KeyboardInterrupt",
     "evalue": "",
     "output_type": "error",
     "traceback": [
      "\u001b[0;31m---------------------------------------------------------------------------\u001b[0m",
      "\u001b[0;31mKeyboardInterrupt\u001b[0m                         Traceback (most recent call last)",
      "\u001b[0;32m<ipython-input-3-d9c7a5a0c776>\u001b[0m in \u001b[0;36m<module>\u001b[0;34m\u001b[0m\n\u001b[1;32m     11\u001b[0m                       \u001b[0mscaler\u001b[0m\u001b[0;34m=\u001b[0m\u001b[0mscaler_f1\u001b[0m\u001b[0;34m,\u001b[0m\u001b[0;34m\u001b[0m\u001b[0;34m\u001b[0m\u001b[0m\n\u001b[1;32m     12\u001b[0m                       \u001b[0mpath\u001b[0m\u001b[0;34m=\u001b[0m\u001b[0;34m\"./model_f1_svr.sv\"\u001b[0m\u001b[0;34m,\u001b[0m\u001b[0;34m\u001b[0m\u001b[0;34m\u001b[0m\u001b[0m\n\u001b[0;32m---> 13\u001b[0;31m                       hpopt_calls=40)\n\u001b[0m\u001b[1;32m     14\u001b[0m \u001b[0;34m\u001b[0m\u001b[0m\n\u001b[1;32m     15\u001b[0m \u001b[0;31m# absolute error vs sqrd\u001b[0m\u001b[0;34m\u001b[0m\u001b[0;34m\u001b[0m\u001b[0;34m\u001b[0m\u001b[0m\n",
      "\u001b[0;32m~/lab/NB10422645/src/surrogate/algorithms/_ssifl.py\u001b[0m in \u001b[0;36mssifl2\u001b[0;34m(epsilon, delta, function, n, model_handle_cls, hpopt, scaler, s_series, s_idx, path, train_size, val_size, verbose, save, hpopt_calls)\u001b[0m\n\u001b[1;32m    208\u001b[0m             \u001b[0me_cdf\u001b[0m \u001b[0;34m=\u001b[0m \u001b[0;34m[\u001b[0m\u001b[0mF_inverse_function\u001b[0m\u001b[0;34m(\u001b[0m\u001b[0mabsolute_error\u001b[0m\u001b[0;34m,\u001b[0m \u001b[0mvalidation_data\u001b[0m\u001b[0;34m[\u001b[0m\u001b[0;36m0\u001b[0m\u001b[0;34m]\u001b[0m\u001b[0;34m.\u001b[0m\u001b[0mT\u001b[0m\u001b[0;34m[\u001b[0m\u001b[0mi\u001b[0m\u001b[0;34m]\u001b[0m\u001b[0;34m)\u001b[0m \u001b[0;32mfor\u001b[0m \u001b[0mi\u001b[0m \u001b[0;32min\u001b[0m \u001b[0mrange\u001b[0m\u001b[0;34m(\u001b[0m\u001b[0mn\u001b[0m\u001b[0;34m)\u001b[0m\u001b[0;34m]\u001b[0m\u001b[0;34m\u001b[0m\u001b[0;34m\u001b[0m\u001b[0m\n\u001b[1;32m    209\u001b[0m             \u001b[0mnew_input\u001b[0m \u001b[0;34m=\u001b[0m \u001b[0mnp\u001b[0m\u001b[0;34m.\u001b[0m\u001b[0mvstack\u001b[0m\u001b[0;34m(\u001b[0m\u001b[0;34m[\u001b[0m\u001b[0me_cdf\u001b[0m\u001b[0;34m[\u001b[0m\u001b[0mi\u001b[0m\u001b[0;34m]\u001b[0m\u001b[0;34m(\u001b[0m\u001b[0mu\u001b[0m\u001b[0;34m)\u001b[0m \u001b[0;32mfor\u001b[0m \u001b[0mi\u001b[0m\u001b[0;34m,\u001b[0m \u001b[0mu\u001b[0m \u001b[0;32min\u001b[0m \u001b[0menumerate\u001b[0m\u001b[0;34m(\u001b[0m\u001b[0mnew_input_u\u001b[0m\u001b[0;34m.\u001b[0m\u001b[0mT\u001b[0m\u001b[0;34m)\u001b[0m\u001b[0;34m]\u001b[0m\u001b[0;34m)\u001b[0m\u001b[0;34m.\u001b[0m\u001b[0mT\u001b[0m\u001b[0;34m\u001b[0m\u001b[0;34m\u001b[0m\u001b[0m\n\u001b[0;32m--> 210\u001b[0;31m             \u001b[0m_f\u001b[0m \u001b[0;34m=\u001b[0m \u001b[0mfunction\u001b[0m\u001b[0;34m(\u001b[0m\u001b[0;34m*\u001b[0m\u001b[0mnew_input\u001b[0m\u001b[0;34m.\u001b[0m\u001b[0mT\u001b[0m\u001b[0;34m)\u001b[0m\u001b[0;34m\u001b[0m\u001b[0;34m\u001b[0m\u001b[0m\n\u001b[0m\u001b[1;32m    211\u001b[0m \u001b[0;34m\u001b[0m\u001b[0m\n\u001b[1;32m    212\u001b[0m             \u001b[0;32mif\u001b[0m \u001b[0mscaler\u001b[0m\u001b[0;34m:\u001b[0m\u001b[0;34m\u001b[0m\u001b[0;34m\u001b[0m\u001b[0m\n",
      "\u001b[0;32m~/lab/NB10422645/src/surrogate/tools/matlab.py\u001b[0m in \u001b[0;36msim_func\u001b[0;34m(*x)\u001b[0m\n\u001b[1;32m     99\u001b[0m         run_simulations(design_path=os.path.join(ROOT_DIR, EVAL_DIR, APP + tag),\n\u001b[1;32m    100\u001b[0m                         \u001b[0mapp_path\u001b[0m\u001b[0;34m=\u001b[0m\u001b[0mos\u001b[0m\u001b[0;34m.\u001b[0m\u001b[0mpath\u001b[0m\u001b[0;34m.\u001b[0m\u001b[0mjoin\u001b[0m\u001b[0;34m(\u001b[0m\u001b[0mROOT_DIR\u001b[0m\u001b[0;34m,\u001b[0m \u001b[0mAPP_DIR\u001b[0m\u001b[0;34m,\u001b[0m \u001b[0mAPP\u001b[0m\u001b[0;34m,\u001b[0m \u001b[0;34m\"src\"\u001b[0m\u001b[0;34m,\u001b[0m \u001b[0mAPP\u001b[0m\u001b[0;34m)\u001b[0m\u001b[0;34m,\u001b[0m\u001b[0;34m\u001b[0m\u001b[0;34m\u001b[0m\u001b[0m\n\u001b[0;32m--> 101\u001b[0;31m                         overwrite=True)\n\u001b[0m\u001b[1;32m    102\u001b[0m         \u001b[0mS\u001b[0m\u001b[0;34m,\u001b[0m \u001b[0mF\u001b[0m \u001b[0;34m=\u001b[0m \u001b[0mget_simulation_results\u001b[0m\u001b[0;34m(\u001b[0m\u001b[0mdesign_path\u001b[0m\u001b[0;34m=\u001b[0m\u001b[0mos\u001b[0m\u001b[0;34m.\u001b[0m\u001b[0mpath\u001b[0m\u001b[0;34m.\u001b[0m\u001b[0mjoin\u001b[0m\u001b[0;34m(\u001b[0m\u001b[0mROOT_DIR\u001b[0m\u001b[0;34m,\u001b[0m \u001b[0mEVAL_DIR\u001b[0m\u001b[0;34m,\u001b[0m \u001b[0mAPP\u001b[0m \u001b[0;34m+\u001b[0m \u001b[0mtag\u001b[0m\u001b[0;34m)\u001b[0m\u001b[0;34m)\u001b[0m\u001b[0;34m\u001b[0m\u001b[0;34m\u001b[0m\u001b[0m\n\u001b[1;32m    103\u001b[0m \u001b[0;34m\u001b[0m\u001b[0m\n",
      "\u001b[0;32m~/lab/NB10422645/src/surrogate/tools/matlab.py\u001b[0m in \u001b[0;36mrun_simulations\u001b[0;34m(design_path, app_path, overwrite)\u001b[0m\n\u001b[1;32m     73\u001b[0m     \u001b[0mbatches\u001b[0m \u001b[0;34m=\u001b[0m \u001b[0mtqdm\u001b[0m\u001b[0;34m(\u001b[0m\u001b[0mlist\u001b[0m\u001b[0;34m(\u001b[0m\u001b[0mchunks\u001b[0m\u001b[0;34m(\u001b[0m\u001b[0mcmds\u001b[0m\u001b[0;34m,\u001b[0m \u001b[0;36m10\u001b[0m\u001b[0;34m)\u001b[0m\u001b[0;34m)\u001b[0m\u001b[0;34m,\u001b[0m \u001b[0mdesc\u001b[0m\u001b[0;34m=\u001b[0m\u001b[0;34m'Simulating'\u001b[0m\u001b[0;34m,\u001b[0m \u001b[0mleave\u001b[0m\u001b[0;34m=\u001b[0m\u001b[0;32mFalse\u001b[0m\u001b[0;34m)\u001b[0m\u001b[0;34m\u001b[0m\u001b[0;34m\u001b[0m\u001b[0m\n\u001b[1;32m     74\u001b[0m     \u001b[0;32mfor\u001b[0m \u001b[0mbatch\u001b[0m \u001b[0;32min\u001b[0m \u001b[0mbatches\u001b[0m\u001b[0;34m:\u001b[0m\u001b[0;34m\u001b[0m\u001b[0;34m\u001b[0m\u001b[0m\n\u001b[0;32m---> 75\u001b[0;31m         \u001b[0msubprocess_cmd\u001b[0m\u001b[0;34m(\u001b[0m\u001b[0;34m';'\u001b[0m\u001b[0;34m.\u001b[0m\u001b[0mjoin\u001b[0m\u001b[0;34m(\u001b[0m\u001b[0mbatch\u001b[0m\u001b[0;34m)\u001b[0m\u001b[0;34m)\u001b[0m\u001b[0;34m\u001b[0m\u001b[0;34m\u001b[0m\u001b[0m\n\u001b[0m\u001b[1;32m     76\u001b[0m \u001b[0;34m\u001b[0m\u001b[0m\n\u001b[1;32m     77\u001b[0m \u001b[0;34m\u001b[0m\u001b[0m\n",
      "\u001b[0;32m~/lab/NB10422645/src/surrogate/tools/matlab.py\u001b[0m in \u001b[0;36msubprocess_cmd\u001b[0;34m(command)\u001b[0m\n\u001b[1;32m     50\u001b[0m \u001b[0;32mdef\u001b[0m \u001b[0msubprocess_cmd\u001b[0m\u001b[0;34m(\u001b[0m\u001b[0mcommand\u001b[0m\u001b[0;34m)\u001b[0m\u001b[0;34m:\u001b[0m\u001b[0;34m\u001b[0m\u001b[0;34m\u001b[0m\u001b[0m\n\u001b[1;32m     51\u001b[0m     \u001b[0mprocess\u001b[0m \u001b[0;34m=\u001b[0m \u001b[0msubprocess\u001b[0m\u001b[0;34m.\u001b[0m\u001b[0mPopen\u001b[0m\u001b[0;34m(\u001b[0m\u001b[0mcommand\u001b[0m\u001b[0;34m,\u001b[0m \u001b[0mstdout\u001b[0m\u001b[0;34m=\u001b[0m\u001b[0msubprocess\u001b[0m\u001b[0;34m.\u001b[0m\u001b[0mPIPE\u001b[0m\u001b[0;34m,\u001b[0m \u001b[0mshell\u001b[0m\u001b[0;34m=\u001b[0m\u001b[0;32mTrue\u001b[0m\u001b[0;34m)\u001b[0m\u001b[0;34m\u001b[0m\u001b[0;34m\u001b[0m\u001b[0m\n\u001b[0;32m---> 52\u001b[0;31m     \u001b[0mproc_stdout\u001b[0m \u001b[0;34m=\u001b[0m \u001b[0mprocess\u001b[0m\u001b[0;34m.\u001b[0m\u001b[0mcommunicate\u001b[0m\u001b[0;34m(\u001b[0m\u001b[0;34m)\u001b[0m\u001b[0;34m[\u001b[0m\u001b[0;36m0\u001b[0m\u001b[0;34m]\u001b[0m\u001b[0;34m.\u001b[0m\u001b[0mstrip\u001b[0m\u001b[0;34m(\u001b[0m\u001b[0;34m)\u001b[0m\u001b[0;34m\u001b[0m\u001b[0;34m\u001b[0m\u001b[0m\n\u001b[0m\u001b[1;32m     53\u001b[0m \u001b[0;34m\u001b[0m\u001b[0m\n\u001b[1;32m     54\u001b[0m \u001b[0;34m\u001b[0m\u001b[0m\n",
      "\u001b[0;32m~/anaconda3/envs/sigh/lib/python3.7/subprocess.py\u001b[0m in \u001b[0;36mcommunicate\u001b[0;34m(self, input, timeout)\u001b[0m\n\u001b[1;32m    924\u001b[0m                 \u001b[0mself\u001b[0m\u001b[0;34m.\u001b[0m\u001b[0m_stdin_write\u001b[0m\u001b[0;34m(\u001b[0m\u001b[0minput\u001b[0m\u001b[0;34m)\u001b[0m\u001b[0;34m\u001b[0m\u001b[0;34m\u001b[0m\u001b[0m\n\u001b[1;32m    925\u001b[0m             \u001b[0;32melif\u001b[0m \u001b[0mself\u001b[0m\u001b[0;34m.\u001b[0m\u001b[0mstdout\u001b[0m\u001b[0;34m:\u001b[0m\u001b[0;34m\u001b[0m\u001b[0;34m\u001b[0m\u001b[0m\n\u001b[0;32m--> 926\u001b[0;31m                 \u001b[0mstdout\u001b[0m \u001b[0;34m=\u001b[0m \u001b[0mself\u001b[0m\u001b[0;34m.\u001b[0m\u001b[0mstdout\u001b[0m\u001b[0;34m.\u001b[0m\u001b[0mread\u001b[0m\u001b[0;34m(\u001b[0m\u001b[0;34m)\u001b[0m\u001b[0;34m\u001b[0m\u001b[0;34m\u001b[0m\u001b[0m\n\u001b[0m\u001b[1;32m    927\u001b[0m                 \u001b[0mself\u001b[0m\u001b[0;34m.\u001b[0m\u001b[0mstdout\u001b[0m\u001b[0;34m.\u001b[0m\u001b[0mclose\u001b[0m\u001b[0;34m(\u001b[0m\u001b[0;34m)\u001b[0m\u001b[0;34m\u001b[0m\u001b[0;34m\u001b[0m\u001b[0m\n\u001b[1;32m    928\u001b[0m             \u001b[0;32melif\u001b[0m \u001b[0mself\u001b[0m\u001b[0;34m.\u001b[0m\u001b[0mstderr\u001b[0m\u001b[0;34m:\u001b[0m\u001b[0;34m\u001b[0m\u001b[0;34m\u001b[0m\u001b[0m\n",
      "\u001b[0;31mKeyboardInterrupt\u001b[0m: "
     ]
    }
   ],
   "source": [
    "scaler_f1=MinMaxScaler(feature_range=(0,10))\n",
    "\n",
    "model_f1_svr = ssifl2(epsilon=epsilon, \n",
    "                      delta=delta, \n",
    "                      function=f1, \n",
    "                      n=2,\n",
    "                      hpopt=True, \n",
    "                      model_handle_cls=SupportVectorRegression, \n",
    "                      scaler=scaler_f1,\n",
    "                      path=\"./model_f1_svr.sv\",\n",
    "                      hpopt_calls=40)\n",
    "\n",
    "# absolute error vs sqrd"
   ]
  },
  {
   "cell_type": "markdown",
   "metadata": {},
   "source": [
    "## $f_2$: Fraction of T spent in forest."
   ]
  },
  {
   "cell_type": "code",
   "execution_count": null,
   "metadata": {},
   "outputs": [],
   "source": [
    "scaler_f2=MinMaxScaler(feature_range=(0,1))\n",
    "\n",
    "model_f2_svr = ssifl2(epsilon=epsilon, \n",
    "                      delta=delta, \n",
    "                      function=f2, \n",
    "                      n=2,\n",
    "                      hpopt=True, \n",
    "                      model_handle_cls=SupportVectorRegression, \n",
    "                      scaler=scaler_f2,\n",
    "                      path=\"./model_f2_svr.sv\")"
   ]
  },
  {
   "cell_type": "markdown",
   "metadata": {},
   "source": [
    "## $f_3$: Closest distance to passing traffic."
   ]
  },
  {
   "cell_type": "code",
   "execution_count": null,
   "metadata": {},
   "outputs": [],
   "source": [
    "\n",
    "scaler_f3=MinMaxScaler(feature_range=(0,1))\n",
    "\n",
    "model_f3_svr = ssifl2(epsilon=epsilon, \n",
    "                      delta=delta, \n",
    "                      function=f3, \n",
    "                      n=2,\n",
    "                      hpopt=True, \n",
    "                      model_handle_cls=SupportVectorRegression, \n",
    "                      scaler=scaler_f3,\n",
    "                      path=\"./model_f3_svr.sv\")"
   ]
  },
  {
   "cell_type": "code",
   "execution_count": 8,
   "metadata": {},
   "outputs": [
    {
     "name": "stdout",
     "output_type": "stream",
     "text": [
      "/home/ggarrett/lab/NB10422645\n"
     ]
    }
   ],
   "source": [
    "%cd \"~/lab/NB10422645\"\n",
    "\n",
    "# from ._base import SurrogateModelBaseRegression\n",
    "from src.surrogate.meta_models.deeplearning import Trainer3\n",
    "import torch.nn as nn\n",
    "import torch\n",
    "from src.surrogate.meta_models.modules import activation_dict\n",
    "from src.surrogate.meta_models.modules.fx import RegressionOutput, BasicBlock\n",
    "from src.dataset import DataSetFX\n",
    "from src.surrogate.meta_models.deeplearning.util import LutzPrecheltEarlyStopping\n",
    "import skopt\n",
    "\n",
    "\n",
    "from torch import nn\n",
    "\n",
    "class SimpleRectangularNN(nn.Module):\n",
    "\n",
    "    def __init__(self, model_params):\n",
    "        Xdim = model_params[\"x_dim\"]\n",
    "        fdim = model_params[\"f_dim\"]\n",
    "        activation = model_params[\"activation\"]\n",
    "        dropout_rate = model_params[\"dropout_rate\"]\n",
    "        n_hidden_layers = model_params[\"n_hidden_layers\"]\n",
    "        n_hidden_neurons = model_params[\"n_hidden_neurons\"]\n",
    "        super().__init__()\n",
    "        self.fc_in = nn.Sequential(\n",
    "            *[nn.Linear(Xdim, n_hidden_neurons),\n",
    "              activation_dict[activation],\n",
    "              nn.Dropout(dropout_rate),\n",
    "              nn.BatchNorm1d(n_hidden_neurons)]\n",
    "        )\n",
    "        self.fc_center = nn.Sequential(\n",
    "            *[nn.Linear(n_hidden_neurons, n_hidden_neurons),\n",
    "              activation_dict[activation],\n",
    "              nn.Dropout(dropout_rate),\n",
    "              nn.BatchNorm1d(n_hidden_neurons)\n",
    "              ] * int(n_hidden_layers - 2)\n",
    "        )\n",
    "        self.fc_out = RegressionOutput(n_hidden_neurons, fdim)\n",
    "\n",
    "    def forward(self, x):\n",
    "        x = self.fc_in(x)\n",
    "        x = self.fc_center(x)\n",
    "        return self.fc_out(x)"
   ]
  },
  {
   "cell_type": "code",
   "execution_count": 17,
   "metadata": {},
   "outputs": [],
   "source": [
    "from scipy.io import loadmat\n",
    "\n",
    "train = loadmat(\"simulation/data/rs_bicycle/idoe/rs_bicycle_UG_N3_S15.mat\") \n",
    "test = loadmat(\"simulation/data/rs_bicycle/idoe/rs_bicycle_UG_N3_S10.mat\")\n",
    "x_train = train[\"X\"]\n",
    "y_train = train[\"F\"][:,1]\n",
    "x_test = test[\"X\"]\n",
    "y_test = test[\"F\"][:,1]\n",
    "\n",
    "# Dataset.\n",
    "training_dataset = DataSetFX(\n",
    "        output=y_train.reshape(-1, 1),\n",
    "        input=x_train.reshape(-1, len(x_train.T)))\n",
    "validation_dataset = DataSetFX(\n",
    "        output=y_test.reshape(-1, 1),\n",
    "        input=x_test.reshape(-1, len(x_train.T)))"
   ]
  },
  {
   "cell_type": "code",
   "execution_count": 70,
   "metadata": {},
   "outputs": [
    {
     "data": {
      "application/vnd.jupyter.widget-view+json": {
       "model_id": "c31f0a8572a8477e9a62baf7753bf85a",
       "version_major": 2,
       "version_minor": 0
      },
      "text/plain": [
       "HBox(children=(IntProgress(value=0, description='Model HpOpt', max=150, style=ProgressStyle(description_width=…"
      ]
     },
     "metadata": {},
     "output_type": "display_data"
    },
    {
     "name": "stderr",
     "output_type": "stream",
     "text": [
      "/home/ggarrett/anaconda3/envs/sigh/lib/python3.7/site-packages/skopt/optimizer/optimizer.py:399: UserWarning: The objective has been evaluated at this point before.\n",
      "  warnings.warn(\"The objective has been evaluated \"\n",
      "/home/ggarrett/anaconda3/envs/sigh/lib/python3.7/site-packages/skopt/optimizer/optimizer.py:399: UserWarning: The objective has been evaluated at this point before.\n",
      "  warnings.warn(\"The objective has been evaluated \"\n",
      "/home/ggarrett/anaconda3/envs/sigh/lib/python3.7/site-packages/skopt/optimizer/optimizer.py:399: UserWarning: The objective has been evaluated at this point before.\n",
      "  warnings.warn(\"The objective has been evaluated \"\n",
      "/home/ggarrett/anaconda3/envs/sigh/lib/python3.7/site-packages/skopt/optimizer/optimizer.py:399: UserWarning: The objective has been evaluated at this point before.\n",
      "  warnings.warn(\"The objective has been evaluated \"\n",
      "/home/ggarrett/anaconda3/envs/sigh/lib/python3.7/site-packages/skopt/optimizer/optimizer.py:399: UserWarning: The objective has been evaluated at this point before.\n",
      "  warnings.warn(\"The objective has been evaluated \"\n",
      "/home/ggarrett/anaconda3/envs/sigh/lib/python3.7/site-packages/skopt/optimizer/optimizer.py:399: UserWarning: The objective has been evaluated at this point before.\n",
      "  warnings.warn(\"The objective has been evaluated \"\n"
     ]
    }
   ],
   "source": [
    "import skopt\n",
    "from src.utils import TQDMSkoptCallable\n",
    "\n",
    "\n",
    "decision_space = [\n",
    "    \n",
    "    # Architecture params.\n",
    "#     skopt.space.Categorical([\"sigmoid\", \"relu\", \"leaky_relu\"], name=\"activation\"),\n",
    "    skopt.space.Integer(1,3       ,                           name=\"n_hidden_layers\"),\n",
    "    skopt.space.Real(*(5e-3, 5e-1),                            name=\"dropout_rate\"),\n",
    "    skopt.space.Integer(200, 900,                              name=\"n_hidden_neurons\"),\n",
    "    \n",
    "    # Training parameters.\n",
    "    skopt.space.Integer(0,2,             name=\"early_stopping\"),\n",
    "#     skopt.space.Categorical([50, 100, 200],                    name=\"batch_size\"),\n",
    "    skopt.space.Real(1e-4, 1e-1, prior=\"log-uniform\",          name=\"learning_rate\")\n",
    "]\n",
    "\n",
    "early_stop_list = [\n",
    "        LutzPrecheltEarlyStopping(5, criteria=((\"PQ\", 0.75),)),\n",
    "        LutzPrecheltEarlyStopping(5, criteria=((\"PQ\", 1.00),)),\n",
    "        LutzPrecheltEarlyStopping(5, criteria=((\"PQ\", 1.50),))\n",
    "    ]\n",
    "static_params = {\n",
    "\n",
    "    # Architecture parameters.\n",
    "    \"activation\":\"leaky_relu\",\n",
    "    \"n_hidden_layers\":2,\n",
    "    \"n_hidden_neurons\":400,\n",
    "    \"dropout_rate\":5e-3,\n",
    "    \n",
    "    # Training parameters.\n",
    "    \"early_stopping\":LutzPrecheltEarlyStopping(5, criteria=((\"PQ\", 0.9),)),\n",
    "    \"batch_size\":50,\n",
    "    \"learning_rate\":1e-3,\n",
    "    \"num_epochs\":40,\n",
    "    \n",
    "}\n",
    "\n",
    "device = torch.device(\n",
    "    \"cuda\" if torch.cuda.is_available() else \"cpu\")\n",
    "\n",
    "def t2n(t):\n",
    "    return t.detach().cpu().numpy()\n",
    "    \n",
    "def Xn2t(X):\n",
    "    return torch.tensor(X).to(device).float()\n",
    "\n",
    "def Fn2t(f):\n",
    "    return torch.tensor(f.reshape(-1, 1)).to(device).float()\n",
    "\n",
    "@skopt.utils.use_named_args(decision_space)\n",
    "def objective(**decided_params):\n",
    "        \n",
    "    # Load parameters.\n",
    "    params = {**static_params, **decided_params}\n",
    "    \n",
    "    # Create model.\n",
    "    model_params={}\n",
    "    model_params[\"x_dim\"] = 3\n",
    "    model_params[\"f_dim\"] = 1\n",
    "    model_params[\"activation\"] = params[\"activation\"]\n",
    "    model_params[\"dropout_rate\"] = params[\"dropout_rate\"]\n",
    "    model_params[\"n_hidden_layers\"] = params[\"n_hidden_layers\"]\n",
    "    model_params[\"n_hidden_neurons\"] = params[\"n_hidden_neurons\"]\n",
    "    model = SimpleRectangularNN(model_params)\n",
    "    \n",
    "    # Training params.\n",
    "    early_stopping = params[\"early_stopping\"]\n",
    "    learning_rate  = params[\"learning_rate\"]\n",
    "    batch_size     = params[\"batch_size\"]\n",
    "    \n",
    "    # Set up trainer.\n",
    "    trainer = Trainer3(\n",
    "        PATH=\"meta_models/\",\n",
    "        training_dataset=training_dataset,\n",
    "        validation_dataset=validation_dataset,\n",
    "        model=model,\n",
    "        optimizer=torch.optim.Adam,\n",
    "        criterion=torch.nn.modules.loss.MSELoss,\n",
    "        batch_size=batch_size,\n",
    "        num_epochs=params[\"num_epochs\"],\n",
    "        learning_rate=params[\"learning_rate\"])\n",
    "    \n",
    "    trainer.train(early_stopping=early_stop_list[params[\"early_stopping\"]],\n",
    "                    save_each_epoch=False,\n",
    "                    save_final_model=False,\n",
    "                    plot_jupyter=False,\n",
    "                    verbose=False)\n",
    "    \n",
    "    model.eval()\n",
    "    with torch.no_grad():\n",
    "        res=trainer._criterion(\n",
    "                model(Xn2t(validation_dataset.input)),\n",
    "                Fn2t(validation_dataset.output)).detach().cpu().numpy()\n",
    "#         res = model(validation_dataset.input)\n",
    "    return float(res)\n",
    "\n",
    "n_calls=150\n",
    "\n",
    "progress = TQDMSkoptCallable(total=n_calls, desc=\"Model HpOpt\",\n",
    "                             leave=False)\n",
    "callback = [progress]\n",
    "\n",
    "results=skopt.gp_minimize(objective, decision_space, n_calls=n_calls, callback=callback)\n",
    "# print(results)"
   ]
  },
  {
   "cell_type": "code",
   "execution_count": 65,
   "metadata": {},
   "outputs": [],
   "source": [
    "# print(results)\n",
    "from src.utils import plot_evaluations\n",
    "import skopt.plots\n",
    "import matplotlib.pyplot as plt"
   ]
  },
  {
   "cell_type": "code",
   "execution_count": 68,
   "metadata": {},
   "outputs": [
    {
     "data": {
      "image/png": "[encoded data removed]",
      "text/plain": [
       "<Figure size 576x576 with 16 Axes>"
      ]
     },
     "metadata": {
      "needs_background": "light"
     },
     "output_type": "display_data"
    },
    {
     "data": {
      "image/png": "[encoded data removed]",
      "text/plain": [
       "<Figure size 432x288 with 1 Axes>"
      ]
     },
     "metadata": {
      "needs_background": "light"
     },
     "output_type": "display_data"
    }
   ],
   "source": [
    "skopt.plots.plot_evaluations(results)\n",
    "plt.show()\n",
    "skopt.plots.plot_convergence(results)\n",
    "plt.show()"
   ]
  },
  {
   "cell_type": "code",
   "execution_count": 69,
   "metadata": {},
   "outputs": [
    {
     "name": "stdout",
     "output_type": "stream",
     "text": [
      "[0.315735021063194, 900, 0, 0.0001]\n"
     ]
    }
   ],
   "source": [
    "\n",
    "print(results.x)"
   ]
  },
  {
   "cell_type": "code",
   "execution_count": 71,
   "metadata": {},
   "outputs": [
    {
     "data": {
      "image/png": "[encoded data removed]",
      "text/plain": [
       "<Figure size 720x720 with 25 Axes>"
      ]
     },
     "metadata": {
      "needs_background": "light"
     },
     "output_type": "display_data"
    },
    {
     "data": {
      "image/png": "[encoded data removed]",
      "text/plain": [
       "<Figure size 432x288 with 1 Axes>"
      ]
     },
     "metadata": {
      "needs_background": "light"
     },
     "output_type": "display_data"
    }
   ],
   "source": [
    "skopt.plots.plot_evaluations(results)\n",
    "plt.show()\n",
    "skopt.plots.plot_convergence(results)\n",
    "plt.show()"
   ]
  }
 ],
 "metadata": {
  "kernelspec": {
   "display_name": "sigh",
   "language": "python",
   "name": "sigh"
  },
  "language_info": {
   "codemirror_mode": {
    "name": "ipython",
    "version": 3
   },
   "file_extension": ".py",
   "mimetype": "text/x-python",
   "name": "python",
   "nbconvert_exporter": "python",
   "pygments_lexer": "ipython3",
   "version": "3.7.3"
  }
 },
 "nbformat": 4,
 "nbformat_minor": 4
}
