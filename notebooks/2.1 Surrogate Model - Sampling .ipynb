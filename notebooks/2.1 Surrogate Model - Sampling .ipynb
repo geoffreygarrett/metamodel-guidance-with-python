{
 "cells": [
  {
   "cell_type": "markdown",
   "metadata": {},
   "source": [
    "# Grid sampling"
   ]
  },
  {
   "cell_type": "code",
   "execution_count": 20,
   "metadata": {},
   "outputs": [
    {
     "name": "stdout",
     "output_type": "stream",
     "text": [
      "/home/ggarrett/lab/stage\n"
     ]
    }
   ],
   "source": [
    "%cd \"~/lab/stage\"\n",
    "from src.problems.two_dimensional import *\n",
    "import pandas as pd\n",
    "test_geometry = MissionGeometry()\n",
    "test_design = NOmegaPointsScaleBasedPeriodic(int(test_geometry.P_s / 10), 3)\n",
    "test_spacecraft = Spacecraft()\n",
    "test_problem = AttitudeTrajectoryProblem2D(test_geometry, test_spacecraft, test_design)"
   ]
  },
  {
   "cell_type": "markdown",
   "metadata": {},
   "source": [
    "## Uninformed Domain Grid Sampling"
   ]
  },
  {
   "cell_type": "code",
   "execution_count": 12,
   "metadata": {},
   "outputs": [],
   "source": [
    "def grid_sample_domain(bounds, n_sample_dim, flatten=True):\n",
    "    assert len(bounds[0]) == len(bounds[1])\n",
    "    if type(n_sample_dim) is int:\n",
    "        linspace = [np.linspace(bounds[0][i], bounds[1][i], n_sample_dim) for i in range(len(bounds[0]))]\n",
    "    elif hasattr(n_sample_dim, '__iter__'):\n",
    "        try:\n",
    "            assert len(n_sample_dim) == len(bounds[0])\n",
    "        except AssertionError:\n",
    "            raise AssertionError(f\"Length of n_sample_dim not correct {len(n_sample_dim)}!={len(bounds[1])}\")\n",
    "        linspace = [np.linspace(bounds[0][i], bounds[1][i], n_sample_dim[i]) for i in range(len(bounds[0]))]\n",
    "    _return = np.array(np.meshgrid(*linspace))\n",
    "    _return = np.array([_return_i.flatten() for _return_i in _return.reshape(len(bounds[0]), -1)]).T if flatten else _return\n",
    "    return _return"
   ]
  },
  {
   "cell_type": "code",
   "execution_count": 388,
   "metadata": {},
   "outputs": [
    {
     "data": {
      "text/plain": [
       "array([[0.  , 0.  ],\n",
       "       [0.5 , 0.  ],\n",
       "       [1.  , 0.  ],\n",
       "       [0.  , 0.33],\n",
       "       [0.5 , 0.33],\n",
       "       [1.  , 0.33],\n",
       "       [0.  , 0.67],\n",
       "       [0.5 , 0.67],\n",
       "       [1.  , 0.67],\n",
       "       [0.  , 1.  ],\n",
       "       [0.5 , 1.  ],\n",
       "       [1.  , 1.  ]])"
      ]
     },
     "execution_count": 388,
     "metadata": {},
     "output_type": "execute_result"
    }
   ],
   "source": [
    "# %%timeit\n",
    "res1 = grid_sample_domain([[0,0],[1,1]],[3,4])\n",
    "np.round(res1, 2)"
   ]
  },
  {
   "cell_type": "markdown",
   "metadata": {},
   "source": [
    "## Random Domain Sampling"
   ]
  },
  {
   "cell_type": "code",
   "execution_count": 6,
   "metadata": {},
   "outputs": [],
   "source": [
    "def random_uniform_sample_domain(bounds, n_samples, seed=101):\n",
    "    np.random.seed(seed)\n",
    "    return np.random.uniform(bounds[0], bounds[1], (n_samples, len(bounds[0])))"
   ]
  },
  {
   "cell_type": "code",
   "execution_count": 7,
   "metadata": {},
   "outputs": [
    {
     "name": "stdout",
     "output_type": "stream",
     "text": [
      "13.8 µs ± 66.5 ns per loop (mean ± std. dev. of 7 runs, 100000 loops each)\n"
     ]
    }
   ],
   "source": [
    "%%timeit\n",
    "res2 = random_uniform_sample_domain([[0,0],[1,1]], 3**2)\n",
    "np.round(res2, 2)"
   ]
  },
  {
   "cell_type": "markdown",
   "metadata": {},
   "source": [
    "## Halton Domain Sampling"
   ]
  },
  {
   "cell_type": "code",
   "execution_count": 8,
   "metadata": {},
   "outputs": [],
   "source": [
    "\"\"\"Halton low discrepancy sequence.\n",
    "This snippet implements the Halton sequence following the generalization of\n",
    "a sequence of *Van der Corput* in n-dimensions.\n",
    "---------------------------\n",
    "MIT License\n",
    "Copyright (c) 2017 Pamphile Tupui ROY\n",
    "Permission is hereby granted, free of charge, to any person obtaining a copy\n",
    "of this software and associated documentation files (the \"Software\"), to deal\n",
    "in the Software without restriction, including without limitation the rights\n",
    "to use, copy, modify, merge, publish, distribute, sublicense, and/or sell\n",
    "copies of the Software, and to permit persons to whom the Software is\n",
    "furnished to do so, subject to the following conditions:\n",
    "The above copyright notice and this permission notice shall be included in all\n",
    "copies or substantial portions of the Software.\n",
    "THE SOFTWARE IS PROVIDED \"AS IS\", WITHOUT WARRANTY OF ANY KIND, EXPRESS OR\n",
    "IMPLIED, INCLUDING BUT NOT LIMITED TO THE WARRANTIES OF MERCHANTABILITY,\n",
    "FITNESS FOR A PARTICULAR PURPOSE AND NONINFRINGEMENT. IN NO EVENT SHALL THE\n",
    "AUTHORS OR COPYRIGHT HOLDERS BE LIABLE FOR ANY CLAIM, DAMAGES OR OTHER\n",
    "LIABILITY, WHETHER IN AN ACTION OF CONTRACT, TORT OR OTHERWISE, ARISING FROM,\n",
    "OUT OF OR IN CONNECTION WITH THE SOFTWARE OR THE USE OR OTHER DEALINGS IN THE\n",
    "SOFTWARE.\n",
    "\"\"\"\n",
    "import numpy as np\n",
    "\n",
    "\n",
    "def primes_from_2_to(n):\n",
    "    \"\"\"Prime number from 2 to n.\n",
    "    From `StackOverflow <https://stackoverflow.com/questions/2068372>`_.\n",
    "    :param int n: sup bound with ``n >= 6``.\n",
    "    :return: primes in 2 <= p < n.\n",
    "    :rtype: list\n",
    "    \"\"\"\n",
    "    sieve = np.ones(n // 3 + (n % 6 == 2), dtype=np.bool)\n",
    "    for i in range(1, int(n ** 0.5) // 3 + 1):\n",
    "        if sieve[i]:\n",
    "            k = 3 * i + 1 | 1\n",
    "            sieve[k * k // 3::2 * k] = False\n",
    "            sieve[k * (k - 2 * (i & 1) + 4) // 3::2 * k] = False\n",
    "    return np.r_[2, 3, ((3 * np.nonzero(sieve)[0][1:] + 1) | 1)]\n",
    "\n",
    "\n",
    "def van_der_corput(n_sample, base=2):\n",
    "    \"\"\"Van der Corput sequence.\n",
    "    :param int n_sample: number of element of the sequence.\n",
    "    :param int base: base of the sequence.\n",
    "    :return: sequence of Van der Corput.\n",
    "    :rtype: list (n_samples,)\n",
    "    \"\"\"\n",
    "    sequence = []\n",
    "    for i in range(n_sample):\n",
    "        n_th_number, denom = 0., 1.\n",
    "        while i > 0:\n",
    "            i, remainder = divmod(i, base)\n",
    "            denom *= base\n",
    "            n_th_number += remainder / denom\n",
    "        sequence.append(n_th_number)\n",
    "\n",
    "    return sequence\n",
    "\n",
    "\n",
    "def halton(dim, n_sample):\n",
    "    \"\"\"Halton sequence.\n",
    "    :param int dim: dimension\n",
    "    :param int n_sample: number of samples.\n",
    "    :return: sequence of Halton.\n",
    "    :rtype: array_like (n_samples, n_features)\n",
    "    \"\"\"\n",
    "    big_number = 10\n",
    "    while 'Not enought primes':\n",
    "        base = primes_from_2_to(big_number)[:dim]\n",
    "        if len(base) == dim:\n",
    "            break\n",
    "        big_number += 1000\n",
    "\n",
    "    # Generate a sample using a Van der Corput sequence per dimension.\n",
    "    sample = [van_der_corput(n_sample + 1, dim) for dim in base]\n",
    "    sample = np.stack(sample, axis=-1)[1:]\n",
    "\n",
    "    return sample\n",
    "\n",
    "def halton_sample_domain(bounds, n_samples):\n",
    "    dim = len(bounds[0])\n",
    "    bounds = np.array(bounds)\n",
    "    halton_sample = halton(dim, n_samples)\n",
    "    return halton_sample * (bounds[1,:]-bounds[0,:]) + bounds[0,:]"
   ]
  },
  {
   "cell_type": "code",
   "execution_count": 9,
   "metadata": {},
   "outputs": [
    {
     "name": "stdout",
     "output_type": "stream",
     "text": [
      "163 µs ± 315 ns per loop (mean ± std. dev. of 7 runs, 10000 loops each)\n"
     ]
    }
   ],
   "source": [
    "%%timeit\n",
    "res3 = halton_sample_domain([[0,0],[1,1]], 3**2)\n",
    "np.round(res3,2)"
   ]
  },
  {
   "cell_type": "markdown",
   "metadata": {},
   "source": [
    "## Informed"
   ]
  },
  {
   "cell_type": "code",
   "execution_count": 683,
   "metadata": {},
   "outputs": [],
   "source": [
    "def process_samples(samples, problem):\n",
    "    column_dim = len(problem.get_bounds()[0]) + problem.fitness_dim\n",
    "    res=np.zeros((samples.shape[0], column_dim))\n",
    "    count=0\n",
    "    perc_val = int(0.1 * samples.shape[0])\n",
    "    for idx,_x in enumerate(samples):\n",
    "        count+=1\n",
    "        f = problem.fitness(_x)\n",
    "        res[idx] = np.concatenate((f,_x))\n",
    "        if (count % perc_val) == 0:\n",
    "            print(round(count/len(samples) * 100, 1), r\"%\")\n",
    "    return res"
   ]
  },
  {
   "cell_type": "code",
   "execution_count": 169,
   "metadata": {},
   "outputs": [],
   "source": [
    "# A Python program to print all  \n",
    "# combinations of given length \n",
    "from itertools import combinations \n",
    "  \n",
    "# Get all combinations of [1, 2, 3] \n",
    "# and length 2 \n",
    "comb = combinations([1, 2, 3], 2) \n",
    "\n",
    "\n",
    "# print(list(comb))\n",
    "\n",
    "from scipy.fftpack import fft, fftfreq, fftshift\n",
    "\n",
    "def informed_nyquist_grid_sample(bounds, n_sample_dim):\n",
    "    # Initial uninformed grid sample of n=3 for evaluation.\n",
    "#     pairwise_comb = combinations(np.arange(len(bounds[0])), 2)\n",
    "\n",
    "    grid = grid_sample_domain(bounds, 4, flatten=False)\n",
    "#     print(grid)\n",
    "    \n",
    "#     print(np.array(list(pairwise_comb)))\n",
    "#     grid_sample_domain(bounds,3)\n",
    "\n",
    "informed_nyquist_grid_sample(test_problem.get_bounds(), 3)\n",
    "\n"
   ]
  },
  {
   "cell_type": "code",
   "execution_count": 668,
   "metadata": {
    "scrolled": true
   },
   "outputs": [],
   "source": [
    "def process_list_of_samples(samples, problem):\n",
    "    column_dim = len(problem.get_bounds()[0]) + problem.fitness_dim\n",
    "    res=np.zeros((samples.shape[0], column_dim))\n",
    "    count=0\n",
    "    perc_val = int(0.1 * samples.shape[0])\n",
    "    for idx,_x in enumerate(samples):\n",
    "        count+=1\n",
    "        f = problem.fitness(_x)\n",
    "        res[idx] = np.concatenate((f,_x))\n",
    "        if (count % perc_val) == 0:\n",
    "            print(round(count/len(samples) * 100, 1), r\"%\")\n",
    "            \n",
    "    return res\n",
    "\n",
    "# def process_grid_of_samples(grid, problem):\n",
    "#     return np.vectorize(problem.fitness)(grid)\n",
    "\n",
    "\n",
    "bounds0 = [[0],[1]]\n",
    "bounds1 = [[0,0],[1, 1]]\n",
    "bounds2 = [[0,0,0],[1, 1, 1]]\n",
    "bounds3 = [[0,0,0,0],[1, 1, 1,1]]\n",
    "\n",
    "\n",
    "bounds0 = np.array(bounds0)\n",
    "bounds1 = np.array(bounds1)\n",
    "bounds2 = np.array(bounds2)\n",
    "bounds3 = np.array(bounds3)\n",
    "\n",
    "\n",
    "\n",
    "# grid = grid_sample_domain(test_problem.get_bounds(), 2, flatten=False)\n",
    "# process_grid_of_samples(grid, test_problem)\n",
    "\n",
    "def f0(x):\n",
    "    return 1.5 * np.sin(20 * 2 * np.pi* x)\n",
    "\n",
    "def f1(x,y):\n",
    "    return np.sin(20 * 2 * np.pi * x)  *  np.sin(10 * 2 * np.pi* y)\n",
    "\n",
    "def f2(x,y,z):\n",
    "    return np.sin(30 * 2 * np.pi * x) * np.sin(10.0 * 2 * np.pi * y) * np.sin(60.0 * 2 * np.pi * z)\n",
    "\n",
    "def f3(x,y,z,m):\n",
    "    return np.sin(5 * 2 * np.pi * x) * np.sin(10.0 * 2 * np.pi * y) * np.sin(15 * 2 * np.pi * z)* np.sin(35 * 2 * np.pi * m)\n",
    "\n",
    "idx_x = 0\n",
    "\n",
    "# _f0 = f0(grid0)\n",
    "# _f1 = f1(*grid1)\n",
    "# _f2 = f2(*grid2)\n",
    "\n",
    "%matplotlib inline\n",
    "\n",
    "\n",
    "import matplotlib.pyplot as plt\n",
    "\n",
    "    \n",
    "def ana(func, bounds, Ns):\n",
    "    \n",
    "#     print(bounds)\n",
    "    \n",
    "    N = np.array(Ns)\n",
    "    \n",
    "    T = (bounds[1] - bounds[0]) / (N)\n",
    "    \n",
    "#     print(T)\n",
    "    \n",
    "    b = np.array([[0]*len(T), T * N])\n",
    "    \n",
    "    f = func(*grid_sample_domain(b, N, flatten=False))\n",
    "    \n",
    "#     print(f)\n",
    "    \n",
    "    yf = np.fft.fftn(f, axes=np.arange(len(f.shape)))\n",
    "    \n",
    "    yf_abs = np.abs(yf)\n",
    "    \n",
    "    max_yf_abs = np.max(yf_abs)\n",
    "    \n",
    "    f_res = []\n",
    "    \n",
    "    threshold = 0.0\n",
    "    \n",
    "    for idx in range(len(bounds[0])):\n",
    "        \n",
    "        aux = np.arange(len(bounds[0]))\n",
    "                \n",
    "        yf_abs_i = np.mean(np.clip(np.swapaxes(yf_abs, 0, 1), threshold * max_yf_abs, max_yf_abs), axis=tuple(aux[aux!=idx]))\n",
    "        \n",
    "#         print(yf_abs_i)\n",
    "        \n",
    "#         print(yf_abs_i)\n",
    "\n",
    "        xf = np.linspace(0.0, 1/2 * N[idx], N[idx]//2)\n",
    "            \n",
    "        yf_i = 2/N[idx] * yf_abs_i[0:N[idx]//2]\n",
    "        \n",
    "#         print(xf.shape)\n",
    "#         print(yf_i.shape)\n",
    "#         print(np.max(yf_i))\n",
    "#         print(yf_i==np.max(yf_i))\n",
    "#         print(xf)\n",
    "#         print(yf_i)\n",
    "        f_res.append(xf[yf_i==np.max(yf_i[1:])]) if len(yf_i)>1 else f_res.append(xf[yf_i==np.max(yf_i)])\n",
    "        \n",
    "#         plt.plot(xf, yf_i)\n",
    "        \n",
    "#         plt.show()\n",
    "\n",
    "    return np.array(f_res)\n",
    "\n",
    "# ret = np.array([[0],[0],[0]])\n",
    "\n",
    "# for i in range(150):\n",
    "        \n",
    "#     ret = np.concatenate((ret,ana(f2, bounds2, [10+i, 10+i, 10+i])), axis=1)\n",
    "\n",
    "# plt.plot(list(range(151)), ret.T)\n",
    "# # print(ret)\n",
    "\n",
    "\n",
    "# plt.show()\n",
    "# xf = fftfreq(10, 0.01)\n",
    "# print(fftshift(xf))"
   ]
  },
  {
   "cell_type": "code",
   "execution_count": 682,
   "metadata": {},
   "outputs": [
    {
     "name": "stdout",
     "output_type": "stream",
     "text": [
      "0\n",
      "1\n",
      "2\n",
      "3\n",
      "4\n",
      "5\n",
      "6\n",
      "7\n",
      "8\n",
      "9\n",
      "10\n",
      "11\n",
      "12\n",
      "13\n",
      "14\n",
      "15\n",
      "16\n",
      "17\n",
      "18\n",
      "19\n",
      "20\n",
      "21\n",
      "22\n",
      "23\n",
      "24\n",
      "25\n",
      "26\n",
      "27\n",
      "28\n",
      "29\n",
      "30\n",
      "31\n",
      "32\n",
      "33\n",
      "34\n",
      "35\n",
      "36\n",
      "37\n",
      "38\n",
      "39\n"
     ]
    },
    {
     "data": {
      "image/png": "[encoded data removed]",
      "text/plain": [
       "<Figure size 432x288 with 1 Axes>"
      ]
     },
     "metadata": {
      "needs_background": "light"
     },
     "output_type": "display_data"
    }
   ],
   "source": [
    "solution = np.array([0.0,\n",
    "                     0.0,\n",
    "                     0.0,\n",
    "                     1e-6,\n",
    "                     1e-6,\n",
    "                     1e-6,\n",
    "                     1e-6])\n",
    "\n",
    "idx_ana = np.array([3, 4])\n",
    "N = np.array([2, 2]) \n",
    "f_idx = 0\n",
    "\n",
    "n_inc = 40\n",
    "\n",
    "from copy import deepcopy \n",
    "\n",
    "def fun_test_1(*args, f_idx=f_idx):\n",
    "    for i, _idx in enumerate(idx_ana):\n",
    "        solution[_idx] = args[i]\n",
    "#         print(solution)\n",
    "    return test_problem.fitness(solution)[f_idx]\n",
    "\n",
    "vect = np.vectorize(fun_test_1)\n",
    "\n",
    "bounds_ = np.array(test_problem.get_bounds())[:,idx_ana] \n",
    "n_x = bounds_.shape[1]\n",
    "ret = np.zeros((n_x, 1))\n",
    "# print(ret)\n",
    "\n",
    "for i in range(n_inc):\n",
    "    print(i)\n",
    "    N_ = N + i\n",
    "    ana_ = ana(vect, bounds_, N_)\n",
    "    ret = np.concatenate((ret, ana_), axis=1)\n",
    "\n",
    "plt.plot(np.array(list(range(n_inc+1)))+N[0], ret.T)\n",
    "plt.show()"
   ]
  },
  {
   "cell_type": "code",
   "execution_count": null,
   "metadata": {},
   "outputs": [],
   "source": []
  },
  {
   "cell_type": "code",
   "execution_count": 11,
   "metadata": {},
   "outputs": [
    {
     "name": "stdout",
     "output_type": "stream",
     "text": [
      "10.0 %\n",
      "20.0 %\n",
      "30.0 %\n",
      "40.0 %\n",
      "50.0 %\n",
      "60.0 %\n",
      "70.0 %\n",
      "80.0 %\n",
      "90.0 %\n",
      "100.0 %\n"
     ]
    }
   ],
   "source": [
    "# Save random dataset.\n",
    "\n",
    "sample_random_data = random_uniform_sample_domain(test_problem.get_bounds(), 6**7)\n",
    "result_random_data = process_samples(sample_random_data, test_problem)\n",
    "df_random_sampling = pd.DataFrame(columns=[f\"f{i+1}\" for i in range(test_problem.fitness_dim)] + [f\"x{i+1}\" for i in range(len(test_problem.design_space.get_bounds()[0]))], data=result_random_data)\n",
    "df_random_sampling.to_parquet(f\"data/AttitudeTrajectoryProblem2D_C1_R1/dataSet2_randomSampled_6.parquet\")"
   ]
  },
  {
   "cell_type": "code",
   "execution_count": 13,
   "metadata": {},
   "outputs": [
    {
     "name": "stdout",
     "output_type": "stream",
     "text": [
      "10.0 %\n",
      "20.0 %\n",
      "30.0 %\n",
      "40.0 %\n",
      "50.0 %\n",
      "60.0 %\n",
      "70.0 %\n",
      "80.0 %\n",
      "90.0 %\n",
      "100.0 %\n"
     ]
    }
   ],
   "source": [
    "# Save halton dataset\n",
    "\n",
    "sample_halton_data = halton_sample_domain(test_problem.get_bounds(), 6**7)\n",
    "result_halton_data = process_samples(sample_halton_data, test_problem)\n",
    "df_halton_sampling = pd.DataFrame(columns=[f\"f{i+1}\" for i in range(test_problem.fitness_dim)] + [f\"x{i+1}\" for i in range(len(test_problem.design_space.get_bounds()[0]))], data=result_halton_data)\n",
    "df_halton_sampling.to_parquet(f\"data/AttitudeTrajectoryProblem2D_C1_R1/dataSet2_haltonSampled_6.parquet\")"
   ]
  },
  {
   "cell_type": "code",
   "execution_count": 686,
   "metadata": {
    "scrolled": true
   },
   "outputs": [
    {
     "name": "stdout",
     "output_type": "stream",
     "text": [
      "10.0 %\n",
      "20.0 %\n",
      "30.0 %\n",
      "40.0 %\n",
      "50.0 %\n",
      "60.0 %\n",
      "70.0 %\n",
      "80.0 %\n",
      "90.0 %\n",
      "100.0 %\n",
      "10.0 %\n",
      "20.0 %\n",
      "30.0 %\n",
      "40.0 %\n",
      "50.0 %\n"
     ]
    },
    {
     "name": "stderr",
     "output_type": "stream",
     "text": [
      "/home/ggarrett/lab/stage/src/problems/two_dimensional/_performance.py:43: RuntimeWarning: invalid value encountered in arccos\n",
      "  _planet_aux_2 = np.arccos(inner1d(sensor2_pointing_u, body_u)) - np.arcsin(R / (R + h))\n"
     ]
    },
    {
     "name": "stdout",
     "output_type": "stream",
     "text": [
      "60.0 %\n",
      "70.0 %\n",
      "80.0 %\n",
      "90.0 %\n",
      "100.0 %\n",
      "10.0 %\n",
      "20.0 %\n",
      "30.0 %\n",
      "40.0 %\n",
      "50.0 %\n",
      "60.0 %\n",
      "70.0 %\n",
      "80.0 %\n",
      "90.0 %\n",
      "100.0 %\n",
      "10.0 %\n",
      "20.0 %\n",
      "30.0 %\n",
      "40.0 %\n",
      "50.0 %\n",
      "60.0 %\n",
      "70.0 %\n",
      "80.0 %\n",
      "90.0 %\n",
      "100.0 %\n",
      "10.0 %\n",
      "20.0 %\n",
      "30.0 %\n",
      "40.0 %\n",
      "50.0 %\n",
      "60.0 %\n",
      "70.0 %\n",
      "80.0 %\n",
      "90.0 %\n",
      "100.0 %\n"
     ]
    }
   ],
   "source": [
    "sample_informed_data = grid_sample_domain(test_problem.get_bounds(), [16, 16, 16, 3, 3, 3, 3])\n",
    "result_informed_data = process_samples(sample_informed_data, test_problem)\n",
    "df_informed_sampling = pd.DataFrame(columns=[f\"f{i+1}\" for i in range(test_problem.fitness_dim)] + [f\"x{i+1}\" for i in range(len(test_problem.design_space.get_bounds()[0]))], data=result_informed_data)\n",
    "df_informed_sampling.to_parquet(f\"data/AttitudeTrajectoryProblem2D_C1_R1/dataSet2_fftSampled_16_3_3e5.parquet\")\n",
    "\n",
    "sample_informed_data = grid_sample_domain(test_problem.get_bounds(), [16, 16, 16, 4, 4, 4, 4])\n",
    "result_informed_data = process_samples(sample_informed_data, test_problem)\n",
    "df_informed_sampling = pd.DataFrame(columns=[f\"f{i+1}\" for i in range(test_problem.fitness_dim)] + [f\"x{i+1}\" for i in range(len(test_problem.design_space.get_bounds()[0]))], data=result_informed_data)\n",
    "df_informed_sampling.to_parquet(f\"data/AttitudeTrajectoryProblem2D_C1_R1/dataSet2_fftSampled_16_4_1e6.parquet\")\n",
    "\n",
    "sample_informed_data = grid_sample_domain(test_problem.get_bounds(), [15, 15, 15, 4, 4, 4, 4])\n",
    "result_informed_data = process_samples(sample_informed_data, test_problem)\n",
    "df_informed_sampling = pd.DataFrame(columns=[f\"f{i+1}\" for i in range(test_problem.fitness_dim)] + [f\"x{i+1}\" for i in range(len(test_problem.design_space.get_bounds()[0]))], data=result_informed_data)\n",
    "df_informed_sampling.to_parquet(f\"data/AttitudeTrajectoryProblem2D_C1_R1/dataSet2_fftSampled_15_4_9e5.parquet\")\n",
    "\n",
    "sample_informed_data = grid_sample_domain(test_problem.get_bounds(), [14, 14, 14, 4, 4, 4, 4])\n",
    "result_informed_data = process_samples(sample_informed_data, test_problem)\n",
    "df_informed_sampling = pd.DataFrame(columns=[f\"f{i+1}\" for i in range(test_problem.fitness_dim)] + [f\"x{i+1}\" for i in range(len(test_problem.design_space.get_bounds()[0]))], data=result_informed_data)\n",
    "df_informed_sampling.to_parquet(f\"data/AttitudeTrajectoryProblem2D_C1_R1/dataSet2_fftSampled_14_4_7e5.parquet\")\n",
    "\n",
    "sample_informed_data = grid_sample_domain(test_problem.get_bounds(), [13, 13, 13, 4, 4, 4, 4])\n",
    "result_informed_data = process_samples(sample_informed_data, test_problem)\n",
    "df_informed_sampling = pd.DataFrame(columns=[f\"f{i+1}\" for i in range(test_problem.fitness_dim)] + [f\"x{i+1}\" for i in range(len(test_problem.design_space.get_bounds()[0]))], data=result_informed_data)\n",
    "df_informed_sampling.to_parquet(f\"data/AttitudeTrajectoryProblem2D_C1_R1/dataSet2_fftSampled_13_4_6e5.parquet\")"
   ]
  },
  {
   "cell_type": "code",
   "execution_count": 687,
   "metadata": {},
   "outputs": [
    {
     "name": "stdout",
     "output_type": "stream",
     "text": [
      "10.0 %\n",
      "20.0 %\n",
      "30.0 %\n",
      "40.0 %\n",
      "50.0 %\n",
      "60.0 %\n",
      "70.0 %\n",
      "80.0 %\n",
      "90.0 %\n",
      "100.0 %\n",
      "10.0 %\n",
      "20.0 %\n",
      "30.0 %\n",
      "40.0 %\n",
      "50.0 %\n",
      "60.0 %\n",
      "70.0 %\n",
      "80.0 %\n",
      "90.0 %\n",
      "100.0 %\n",
      "10.0 %\n",
      "20.0 %\n",
      "30.0 %\n",
      "40.0 %\n",
      "50.0 %\n",
      "60.0 %\n",
      "70.0 %\n",
      "80.0 %\n",
      "90.0 %\n",
      "100.0 %\n",
      "10.0 %\n",
      "20.0 %\n",
      "30.0 %\n",
      "40.0 %\n",
      "50.0 %\n",
      "60.0 %\n",
      "70.0 %\n",
      "80.0 %\n",
      "90.0 %\n",
      "100.0 %\n",
      "10.0 %\n",
      "20.0 %\n",
      "30.0 %\n",
      "40.0 %\n",
      "50.0 %\n",
      "60.0 %\n",
      "70.0 %\n",
      "80.0 %\n",
      "90.0 %\n",
      "100.0 %\n"
     ]
    }
   ],
   "source": [
    "sample_informed_data = grid_sample_domain(test_problem.get_bounds(), [17, 17, 17, 3, 3, 3, 3])\n",
    "result_informed_data = process_samples(sample_informed_data, test_problem)\n",
    "df_informed_sampling = pd.DataFrame(columns=[f\"f{i+1}\" for i in range(test_problem.fitness_dim)] + [f\"x{i+1}\" for i in range(len(test_problem.design_space.get_bounds()[0]))], data=result_informed_data)\n",
    "df_informed_sampling.to_parquet(f\"data/AttitudeTrajectoryProblem2D_C1_R1/dataSet2_fftSampled_17_3_4e5.parquet\")\n",
    "\n",
    "sample_informed_data = grid_sample_domain(test_problem.get_bounds(), [18, 18, 18, 3, 3, 3, 3])\n",
    "result_informed_data = process_samples(sample_informed_data, test_problem)\n",
    "df_informed_sampling = pd.DataFrame(columns=[f\"f{i+1}\" for i in range(test_problem.fitness_dim)] + [f\"x{i+1}\" for i in range(len(test_problem.design_space.get_bounds()[0]))], data=result_informed_data)\n",
    "df_informed_sampling.to_parquet(f\"data/AttitudeTrajectoryProblem2D_C1_R1/dataSet2_fftSampled_18_3_5e5.parquet\")\n",
    "\n",
    "sample_informed_data = grid_sample_domain(test_problem.get_bounds(), [19, 19, 19, 3, 3, 3, 3])\n",
    "result_informed_data = process_samples(sample_informed_data, test_problem)\n",
    "df_informed_sampling = pd.DataFrame(columns=[f\"f{i+1}\" for i in range(test_problem.fitness_dim)] + [f\"x{i+1}\" for i in range(len(test_problem.design_space.get_bounds()[0]))], data=result_informed_data)\n",
    "df_informed_sampling.to_parquet(f\"data/AttitudeTrajectoryProblem2D_C1_R1/dataSet2_fftSampled_19_3_5e6.parquet\")\n",
    "\n",
    "sample_informed_data = grid_sample_domain(test_problem.get_bounds(), [20, 20, 20, 3, 3, 3, 3])\n",
    "result_informed_data = process_samples(sample_informed_data, test_problem)\n",
    "df_informed_sampling = pd.DataFrame(columns=[f\"f{i+1}\" for i in range(test_problem.fitness_dim)] + [f\"x{i+1}\" for i in range(len(test_problem.design_space.get_bounds()[0]))], data=result_informed_data)\n",
    "df_informed_sampling.to_parquet(f\"data/AttitudeTrajectoryProblem2D_C1_R1/dataSet2_fftSampled_20_3_6e6.parquet\")\n",
    "\n",
    "sample_informed_data = grid_sample_domain(test_problem.get_bounds(), [21, 21, 21, 3, 3, 3, 3])\n",
    "result_informed_data = process_samples(sample_informed_data, test_problem)\n",
    "df_informed_sampling = pd.DataFrame(columns=[f\"f{i+1}\" for i in range(test_problem.fitness_dim)] + [f\"x{i+1}\" for i in range(len(test_problem.design_space.get_bounds()[0]))], data=result_informed_data)\n",
    "df_informed_sampling.to_parquet(f\"data/AttitudeTrajectoryProblem2D_C1_R1/dataSet2_fftSampled_21_3_8e6.parquet\")"
   ]
  },
  {
   "cell_type": "code",
   "execution_count": null,
   "metadata": {},
   "outputs": [],
   "source": [
    "\n",
    "def grid_sample_problem(problem, n=10, scale_bounds=1.0, fixed=(())):\n",
    "    \n",
    "    bounds = scale_bounds * np.array(problem.design_space.get_bounds())    \n",
    "    grid = sampled_grid(bounds, n, flatten=True)\n",
    "    grid = pd.DataFrame(grid.T, columns=[f\"x{i+1}\" for i in range(len(grid.T[0]))])\n",
    "    grid_ = grid\n",
    "    grid_values = grid_.values\n",
    "    perc_val = int(0.1 * len(grid_values))\n",
    "    \n",
    "    # Generate storage matrix.\n",
    "    res=np.zeros((grid_.values.shape[0], 12))   # Add f,x shape attribute to problem.\n",
    "    count=0\n",
    "    for idx,_x in enumerate(grid_values):\n",
    "        count+=1\n",
    "        f = problem.fitness(_x)\n",
    "        res[idx] = np.concatenate((f,_x))\n",
    "        if (count % perc_val) == 0:\n",
    "            print(round(count/len(grid_values) * 100, 1), r\"%\")\n",
    "        \n",
    "    df = pd.DataFrame(columns=[f\"f{i+1}\" for i in range(problem.fitness_dim)] + [f\"x{i+1}\" for i in range(len(test_problem.design_space.get_bounds()[0]))], data=res)\n",
    "#     if os.path.exists(\"data\"):\n",
    "#         pass\n",
    "#     else:\n",
    "#         os.mkdir(\"data\")\n",
    "        \n",
    "    save_name = f\"data/AttitudeTrajectoryProblem2D_C1_R1/dataSet2_gridSampled_{n}.parquet\"\n",
    "    \n",
    "    df.to_parquet(save_name)\n"
   ]
  },
  {
   "cell_type": "code",
   "execution_count": null,
   "metadata": {},
   "outputs": [],
   "source": [
    "for n in np.arange(8,12):\n",
    "    grid_sample_problem(test_problem, n)\n",
    "    "
   ]
  },
  {
   "cell_type": "markdown",
   "metadata": {},
   "source": [
    "## Case 2: Grid Sampled Optimal Region"
   ]
  },
  {
   "cell_type": "code",
   "execution_count": 6,
   "metadata": {},
   "outputs": [],
   "source": [
    "def grid_sample_solution(problem, solution, n, scale_per_bound=0.025):\n",
    "#     print(x)\n",
    "    \n",
    "    # Get problem bounds.\n",
    "    bounds = np.array(problem.design_space.get_bounds())\n",
    "    \n",
    "    # Transform into bound range.\n",
    "    bound_range = bounds[1]-bounds[0]\n",
    "    \n",
    "#     print(bound_range)\n",
    "    \n",
    "    # Scale bound range for about point basis.\n",
    "    scaled_bound_range = scale_per_bound * bound_range\n",
    "\n",
    "    # Create new bounds centralised about point.\n",
    "    bounds = np.concatenate(([solution+scaled_bound_range],[solution-scaled_bound_range]))\n",
    "    \n",
    "#     print(bounds.shape)\n",
    "    \n",
    "    # Sample bounds about point.\n",
    "    grid = sampled_grid(bounds, n, flatten=True)\n",
    "    \n",
    "#     print(grid.shape)\n",
    "    \n",
    "    # Transform to dataframe.\n",
    "    grid = pd.DataFrame(grid.T, columns=[f\"x{i+1}\" for i in range(len(grid.T[0]))])\n",
    "    grid_ = grid\n",
    "    grid_values = grid_.values\n",
    "    perc_val = int(0.1 * len(grid_values))\n",
    "    \n",
    "    # Generate storage matrix.\n",
    "    res=np.zeros((grid_.values.shape[0], 12))   # Add f,x shape attribute to problem.\n",
    "    count=0\n",
    "    for idx,_x in enumerate(grid_values):\n",
    "        count+=1\n",
    "#         print(_x)\n",
    "        f = problem.fitness(_x)\n",
    "        res[idx] = np.concatenate((f,_x))\n",
    "        if (count % perc_val) == 0:\n",
    "            print(round(count/len(grid_values) * 100, 1), r\"%\")\n",
    "        \n",
    "    df = pd.DataFrame(columns=[f\"f{i+1}\" for i in range(problem.fitness_dim)] + [f\"x{i+1}\" for i in range(len(test_problem.design_space.get_bounds()[0]))], data=res)\n",
    "        \n",
    "    save_name = f\"data/AttitudeTrajectoryProblem2D_C1_R1/dataSet2_sol1_gridSampled_{n}.parquet\"\n",
    "    \n",
    "    df.to_parquet(save_name)\n",
    "\n",
    "\n",
    "x = np.array([0.00192016,\n",
    "             -0.00135844,\n",
    "              0.00226742,\n",
    "              0.4064695,\n",
    "              0.28561942,\n",
    "              0.96828936,\n",
    "              0.50069615])\n",
    "\n",
    "x[-4:] = x[-4:] / np.linalg.norm(x[-4:])"
   ]
  },
  {
   "cell_type": "code",
   "execution_count": null,
   "metadata": {},
   "outputs": [],
   "source": []
  },
  {
   "cell_type": "code",
   "execution_count": null,
   "metadata": {},
   "outputs": [],
   "source": []
  },
  {
   "cell_type": "code",
   "execution_count": null,
   "metadata": {},
   "outputs": [],
   "source": [
    "for n in np.arange(3,12):\n",
    "    grid_sample_solution(test_problem, x, n, scale_per_bound=0.025)\n",
    "    \n",
    "\n"
   ]
  },
  {
   "cell_type": "code",
   "execution_count": null,
   "metadata": {},
   "outputs": [],
   "source": []
  },
  {
   "cell_type": "code",
   "execution_count": null,
   "metadata": {},
   "outputs": [],
   "source": []
  }
 ],
 "metadata": {
  "kernelspec": {
   "display_name": "py37",
   "language": "python",
   "name": "py37"
  },
  "language_info": {
   "codemirror_mode": {
    "name": "ipython",
    "version": 3
   },
   "file_extension": ".py",
   "mimetype": "text/x-python",
   "name": "python",
   "nbconvert_exporter": "python",
   "pygments_lexer": "ipython3",
   "version": "3.7.4"
  }
 },
 "nbformat": 4,
 "nbformat_minor": 4
}
