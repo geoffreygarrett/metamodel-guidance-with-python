{
 "cells": [
  {
   "cell_type": "markdown",
   "metadata": {},
   "source": [
    "# Grid sampling"
   ]
  },
  {
   "cell_type": "code",
   "execution_count": 50,
   "metadata": {},
   "outputs": [
    {
     "name": "stdout",
     "output_type": "stream",
     "text": [
      "/home/ggarrett/Repositories/NB10422645\n"
     ]
    }
   ],
   "source": [
    "%cd \"~/Repositories/NB10422645\"\n",
    "from src.problems.two_dimensional import *\n",
    "import pandas as pd\n",
    "test_geometry = MissionGeometry()\n",
    "test_design = NOmegaPointsScaleBasedPeriodic(int(test_geometry.P_s / 10), 3)\n",
    "test_spacecraft = Spacecraft()\n",
    "test_problem = AttitudeTrajectoryProblem2D(test_geometry, test_spacecraft, test_design)"
   ]
  },
  {
   "cell_type": "markdown",
   "metadata": {},
   "source": [
    "## Unbiased Domain Grid Sampling"
   ]
  },
  {
   "cell_type": "code",
   "execution_count": 10,
   "metadata": {},
   "outputs": [],
   "source": [
    "def grid_sample_domain(bounds, n_sample_dim, flatten=True):\n",
    "    linspace = [np.linspace(bounds[0][i], bounds[1][i], n_sample_dim) for i in range(len(bounds[0]))]\n",
    "    _return = np.array(np.meshgrid(*linspace))\n",
    "    return np.array([_return_i.flatten() for _return_i in _return.reshape(len(bounds[0]), -1)]).T if flatten else _return"
   ]
  },
  {
   "cell_type": "code",
   "execution_count": 36,
   "metadata": {},
   "outputs": [
    {
     "name": "stdout",
     "output_type": "stream",
     "text": [
      "115 µs ± 1.58 µs per loop (mean ± std. dev. of 7 runs, 10000 loops each)\n"
     ]
    }
   ],
   "source": [
    "%%timeit\n",
    "res1 = grid_sample_domain([[0,0],[1,1]], 3)\n",
    "np.round(res1, 2)"
   ]
  },
  {
   "cell_type": "markdown",
   "metadata": {},
   "source": [
    "## Random Domain Sampling"
   ]
  },
  {
   "cell_type": "code",
   "execution_count": 13,
   "metadata": {},
   "outputs": [],
   "source": [
    "def random_uniform_sample_domain(bounds, n_samples, seed=101):\n",
    "    np.random.seed(seed)\n",
    "    return np.random.uniform(bounds[0], bounds[1], (n_samples, len(bounds[0])))"
   ]
  },
  {
   "cell_type": "code",
   "execution_count": 37,
   "metadata": {},
   "outputs": [
    {
     "name": "stdout",
     "output_type": "stream",
     "text": [
      "21.6 µs ± 734 ns per loop (mean ± std. dev. of 7 runs, 10000 loops each)\n"
     ]
    }
   ],
   "source": [
    "%%timeit\n",
    "res2 = random_uniform_sample_domain([[0,0],[1,1]], 3**2)\n",
    "np.round(res2, 2)"
   ]
  },
  {
   "cell_type": "markdown",
   "metadata": {},
   "source": [
    "## Halton Domain Sampling"
   ]
  },
  {
   "cell_type": "code",
   "execution_count": 31,
   "metadata": {},
   "outputs": [],
   "source": [
    "\"\"\"Halton low discrepancy sequence.\n",
    "This snippet implements the Halton sequence following the generalization of\n",
    "a sequence of *Van der Corput* in n-dimensions.\n",
    "---------------------------\n",
    "MIT License\n",
    "Copyright (c) 2017 Pamphile Tupui ROY\n",
    "Permission is hereby granted, free of charge, to any person obtaining a copy\n",
    "of this software and associated documentation files (the \"Software\"), to deal\n",
    "in the Software without restriction, including without limitation the rights\n",
    "to use, copy, modify, merge, publish, distribute, sublicense, and/or sell\n",
    "copies of the Software, and to permit persons to whom the Software is\n",
    "furnished to do so, subject to the following conditions:\n",
    "The above copyright notice and this permission notice shall be included in all\n",
    "copies or substantial portions of the Software.\n",
    "THE SOFTWARE IS PROVIDED \"AS IS\", WITHOUT WARRANTY OF ANY KIND, EXPRESS OR\n",
    "IMPLIED, INCLUDING BUT NOT LIMITED TO THE WARRANTIES OF MERCHANTABILITY,\n",
    "FITNESS FOR A PARTICULAR PURPOSE AND NONINFRINGEMENT. IN NO EVENT SHALL THE\n",
    "AUTHORS OR COPYRIGHT HOLDERS BE LIABLE FOR ANY CLAIM, DAMAGES OR OTHER\n",
    "LIABILITY, WHETHER IN AN ACTION OF CONTRACT, TORT OR OTHERWISE, ARISING FROM,\n",
    "OUT OF OR IN CONNECTION WITH THE SOFTWARE OR THE USE OR OTHER DEALINGS IN THE\n",
    "SOFTWARE.\n",
    "\"\"\"\n",
    "import numpy as np\n",
    "\n",
    "\n",
    "def primes_from_2_to(n):\n",
    "    \"\"\"Prime number from 2 to n.\n",
    "    From `StackOverflow <https://stackoverflow.com/questions/2068372>`_.\n",
    "    :param int n: sup bound with ``n >= 6``.\n",
    "    :return: primes in 2 <= p < n.\n",
    "    :rtype: list\n",
    "    \"\"\"\n",
    "    sieve = np.ones(n // 3 + (n % 6 == 2), dtype=np.bool)\n",
    "    for i in range(1, int(n ** 0.5) // 3 + 1):\n",
    "        if sieve[i]:\n",
    "            k = 3 * i + 1 | 1\n",
    "            sieve[k * k // 3::2 * k] = False\n",
    "            sieve[k * (k - 2 * (i & 1) + 4) // 3::2 * k] = False\n",
    "    return np.r_[2, 3, ((3 * np.nonzero(sieve)[0][1:] + 1) | 1)]\n",
    "\n",
    "\n",
    "def van_der_corput(n_sample, base=2):\n",
    "    \"\"\"Van der Corput sequence.\n",
    "    :param int n_sample: number of element of the sequence.\n",
    "    :param int base: base of the sequence.\n",
    "    :return: sequence of Van der Corput.\n",
    "    :rtype: list (n_samples,)\n",
    "    \"\"\"\n",
    "    sequence = []\n",
    "    for i in range(n_sample):\n",
    "        n_th_number, denom = 0., 1.\n",
    "        while i > 0:\n",
    "            i, remainder = divmod(i, base)\n",
    "            denom *= base\n",
    "            n_th_number += remainder / denom\n",
    "        sequence.append(n_th_number)\n",
    "\n",
    "    return sequence\n",
    "\n",
    "\n",
    "def halton(dim, n_sample):\n",
    "    \"\"\"Halton sequence.\n",
    "    :param int dim: dimension\n",
    "    :param int n_sample: number of samples.\n",
    "    :return: sequence of Halton.\n",
    "    :rtype: array_like (n_samples, n_features)\n",
    "    \"\"\"\n",
    "    big_number = 10\n",
    "    while 'Not enought primes':\n",
    "        base = primes_from_2_to(big_number)[:dim]\n",
    "        if len(base) == dim:\n",
    "            break\n",
    "        big_number += 1000\n",
    "\n",
    "    # Generate a sample using a Van der Corput sequence per dimension.\n",
    "    sample = [van_der_corput(n_sample + 1, dim) for dim in base]\n",
    "    sample = np.stack(sample, axis=-1)[1:]\n",
    "\n",
    "    return sample\n",
    "\n",
    "def halton_sample_domain(bounds, n_samples):\n",
    "    dim = len(bounds[0])\n",
    "    bounds = np.array(bounds)\n",
    "    halton_sample = halton(dim, n_samples)\n",
    "    return halton_sample * (bounds[1,:]-bounds[0,:]) + bounds[0,:]"
   ]
  },
  {
   "cell_type": "code",
   "execution_count": 51,
   "metadata": {},
   "outputs": [
    {
     "name": "stdout",
     "output_type": "stream",
     "text": [
      "264 µs ± 9.94 µs per loop (mean ± std. dev. of 7 runs, 1000 loops each)\n"
     ]
    }
   ],
   "source": [
    "%%timeit\n",
    "res3 = halton_sample_domain([[0,0],[1,1]], 3**2)\n",
    "np.round(res3,2)"
   ]
  },
  {
   "cell_type": "code",
   "execution_count": 52,
   "metadata": {},
   "outputs": [],
   "source": [
    "def process_samples(samples, problem):\n",
    "    column_dim = len(problem.get_bounds()[0]) + problem.fitness_dim\n",
    "    res=np.zeros((samples.shape[0], column_dim))\n",
    "    count=0\n",
    "    perc_val = int(0.1 * samples.shape[0])\n",
    "    for idx,_x in enumerate(samples):\n",
    "        count+=1\n",
    "        f = problem.fitness(_x)\n",
    "        res[idx] = np.concatenate((f,_x))\n",
    "        if (count % perc_val) == 0:\n",
    "            print(round(count/len(samples) * 100, 1), r\"%\")\n",
    "    return res"
   ]
  },
  {
   "cell_type": "code",
   "execution_count": null,
   "metadata": {},
   "outputs": [],
   "source": [
    "# Save random dataset.\n",
    "\n",
    "sample_random_data = random_uniform_sample_domain(test_problem.get_bounds(), 6**7)\n",
    "result_random_data = process_samples(sample_random_data, test_problem)\n",
    "df_random_sampling = pd.DataFrame(columns=[f\"f{i+1}\" for i in range(test_problem.fitness_dim)] + [f\"x{i+1}\" for i in range(len(test_problem.design_space.get_bounds()[0]))], data=result_random_data)\n",
    "df_random_sampling.to_parquet(f\"data/dataSet2_randomSampled_6.parquet\")"
   ]
  },
  {
   "cell_type": "code",
   "execution_count": null,
   "metadata": {
    "scrolled": true
   },
   "outputs": [],
   "source": [
    "# Save halton dataset.\n",
    "\n",
    "sample_halton_data = halton_sample_domain(test_problem.get_bounds(), 6**7)\n",
    "result_halton_data = process_samples(sample_halton_data, test_problem)\n",
    "df_halton_sampling = pd.DataFrame(columns=[f\"f{i+1}\" for i in range(test_problem.fitness_dim)] + [f\"x{i+1}\" for i in range(len(test_problem.design_space.get_bounds()[0]))], data=result_halton_data)\n",
    "df_halton_sampling.to_parquet(f\"data/dataSet2_haltonSampled_6.parquet\")"
   ]
  },
  {
   "cell_type": "code",
   "execution_count": null,
   "metadata": {},
   "outputs": [],
   "source": [
    "\n",
    "def grid_sample_problem(problem, n=10, scale_bounds=1.0, fixed=(())):\n",
    "    \n",
    "    bounds = scale_bounds * np.array(problem.design_space.get_bounds())    \n",
    "    grid = sampled_grid(bounds, n, flatten=True)\n",
    "    grid = pd.DataFrame(grid.T, columns=[f\"x{i+1}\" for i in range(len(grid.T[0]))])\n",
    "    grid_ = grid\n",
    "    grid_values = grid_.values\n",
    "    perc_val = int(0.1 * len(grid_values))\n",
    "    \n",
    "    # Generate storage matrix.\n",
    "    res=np.zeros((grid_.values.shape[0], 12))   # Add f,x shape attribute to problem.\n",
    "    count=0\n",
    "    for idx,_x in enumerate(grid_values):\n",
    "        count+=1\n",
    "        f = problem.fitness(_x)\n",
    "        res[idx] = np.concatenate((f,_x))\n",
    "        if (count % perc_val) == 0:\n",
    "            print(round(count/len(grid_values) * 100, 1), r\"%\")\n",
    "        \n",
    "    df = pd.DataFrame(columns=[f\"f{i+1}\" for i in range(problem.fitness_dim)] + [f\"x{i+1}\" for i in range(len(test_problem.design_space.get_bounds()[0]))], data=res)\n",
    "#     if os.path.exists(\"data\"):\n",
    "#         pass\n",
    "#     else:\n",
    "#         os.mkdir(\"data\")\n",
    "        \n",
    "    save_name = f\"data/AttitudeTrajectoryProblem2D_C1_R1/dataSet2_gridSampled_{n}.parquet\"\n",
    "    \n",
    "    df.to_parquet(save_name)\n"
   ]
  },
  {
   "cell_type": "code",
   "execution_count": null,
   "metadata": {},
   "outputs": [],
   "source": [
    "for n in np.arange(8,12):\n",
    "    grid_sample_problem(test_problem, n)\n",
    "    "
   ]
  },
  {
   "cell_type": "markdown",
   "metadata": {},
   "source": [
    "## Case 2: Grid Sampled Optimal Region"
   ]
  },
  {
   "cell_type": "code",
   "execution_count": 6,
   "metadata": {},
   "outputs": [],
   "source": [
    "def grid_sample_solution(problem, solution, n, scale_per_bound=0.025):\n",
    "#     print(x)\n",
    "    \n",
    "    # Get problem bounds.\n",
    "    bounds = np.array(problem.design_space.get_bounds())\n",
    "    \n",
    "    # Transform into bound range.\n",
    "    bound_range = bounds[1]-bounds[0]\n",
    "    \n",
    "#     print(bound_range)\n",
    "    \n",
    "    # Scale bound range for about point basis.\n",
    "    scaled_bound_range = scale_per_bound * bound_range\n",
    "\n",
    "    # Create new bounds centralised about point.\n",
    "    bounds = np.concatenate(([solution+scaled_bound_range],[solution-scaled_bound_range]))\n",
    "    \n",
    "#     print(bounds.shape)\n",
    "    \n",
    "    # Sample bounds about point.\n",
    "    grid = sampled_grid(bounds, n, flatten=True)\n",
    "    \n",
    "#     print(grid.shape)\n",
    "    \n",
    "    # Transform to dataframe.\n",
    "    grid = pd.DataFrame(grid.T, columns=[f\"x{i+1}\" for i in range(len(grid.T[0]))])\n",
    "    grid_ = grid\n",
    "    grid_values = grid_.values\n",
    "    perc_val = int(0.1 * len(grid_values))\n",
    "    \n",
    "    # Generate storage matrix.\n",
    "    res=np.zeros((grid_.values.shape[0], 12))   # Add f,x shape attribute to problem.\n",
    "    count=0\n",
    "    for idx,_x in enumerate(grid_values):\n",
    "        count+=1\n",
    "#         print(_x)\n",
    "        f = problem.fitness(_x)\n",
    "        res[idx] = np.concatenate((f,_x))\n",
    "        if (count % perc_val) == 0:\n",
    "            print(round(count/len(grid_values) * 100, 1), r\"%\")\n",
    "        \n",
    "    df = pd.DataFrame(columns=[f\"f{i+1}\" for i in range(problem.fitness_dim)] + [f\"x{i+1}\" for i in range(len(test_problem.design_space.get_bounds()[0]))], data=res)\n",
    "        \n",
    "    save_name = f\"data/AttitudeTrajectoryProblem2D_C1_R1/dataSet2_sol1_gridSampled_{n}.parquet\"\n",
    "    \n",
    "    df.to_parquet(save_name)\n",
    "\n",
    "\n",
    "x = np.array([0.00192016,\n",
    "             -0.00135844,\n",
    "              0.00226742,\n",
    "              0.4064695,\n",
    "              0.28561942,\n",
    "              0.96828936,\n",
    "              0.50069615])\n",
    "\n",
    "x[-4:] = x[-4:] / np.linalg.norm(x[-4:])"
   ]
  },
  {
   "cell_type": "code",
   "execution_count": null,
   "metadata": {},
   "outputs": [],
   "source": []
  },
  {
   "cell_type": "code",
   "execution_count": null,
   "metadata": {},
   "outputs": [],
   "source": []
  },
  {
   "cell_type": "code",
   "execution_count": null,
   "metadata": {},
   "outputs": [],
   "source": [
    "for n in np.arange(3,12):\n",
    "    grid_sample_solution(test_problem, x, n, scale_per_bound=0.025)\n",
    "    \n",
    "\n"
   ]
  },
  {
   "cell_type": "code",
   "execution_count": null,
   "metadata": {},
   "outputs": [],
   "source": []
  },
  {
   "cell_type": "code",
   "execution_count": null,
   "metadata": {},
   "outputs": [],
   "source": []
  }
 ],
 "metadata": {
  "kernelspec": {
   "display_name": "sigh",
   "language": "python",
   "name": "sigh"
  },
  "language_info": {
   "codemirror_mode": {
    "name": "ipython",
    "version": 3
   },
   "file_extension": ".py",
   "mimetype": "text/x-python",
   "name": "python",
   "nbconvert_exporter": "python",
   "pygments_lexer": "ipython3",
   "version": "3.7.3"
  }
 },
 "nbformat": 4,
 "nbformat_minor": 4
}
