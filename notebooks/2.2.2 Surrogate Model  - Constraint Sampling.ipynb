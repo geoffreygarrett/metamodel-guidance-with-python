{
 "cells": [
  {
   "cell_type": "markdown",
   "metadata": {
    "toc-hr-collapsed": false
   },
   "source": [
    "# Constraint Manifold Sampling"
   ]
  },
  {
   "cell_type": "markdown",
   "metadata": {},
   "source": [
    "In order to provide sufficient sampled data for allowing a surrogate model to learn the boundaries that define the satisfaction of constraints in an N-dimensional decision space, an iterative method is proposed. This method is only applicable to continuous non-linear equations, from which the constraint satisfaction is determined.  \n",
    "<br>"
   ]
  },
  {
   "cell_type": "code",
   "execution_count": null,
   "metadata": {},
   "outputs": [],
   "source": [
    "%matplotlib inline\n",
    "%cd \"~/lab/NB10422645\"\n",
    "\n",
    "import matplotlib.pyplot as plt\n",
    "from src.notebooks.constraint_manifold_sampling import *\n",
    "import sympy as sp\n",
    "import numpy as np"
   ]
  },
  {
   "cell_type": "markdown",
   "metadata": {
    "toc-hr-collapsed": false
   },
   "source": [
    "## Demonstration in $\\mathbb{R}^2$"
   ]
  },
  {
   "cell_type": "markdown",
   "metadata": {},
   "source": [
    "Assume the following arbitrary manifold describing the region within which an arbitrary constraint is no longer satsified according to an equation in $\\mathbb{R}^2$."
   ]
  },
  {
   "cell_type": "markdown",
   "metadata": {},
   "source": [
    "![Fig 1: Manifold depiction in $\\mathbb{R}^2$, where white regions depict constraint satisfaction.](graphics/constraint_1.png)"
   ]
  },
  {
   "cell_type": "markdown",
   "metadata": {
    "toc-hr-collapsed": false
   },
   "source": [
    "### Definition of Constraint equation\n",
    "\n",
    "According to the previous $\\mathbb{R}^2$ example; $\\overline{X}=[{x_1,x_2}]$. The Inequality constrain satisfaction is defined as $\\mathcal{C}(\\overline{X})\\leq{0}$. The manifold at which we would like to arbitrary points to converge towards is defined by $\\mathcal{C}(\\overline{X})={0}$. Figure 1 is described by the following domain:\n",
    "\n",
    "\\begin{equation}\n",
    "    \\begin{aligned}\n",
    "    x_1 &\\in [0,1] \\\\\n",
    "    x_2 &\\in[0,1] \\\\\n",
    "    \\end{aligned}\n",
    "    \\label{eq:domain}\\tag{1}\n",
    "\\end{equation}\n",
    "\n",
    "Let the regions shown in Figure 1 be described as points that must be outside of two independent circular regions. The constraint equation would then be defined as:\n",
    "\n",
    "\\begin{equation}\n",
    "    \\mathcal{C}_{circ}(\\overline{X}) = R - \\sqrt{(x_1-x_{1_0})^2 + (x_2 - x_{2_0})^2}\n",
    "    \\label{eq:c_circ}\\tag{2}\n",
    "\\end{equation}\n",
    "\n",
    "where R and $[x_{1_0}, x_{2_0}]$ and are the radius and location of the center of the circle respectively."
   ]
  },
  {
   "cell_type": "markdown",
   "metadata": {},
   "source": [
    "### Linearisation of Constraint equation\n",
    "\n",
    "The constraint equation is linearised about $\\overline{X}_0$ through the use of Taylor expansion, described in matrix notation as follows:\n",
    "\n",
    "\\begin{equation}\n",
    "    \\overline{y}=A(\\overline{X}) = A(\\overline{X}_0) + A'(\\overline{X}_0)(\\overline{X}-\\overline{X}_0) +\\;...\\;= A(\\overline{X}_0) + A'(\\overline{X}_0)\\Delta{\\overline{X}} +\\;...\\;\n",
    "    \\label{eq:taylor}\\tag{3}\n",
    "\\end{equation}\n",
    "\n",
    "Equation \\ref{eq:taylor} can be rewritten in the first order accurate form:\n",
    "\n",
    "\\begin{equation}\n",
    "    \\overline{y}^* - \\overline{y}_0 = \\Delta{\\overline{y}} = A(\\overline{X}) - A(\\overline{X}_0) = A'(\\overline{X}_0)\\Delta{\\overline{X}}\n",
    "    \\label{eq:taylor2}\\tag{4}\n",
    "\\end{equation}\n",
    "\n",
    "Equation \\ref{eq:taylor2} describes a first-order accurate, iterative equation which can be used to provide update steps ($\\Delta{\\overline{X}}$) to $\\overline{X}_0$ in order for $\\overline{X}_0$ to converge towards a reference value of $\\overline{y}^*$. Comparing Equation 2 to the prescribed linearisation, we set the following: \n",
    "\n",
    "\\begin{equation}\n",
    "    \\begin{aligned}\n",
    "    \\\\\n",
    "    \\overline{y}_0     & = \\mathcal{C}_{obs}(\\overline{X}_0) \\\\\n",
    "    \\\\\n",
    "    A'(\\overline{X}_0) & = \\frac{\\partial{\\mathcal{C}_{circ}}}{\\partial{\\overline{X}}}\\bigg|_{\\overline{X}_0} = \\mathbf{J}_{\\overline{X}}|_{\\overline{X}_0}\n",
    "    \\end{aligned}\n",
    "\\end{equation}"
   ]
  },
  {
   "cell_type": "markdown",
   "metadata": {},
   "source": [
    "### Algorithm definition"
   ]
  },
  {
   "cell_type": "markdown",
   "metadata": {
    "toc-hr-collapsed": false
   },
   "source": [
    "```\n",
    "DEFINITIONS\n",
    "---------------------------------------\n",
    "y* : reference value for convergence\n",
    "y_obs : observed value for current X\n",
    "Jx : jacobian matrix w.r.t. X\n",
    "X : decision matrix\n",
    "X_sampled : sampled values for init\n",
    "tol : tolerance setting for convergence\n",
    "maxiter : maximum number of iterations\n",
    "---------------------------------------\n",
    "\n",
    "delta_y = y* - y_obs\n",
    "X = X_sampled \n",
    "count = 0\n",
    "\n",
    "while (|delta_y| > tol) and (count <= maxiter):\n",
    "    count = count + 1\n",
    "    \n",
    "    # Moor penrose inverse used here.\n",
    "    delta_X = (J.T * J)^(-1) * J.T * delta_y\n",
    "    \n",
    "    # Update X\n",
    "    X = X + delta_X\n",
    "    \n",
    "    # Recalculate current observed y for new X\n",
    "    y_obs = f(X)\n",
    "```"
   ]
  },
  {
   "cell_type": "markdown",
   "metadata": {
    "toc-hr-collapsed": true
   },
   "source": [
    "### Example use cases"
   ]
  },
  {
   "cell_type": "markdown",
   "metadata": {},
   "source": [
    "#### Convergence to Manifold ($\\overline{y}^* = 0$)"
   ]
  },
  {
   "cell_type": "markdown",
   "metadata": {},
   "source": [
    "Setting the $y^*$ value results in the convergence to the surface of the constraint manifold, as seen for the two dimensional case seen below:"
   ]
  },
  {
   "cell_type": "code",
   "execution_count": null,
   "metadata": {},
   "outputs": [],
   "source": [
    "fig = plt.figure(figsize=(3,3), dpi=200)\n",
    "ax = fig.add_subplot(111)\n",
    "simple_2d_case_study(ax, maxiter=1, k=1, manifold=True, y_ref=0)"
   ]
  },
  {
   "cell_type": "markdown",
   "metadata": {},
   "source": [
    "#### Convergence to layers Manifold offsets ($\\overline{y}^* = \\{-0.10, -0.05, 0.05, 0.10\\}$)"
   ]
  },
  {
   "cell_type": "markdown",
   "metadata": {},
   "source": [
    "Samples can be obtained from offset layers of the manifold, in order to provide more interior and exterior information with respect to the constraint manifold, as seen in the example below: "
   ]
  },
  {
   "cell_type": "code",
   "execution_count": null,
   "metadata": {},
   "outputs": [],
   "source": [
    "fig = plt.figure(figsize=(3,3), dpi=200)\n",
    "ax = fig.add_subplot(111)\n",
    "simple_2d_case_study(ax, maxiter=1, k=1, manifold=False, y_ref=[-0.10, -0.05, 0.05, 0.10])"
   ]
  },
  {
   "cell_type": "markdown",
   "metadata": {},
   "source": [
    "### Convexity & concavity of the cost function"
   ]
  },
  {
   "cell_type": "markdown",
   "metadata": {},
   "source": [
    "Introducing a new exponent variable to the original constraint equation for $\\mathcal{C}_{circ}(\\overline{X})$, allows us to modify the concavity and convexity of the constraint equation which is in $\\mathbb{R}^3$.\n",
    "\n",
    "\\begin{equation}\n",
    "    \\mathcal{C}_{circ}(\\overline{X}) = R^{k} - [(x_1-x_{1_0})^2 + (x_2 - x_{2_0})^2]^{k/2}\n",
    "    \\label{eq:c_circ}\\tag{2}\n",
    "\\end{equation}\n",
    "\n",
    "It should be noted that the previous examples were such that $k=1$, which allowed for a single iteration for the previous results obtained. This suggests that the equation with $k=1$ is first-order dominant. The following example shows the case with $k=2$, which increases the concavity of the equation. The left and right images are the first and second iterations towards the manifold, respectively."
   ]
  },
  {
   "cell_type": "code",
   "execution_count": null,
   "metadata": {},
   "outputs": [],
   "source": [
    "fig = plt.figure(figsize=(6,3), dpi=200)\n",
    "ax = fig.add_subplot(121)\n",
    "simple_2d_case_study(ax, maxiter=1, k=2, manifold=True, y_ref=0)\n",
    "ax = fig.add_subplot(122)\n",
    "simple_2d_case_study(ax, maxiter=2, k=2, manifold=True, y_ref=0)"
   ]
  },
  {
   "cell_type": "markdown",
   "metadata": {},
   "source": [
    "In the case of $k=0.5$, with increased convexity, ceteris paribus:"
   ]
  },
  {
   "cell_type": "code",
   "execution_count": null,
   "metadata": {},
   "outputs": [],
   "source": [
    "fig = plt.figure(figsize=(6,3), dpi=200)\n",
    "ax = fig.add_subplot(121)\n",
    "simple_2d_case_study(ax, maxiter=1, k=0.5, manifold=True, y_ref=0)\n",
    "ax = fig.add_subplot(122)\n",
    "simple_2d_case_study(ax, maxiter=2, k=0.5, manifold=True, y_ref=0)"
   ]
  },
  {
   "cell_type": "markdown",
   "metadata": {},
   "source": [
    "## 2D Attitutude problem: $\\mathcal{C}_{\\Omega_{max}}$"
   ]
  },
  {
   "cell_type": "markdown",
   "metadata": {},
   "source": [
    "The objective is to sample closely to the manifold in order to provide sample data that clearly distinguishes the manifold at which the constraint ($\\mathcal{C}$) is no longer satisfied. The following equation describes a manifold in the $\\mathbb{R}^{2N-1}$ formulation of the 2D attitude problem.  \n",
    "<br>"
   ]
  },
  {
   "cell_type": "markdown",
   "metadata": {},
   "source": [
    "\\begin{equation}\n",
    "\\bigg|\\frac{4\\pi{n}-2\\mathbb{S}_{\\Omega}-\\Omega_{0}t_{w,0}-\\Omega_{N}t_{w,N}}{t_{w,0}+t_{w,N}}\\bigg|\\leq{\\Omega_{max}}\n",
    "\\label{eq:1}\n",
    "\\end{equation}  \n",
    "<br>"
   ]
  },
  {
   "cell_type": "markdown",
   "metadata": {},
   "source": [
    "where $\\mathbb{S}_{\\Omega}$ is the trapezoidal sum of the interior values of the sequence of $\\Omega$ values. The equation describes the condition for the periodic domain, as $\\Omega_{1,...,N}$ are sampled within the constraint boundary of $\\mathcal{C}_{\\Omega_{max}}$, $\\Omega_0$ is the only angular rate value that can cause $\\mathcal{C}_{\\Omega_{max}}$ to be not satisfied.\n"
   ]
  },
  {
   "cell_type": "markdown",
   "metadata": {},
   "source": [
    "Taking the case where there exists two interior $\\Omega$ values, the input space is $\\mathbb{R}^{5}$. This constraint can can be expressed in the non-linear form $\\overline{y}=A(\\overline{X})$, where:\n",
    "\n",
    "\\begin{equation}\n",
    "    \\overline{X} = \\begin{matrix}[\\;\\Omega_1 & \\Omega_2 & t_{w,0} & t_{w,1} & t_{w,2}\\end{matrix}]^T\n",
    "\\end{equation}\n",
    "\n",
    "\\begin{equation}\n",
    "    A(\\overline{X}) = \\Omega_0(\\overline{X}) = \n",
    "    \\begin{matrix}\\bigg[\n",
    "    \\frac{4\\pi{n} - (\\Omega_1 + \\Omega_2)\\cdot{}t_{w,1} + \\Omega_0{t_{w,0}} + \\Omega_2{t_{w,2}}}{t_{w,0} + t_{w,N}}\n",
    "    \\end{matrix}\\bigg]\n",
    "\\end{equation}\n",
    "\n",
    "This can be reformulated into a taylor expansion about $\\overline{X}_0$:\n",
    "\n",
    "\\begin{equation}\n",
    "    y=A(\\overline{X}) = A(\\overline{X}_0) + A'(\\overline{X}_0)(\\overline{X}-\\overline{X}_0) +\\;...\\;= A(\\overline{X}_0) + A'(\\overline{X}_0)\\Delta{\\overline{X}} +\\;...\\;\n",
    "\\end{equation}\n",
    "\n",
    "This can be reformulated to the first order accurate equation:\n",
    "\n",
    "\\begin{equation}\n",
    "    \\Delta{\\Omega_0} = \\frac{\\partial{\\Omega_0}}{\\partial{\\overline{X}}}\\bigg|_{\\overline{X}_0} \\Delta{\\overline{X}}\n",
    "\\end{equation}\n",
    "\n",
    "Taking the partial differential of the equation provides the following:\n",
    "\n",
    "\\begin{equation}\n",
    "    \\frac{\\partial{\\Omega_0}}{\\partial{\\overline{X}}} = \\mathbf{J}_{\\Omega_{0}}\n",
    "\\end{equation}"
   ]
  },
  {
   "cell_type": "code",
   "execution_count": null,
   "metadata": {},
   "outputs": [],
   "source": [
    "# Define symbols.\n",
    "Omega0  = sp.Symbol(\"Omega_0\")\n",
    "Omega1  = sp.Symbol(\"Omega_1\")\n",
    "Omega2  = sp.Symbol(\"Omega_2\")\n",
    "tw0     = sp.Symbol(\"t_w_0\")\n",
    "tw1     = sp.Symbol(\"t_w_1\")\n",
    "tw2     = sp.Symbol(\"t_w_2\")\n",
    "n       = sp.symbols(\"n\")\n",
    "o_lim   = sp.symbols(\"\\Omega_{lim}\")\n",
    "c_omega = sp.Symbol(\"\\mathcal{C}_{\\Omega_{max}}(\\overline{X})\")\n",
    "x_vec   = sp.Matrix([Omega1, Omega2, tw0, tw1, tw2])\n",
    "\n",
    "# Abs omega max manifold for Omega0.\n",
    "abs_omega_max = 0.002\n",
    "\n",
    "# r.h.s. of constraint equation.\n",
    "c_omega_rhs = o_lim - (4 * sp.pi * n - 2 * ((Omega1 + Omega2)/2 * tw1) - Omega1 * tw0 - Omega2 * tw2) / (tw0 + tw2)\n",
    "\n",
    "# Define equation.\n",
    "c_omega_eq = sp.Eq(c_omega, c_omega_rhs)\n",
    "\n",
    "# Jacobian of constraint observation.\n",
    "Jx = sp.Matrix([c_omega_eq.rhs]).jacobian(x_vec)\n",
    "\n",
    "# Define auxilliary function form of Jacobian.\n",
    "Jx_func = sp.lambdify([Omega1, Omega2, tw0, tw1, tw2, n, o_lim], Jx, \"numpy\")\n",
    "\n",
    "# Define auxilliary function form of y_observation.\n",
    "c_omega_func = sp.lambdify([Omega1, Omega2, tw0, tw1, tw2, n, o_lim], c_omega_rhs, \"numpy\")\n",
    "\n",
    "# Define bounds.\n",
    "bounds = [[-1 * abs_omega_max] * 2 + [0.001] * 3,\n",
    "          [+1 * abs_omega_max] * 2 + [1.000] * 3]\n",
    "\n",
    "\n",
    "c1_o = System(c_omega_func, Jx_func, [1, -abs_omega_max])\n",
    "\n",
    "c2_o = System(c_omega_func, Jx_func, [1, +abs_omega_max])\n",
    "\n",
    "sample_x_grid_2 = sampled_grid(bounds, 15, flatten=True)\n",
    "\n",
    "c1_result = iterate2manifold(bounds, sample_x_grid_2, c1_o.y, c1_o.Jx, \n",
    "                            maxiter=5, force_bounds=False, tol=1e-6, verbose=True)\n",
    "\n",
    "c2_result = iterate2manifold(bounds, sample_x_grid_2, c2_o.y, c2_o.Jx, \n",
    "                            maxiter=5, force_bounds=False, tol=1e-6, verbose=True)"
   ]
  }
 ],
 "metadata": {
  "kernelspec": {
   "display_name": "py37",
   "language": "python",
   "name": "py37"
  },
  "language_info": {
   "codemirror_mode": {
    "name": "ipython",
    "version": 3
   },
   "file_extension": ".py",
   "mimetype": "text/x-python",
   "name": "python",
   "nbconvert_exporter": "python",
   "pygments_lexer": "ipython3",
   "version": "3.7.4"
  },
  "toc-autonumbering": true
 },
 "nbformat": 4,
 "nbformat_minor": 4
}
