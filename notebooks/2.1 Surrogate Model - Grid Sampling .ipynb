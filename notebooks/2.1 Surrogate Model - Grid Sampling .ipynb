{
 "cells": [
  {
   "cell_type": "markdown",
   "metadata": {},
   "source": [
    "# Grid sampling"
   ]
  },
  {
   "cell_type": "markdown",
   "metadata": {},
   "source": [
    "## Case 1: Grid Sampled Domain"
   ]
  },
  {
   "cell_type": "code",
   "execution_count": null,
   "metadata": {},
   "outputs": [],
   "source": [
    "%cd \"/home/ggarrett/lab/NB10422645 (Stage - Airbus)/\"\n",
    "from src.problems.two_dimensional import *\n",
    "from src.notebooks.constraint_manifold_sampling import *\n",
    "import pandas as pd"
   ]
  },
  {
   "cell_type": "code",
   "execution_count": 4,
   "metadata": {},
   "outputs": [],
   "source": [
    "from src.problems.two_dimensional import *\n",
    "test_geometry = MissionGeometry()\n",
    "test_design = NOmegaPointsScaleBasedPeriodic(int(test_geometry.P_s / 10), 3)\n",
    "test_spacecraft = Spacecraft()\n",
    "test_problem = AttitudeTrajectoryProblem2D(test_geometry, test_spacecraft, test_design)"
   ]
  },
  {
   "cell_type": "code",
   "execution_count": 5,
   "metadata": {},
   "outputs": [],
   "source": [
    "import os\n",
    "\n",
    "def grid_sample_problem(problem, n=10, scale_bounds=1.0, fixed=(())):\n",
    "    \n",
    "    bounds = scale_bounds * np.array(problem.design_space.get_bounds())    \n",
    "    grid = sampled_grid(bounds, n, flatten=True)\n",
    "    grid = pd.DataFrame(grid.T, columns=[f\"x{i+1}\" for i in range(len(grid.T[0]))])\n",
    "    grid_ = grid\n",
    "    grid_values = grid_.values\n",
    "    perc_val = int(0.1 * len(grid_values))\n",
    "    \n",
    "    # Generate storage matrix.\n",
    "    res=np.zeros((grid_.values.shape[0], 12))   # Add f,x shape attribute to problem.\n",
    "    count=0\n",
    "    for idx,_x in enumerate(grid_values):\n",
    "        count+=1\n",
    "        f = problem.fitness(_x)\n",
    "        res[idx] = np.concatenate((f,_x))\n",
    "        if (count % perc_val) == 0:\n",
    "            print(round(count/len(grid_values) * 100, 1), r\"%\")\n",
    "        \n",
    "    df = pd.DataFrame(columns=[f\"f{i+1}\" for i in range(problem.fitness_dim)] + [f\"x{i+1}\" for i in range(len(test_problem.design_space.get_bounds()[0]))], data=res)\n",
    "#     if os.path.exists(\"data\"):\n",
    "#         pass\n",
    "#     else:\n",
    "#         os.mkdir(\"data\")\n",
    "        \n",
    "    save_name = f\"data/AttitudeTrajectoryProblem2D_C1_R1/dataSet2_gridSampled_{n}.parquet\"\n",
    "    \n",
    "    df.to_parquet(save_name)\n"
   ]
  },
  {
   "cell_type": "code",
   "execution_count": null,
   "metadata": {},
   "outputs": [],
   "source": [
    "for n in np.arange(8,12):\n",
    "    grid_sample_problem(test_problem, n)\n",
    "    "
   ]
  },
  {
   "cell_type": "markdown",
   "metadata": {},
   "source": [
    "## Case 2: Grid Sampled Optimal Region"
   ]
  },
  {
   "cell_type": "code",
   "execution_count": 6,
   "metadata": {},
   "outputs": [],
   "source": [
    "def grid_sample_solution(problem, solution, n, scale_per_bound=0.025):\n",
    "#     print(x)\n",
    "    \n",
    "    # Get problem bounds.\n",
    "    bounds = np.array(problem.design_space.get_bounds())\n",
    "    \n",
    "    # Transform into bound range.\n",
    "    bound_range = bounds[1]-bounds[0]\n",
    "    \n",
    "#     print(bound_range)\n",
    "    \n",
    "    # Scale bound range for about point basis.\n",
    "    scaled_bound_range = scale_per_bound * bound_range\n",
    "\n",
    "    # Create new bounds centralised about point.\n",
    "    bounds = np.concatenate(([solution+scaled_bound_range],[solution-scaled_bound_range]))\n",
    "    \n",
    "#     print(bounds.shape)\n",
    "    \n",
    "    # Sample bounds about point.\n",
    "    grid = sampled_grid(bounds, n, flatten=True)\n",
    "    \n",
    "#     print(grid.shape)\n",
    "    \n",
    "    # Transform to dataframe.\n",
    "    grid = pd.DataFrame(grid.T, columns=[f\"x{i+1}\" for i in range(len(grid.T[0]))])\n",
    "    grid_ = grid\n",
    "    grid_values = grid_.values\n",
    "    perc_val = int(0.1 * len(grid_values))\n",
    "    \n",
    "    # Generate storage matrix.\n",
    "    res=np.zeros((grid_.values.shape[0], 12))   # Add f,x shape attribute to problem.\n",
    "    count=0\n",
    "    for idx,_x in enumerate(grid_values):\n",
    "        count+=1\n",
    "#         print(_x)\n",
    "        f = problem.fitness(_x)\n",
    "        res[idx] = np.concatenate((f,_x))\n",
    "        if (count % perc_val) == 0:\n",
    "            print(round(count/len(grid_values) * 100, 1), r\"%\")\n",
    "        \n",
    "    df = pd.DataFrame(columns=[f\"f{i+1}\" for i in range(problem.fitness_dim)] + [f\"x{i+1}\" for i in range(len(test_problem.design_space.get_bounds()[0]))], data=res)\n",
    "        \n",
    "    save_name = f\"data/AttitudeTrajectoryProblem2D_C1_R1/dataSet2_sol1_gridSampled_{n}.parquet\"\n",
    "    \n",
    "    df.to_parquet(save_name)\n",
    "\n",
    "\n",
    "x = np.array([0.00192016,\n",
    "             -0.00135844,\n",
    "              0.00226742,\n",
    "              0.4064695,\n",
    "              0.28561942,\n",
    "              0.96828936,\n",
    "              0.50069615])\n",
    "\n",
    "x[-4:] = x[-4:] / np.linalg.norm(x[-4:])"
   ]
  },
  {
   "cell_type": "code",
   "execution_count": null,
   "metadata": {},
   "outputs": [],
   "source": []
  },
  {
   "cell_type": "code",
   "execution_count": null,
   "metadata": {},
   "outputs": [],
   "source": []
  },
  {
   "cell_type": "code",
   "execution_count": null,
   "metadata": {},
   "outputs": [
    {
     "name": "stdout",
     "output_type": "stream",
     "text": [
      "10.0 %\n",
      "19.9 %\n",
      "29.9 %\n",
      "39.9 %\n",
      "49.8 %\n",
      "59.8 %\n",
      "69.8 %\n",
      "79.7 %\n",
      "89.7 %\n",
      "99.7 %\n",
      "10.0 %\n",
      "20.0 %\n",
      "30.0 %\n",
      "40.0 %\n",
      "50.0 %\n",
      "60.0 %\n",
      "70.0 %\n",
      "80.0 %\n",
      "90.0 %\n",
      "100.0 %\n",
      "10.0 %\n",
      "20.0 %\n",
      "30.0 %\n",
      "40.0 %\n",
      "50.0 %\n",
      "60.0 %\n",
      "70.0 %\n",
      "80.0 %\n",
      "90.0 %\n",
      "100.0 %\n",
      "10.0 %\n",
      "20.0 %\n",
      "30.0 %\n",
      "40.0 %\n",
      "50.0 %\n",
      "60.0 %\n",
      "70.0 %\n",
      "80.0 %\n",
      "90.0 %\n",
      "100.0 %\n",
      "10.0 %\n",
      "20.0 %\n",
      "30.0 %\n",
      "40.0 %\n",
      "50.0 %\n",
      "60.0 %\n",
      "70.0 %\n",
      "80.0 %\n",
      "90.0 %\n",
      "100.0 %\n",
      "10.0 %\n",
      "20.0 %\n",
      "30.0 %\n",
      "40.0 %\n",
      "50.0 %\n",
      "60.0 %\n",
      "70.0 %\n",
      "80.0 %\n"
     ]
    },
    {
     "name": "stderr",
     "output_type": "stream",
     "text": [
      "/home/ggarrett/lab/NB10422645 (Stage - Airbus)/src/problems/two_dimensional/_performance.py:44: RuntimeWarning: invalid value encountered in arccos\n",
      "  _planet_aux_2 = np.arccos(inner1d(sensor2_pointing_u, body_u)) - np.arcsin(R / (R + h))\n"
     ]
    },
    {
     "name": "stdout",
     "output_type": "stream",
     "text": [
      "90.0 %\n",
      "100.0 %\n",
      "10.0 %\n",
      "20.0 %\n",
      "30.0 %\n",
      "40.0 %\n",
      "50.0 %\n",
      "60.0 %\n",
      "70.0 %\n",
      "80.0 %\n",
      "90.0 %\n",
      "100.0 %\n",
      "10.0 %\n",
      "20.0 %\n",
      "30.0 %\n",
      "40.0 %\n"
     ]
    },
    {
     "name": "stderr",
     "output_type": "stream",
     "text": [
      "/home/ggarrett/lab/NB10422645 (Stage - Airbus)/src/problems/two_dimensional/_performance.py:36: RuntimeWarning: invalid value encountered in arccos\n",
      "  _planet_aux_1 = np.arccos(inner1d(sensor1_pointing_u, body_u)) - np.arcsin(R / (R + h))\n"
     ]
    },
    {
     "name": "stdout",
     "output_type": "stream",
     "text": [
      "50.0 %\n",
      "60.0 %\n",
      "70.0 %\n",
      "80.0 %\n",
      "90.0 %\n",
      "100.0 %\n"
     ]
    }
   ],
   "source": [
    "for n in np.arange(3,12):\n",
    "    grid_sample_solution(test_problem, x, n, scale_per_bound=0.025)\n",
    "    \n",
    "\n"
   ]
  },
  {
   "cell_type": "code",
   "execution_count": null,
   "metadata": {},
   "outputs": [],
   "source": []
  },
  {
   "cell_type": "code",
   "execution_count": null,
   "metadata": {},
   "outputs": [],
   "source": []
  }
 ],
 "metadata": {
  "kernelspec": {
   "display_name": "py37",
   "language": "python",
   "name": "py37"
  },
  "language_info": {
   "codemirror_mode": {
    "name": "ipython",
    "version": 3
   },
   "file_extension": ".py",
   "mimetype": "text/x-python",
   "name": "python",
   "nbconvert_exporter": "python",
   "pygments_lexer": "ipython3",
   "version": "3.7.4"
  }
 },
 "nbformat": 4,
 "nbformat_minor": 4
}
