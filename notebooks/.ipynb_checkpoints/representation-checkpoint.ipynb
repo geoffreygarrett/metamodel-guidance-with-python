{
 "cells": [
  {
   "cell_type": "code",
   "execution_count": 12,
   "metadata": {},
   "outputs": [],
   "source": [
    "import sympy as sp\n",
    "from sympy import init_printing, pprint, init_session\n",
    "init_printing()\n"
   ]
  },
  {
   "cell_type": "code",
   "execution_count": 64,
   "metadata": {},
   "outputs": [],
   "source": [
    "alpha_1, alpha_2, alpha_3 = sp.symbols(\"\\\\alpha_1 \\\\alpha_2 \\\\alpha_3\")\n",
    "\n",
    "delta_t = sp.symbols(\"\\\\delta{t}\")\n",
    "\n",
    "delta_omega = sp.symbols(\"\\\\Delta{\\Omega}\")\n",
    "\n",
    "omega_initial, omega_int_1, omega_int_2, omega_final = sp.symbols(\"\\\\Omega_i \\\\Omega_1^* \\\\Omega_2^* \\\\Omega_f\")\n",
    "\n",
    "theta_initial, theta_final = sp.symbols(\"\\\\theta_i \\\\theta_f\")\n",
    "\n",
    "horizon = sp.symbols(\"T\")\n",
    "\n",
    "tau = sp.symbols(\"\\\\tau\")\n",
    "\n",
    "n, delta_theta, width = sp.symbols(\"n \\\\Delta{\\\\theta} w\")\n",
    "\n"
   ]
  },
  {
   "cell_type": "code",
   "execution_count": 73,
   "metadata": {},
   "outputs": [
    {
     "name": "stdout",
     "output_type": "stream",
     "text": [
      "(T*\\Omega_f - \\Omega_f*\\tau + \\Omega_i*\\tau - \\theta_f + \\theta_i - 2*pi*n + w*(\\Omega_f - \\Omega_i - \\alpha_2*\\delta{t})/2)/(\\delta{t}*w)\n"
     ]
    }
   ],
   "source": [
    "eq_theta_match = sp.Eq(2 * sp.pi * n + (theta_final-theta_initial), \n",
    "       omega_initial * (tau - width/2) + omega_int_1 * (width/2) + omega_int_2 * (width/2) + omega_final * (horizon -tau - width/2)\n",
    "                      )\n",
    "                       \n",
    "    \n",
    "eq_delta_omega = sp.Eq(omega_final-omega_initial,\n",
    "              alpha_1 * delta_t + alpha_2 * delta_t + alpha_3 * delta_t)\n",
    "                       \n",
    "# eq_subbed = eq_theta_match.subs(\n",
    "# {\n",
    "#     delta_t_1:expr_delta_t_1,\n",
    "#     delta_t_2:expr_delta_t_2,\n",
    "#     delta_t_3:expr_delta_t_3,\n",
    "# }\n",
    "# )\n",
    "\n",
    "# ratio = sp.symbols(\"\\\\psi\")\n",
    "\n",
    "sp.solve([eq_theta_match,eq_delta_omega]\n",
    "         , \n",
    "         alpha_2)\n",
    "\n",
    "\n",
    "eq_ = eq_theta_match.subs(\n",
    "    {\n",
    "        omega_int_1: omega_initial + alpha_1 * delta_t,\n",
    "        omega_int_2: omega_final - alpha_3 * delta_t,\n",
    "    } )\n",
    "\n",
    "x_ = sp.simplify(sp.solve(\n",
    "    [eq_, eq_delta_omega],\n",
    "    [alpha_1, alpha_3, alpha_3]\n",
    "))\n",
    "\n",
    "print(x_[alpha_3\n",
    "    ])"
   ]
  },
  {
   "cell_type": "code",
   "execution_count": null,
   "metadata": {},
   "outputs": [],
   "source": []
  },
  {
   "cell_type": "code",
   "execution_count": null,
   "metadata": {},
   "outputs": [],
   "source": []
  },
  {
   "cell_type": "code",
   "execution_count": null,
   "metadata": {},
   "outputs": [],
   "source": []
  }
 ],
 "metadata": {
  "kernelspec": {
   "display_name": "Python 3",
   "language": "python",
   "name": "python3"
  },
  "language_info": {
   "codemirror_mode": {
    "name": "ipython",
    "version": 3
   },
   "file_extension": ".py",
   "mimetype": "text/x-python",
   "name": "python",
   "nbconvert_exporter": "python",
   "pygments_lexer": "ipython3",
   "version": "3.6.7"
  }
 },
 "nbformat": 4,
 "nbformat_minor": 4
}
