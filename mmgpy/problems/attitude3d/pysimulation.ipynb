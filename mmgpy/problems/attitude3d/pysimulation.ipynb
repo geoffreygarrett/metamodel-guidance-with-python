{
 "cells": [
  {
   "cell_type": "code",
   "execution_count": 51,
   "metadata": {},
   "outputs": [],
   "source": [
    "import matlab.engine\n",
    "import numpy as np"
   ]
  },
  {
   "cell_type": "code",
   "execution_count": 54,
   "metadata": {},
   "outputs": [],
   "source": [
    "eng = matlab.engine.start_matlab()\n",
    "\n",
    "def dimensionalise(x, **P):\n",
    "    max_omega = P.pop('max_omega', 1)\n",
    "    period = P.pop('period', 1)\n",
    "    return np.hstack(((x[:,0]*period).reshape(-1,1), x[:,1:]*max_omega))\n",
    "\n",
    "def batch_into_timeseries_struc(x_batch):\n",
    "    x_ts = []\n",
    "    for x in x_batch:\n",
    "        time = x[:,0]\n",
    "        data = x[:,1:] \n",
    "        matlab_time = matlab.double(time.tolist())\n",
    "        matlab_data = matlab.double(data.tolist())\n",
    "        x_ts += [eng.timeseries(matlab_data, matlab_time)];\n",
    "    return eng.cat(1, *x_ts)\n",
    "\n",
    "def simulink_results2fitness(results):\n",
    "    return np.asarray(results).T[:,:,-1]\n",
    "\n",
    "# Constructor\n",
    "test = np.array([[0., 0., 0., 0.1],\n",
    "                 [0.5, 0., 0., 0.1],\n",
    "                 [1.0, 0., 0., 0.1]])"
   ]
  },
  {
   "cell_type": "code",
   "execution_count": null,
   "metadata": {},
   "outputs": [],
   "source": [
    "P = 6.5293e+03\n",
    "max_omega = 0.0096\n",
    "x_test = dimensionalise(test, period=P, max_omega=max_omega)\n",
    "x_test=x_test.reshape(1,*x_test.shape)\n",
    "x_batch = np.tile(x_test, (30,1,1))\n",
    "\n",
    "ipn = batch_into_timeseries_struc(x_batch)\n",
    "res = eng.batch_sim('attitude3d', ipn)\n",
    "fitness = simulink_results2fitness(res)"
   ]
  },
  {
   "cell_type": "code",
   "execution_count": null,
   "metadata": {},
   "outputs": [],
   "source": []
  }
 ],
 "metadata": {
  "kernelspec": {
   "display_name": "sigh",
   "language": "python",
   "name": "sigh"
  },
  "language_info": {
   "codemirror_mode": {
    "name": "ipython",
    "version": 3
   },
   "file_extension": ".py",
   "mimetype": "text/x-python",
   "name": "python",
   "nbconvert_exporter": "python",
   "pygments_lexer": "ipython3",
   "version": "3.7.3"
  }
 },
 "nbformat": 4,
 "nbformat_minor": 4
}
