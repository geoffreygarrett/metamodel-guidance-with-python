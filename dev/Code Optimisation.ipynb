{
 "cells": [
  {
   "cell_type": "markdown",
   "metadata": {},
   "source": [
    "## Element-wise dot product"
   ]
  },
  {
   "cell_type": "markdown",
   "metadata": {},
   "source": [
    "### Numpy"
   ]
  },
  {
   "cell_type": "code",
   "execution_count": 46,
   "metadata": {},
   "outputs": [],
   "source": [
    "# %load test_numpy\n",
    "from numpy.core.umath_tests import inner1d\n",
    "import numpy as np\n",
    "n=1000\n",
    "x = np.random.normal(loc = 0.0, scale = 1.0, size = 2*n) \n",
    "y = np.random.normal(loc = 0.0, scale = 1.0, size = 2*n) \n",
    "z = np.random.normal(loc = 0.0, scale = 1.0, size = 2*n) \n",
    "S = np.concatenate(([x],[y],[z]), axis=0).T\n",
    "S1 = S[:n,:]\n",
    "S2 = S[n:,:]"
   ]
  },
  {
   "cell_type": "code",
   "execution_count": 47,
   "metadata": {},
   "outputs": [
    {
     "name": "stdout",
     "output_type": "stream",
     "text": [
      "9.24 µs ± 9 ns per loop (mean ± std. dev. of 7 runs, 100000 loops each)\n"
     ]
    }
   ],
   "source": [
    "%%timeit\n",
    "\n",
    "np.sum(S1*S2, axis=1)"
   ]
  },
  {
   "cell_type": "code",
   "execution_count": 48,
   "metadata": {},
   "outputs": [
    {
     "name": "stdout",
     "output_type": "stream",
     "text": [
      "2.93 µs ± 2.24 ns per loop (mean ± std. dev. of 7 runs, 100000 loops each)\n"
     ]
    }
   ],
   "source": [
    "%%timeit\n",
    "\n",
    "inner1d(S1,S2)"
   ]
  },
  {
   "cell_type": "code",
   "execution_count": 49,
   "metadata": {},
   "outputs": [
    {
     "name": "stdout",
     "output_type": "stream",
     "text": [
      "20.9 µs ± 61.4 ns per loop (mean ± std. dev. of 7 runs, 10000 loops each)\n"
     ]
    }
   ],
   "source": [
    "%%timeit\n",
    "\n",
    "np.cos(x)"
   ]
  },
  {
   "cell_type": "code",
   "execution_count": 50,
   "metadata": {},
   "outputs": [
    {
     "name": "stdout",
     "output_type": "stream",
     "text": [
      "502 µs ± 262 ns per loop (mean ± std. dev. of 7 runs, 1000 loops each)\n"
     ]
    }
   ],
   "source": [
    "%%timeit\n",
    "\n",
    "[np.dot(s1, s2) for s1, s2 in zip(S1,S2)]"
   ]
  },
  {
   "cell_type": "markdown",
   "metadata": {},
   "source": [
    "### Torch"
   ]
  },
  {
   "cell_type": "code",
   "execution_count": 51,
   "metadata": {},
   "outputs": [
    {
     "name": "stdout",
     "output_type": "stream",
     "text": [
      "Using torch device: cuda\n"
     ]
    }
   ],
   "source": [
    "# %load test_torch\n",
    "import torch\n",
    "n=1000\n",
    "device = torch.device('cuda' if torch.cuda.is_available() else 'cpu')\n",
    "dist = torch.distributions.normal.Normal(loc = 0.0, scale = 1.0)\n",
    "x = dist.sample((2 * n,1)).to(device)\n",
    "y = dist.sample((2 * n,1)).to(device)\n",
    "z = dist.sample((2 * n,1)).to(device)\n",
    "S = torch.cat((x,y,z), axis=1).to(device)\n",
    "S1 = S[:n,:].to(device)\n",
    "S2 = S[n:,:].to(device)\n",
    "print(f\"Using torch device: {device}\")\n"
   ]
  },
  {
   "cell_type": "code",
   "execution_count": 52,
   "metadata": {},
   "outputs": [
    {
     "name": "stdout",
     "output_type": "stream",
     "text": [
      "14.8 µs ± 45.8 ns per loop (mean ± std. dev. of 7 runs, 100000 loops each)\n"
     ]
    }
   ],
   "source": [
    "%%timeit\n",
    "\n",
    "torch.sum(S1*S2, axis=1)"
   ]
  },
  {
   "cell_type": "code",
   "execution_count": 53,
   "metadata": {},
   "outputs": [
    {
     "name": "stdout",
     "output_type": "stream",
     "text": [
      "5.75 µs ± 26.8 ns per loop (mean ± std. dev. of 7 runs, 100000 loops each)\n"
     ]
    }
   ],
   "source": [
    "%%timeit\n",
    "\n",
    "torch.cos(x)"
   ]
  },
  {
   "cell_type": "markdown",
   "metadata": {},
   "source": [
    "### Conclusion"
   ]
  },
  {
   "cell_type": "markdown",
   "metadata": {},
   "source": [
    "Fastest element-wise dot product method for problem: numpy.core.umath_tests import inner1d"
   ]
  },
  {
   "cell_type": "markdown",
   "metadata": {},
   "source": [
    "## Trapezoidal Integration"
   ]
  },
  {
   "cell_type": "markdown",
   "metadata": {},
   "source": [
    "### Numpy"
   ]
  },
  {
   "cell_type": "code",
   "execution_count": 54,
   "metadata": {},
   "outputs": [],
   "source": [
    "# %load test_numpy\n",
    "import numpy as np\n",
    "n=1000\n",
    "x = np.random.normal(loc = 0.0, scale = 1.0, size = 2*n) \n",
    "y = np.random.normal(loc = 0.0, scale = 1.0, size = 2*n) \n",
    "z = np.random.normal(loc = 0.0, scale = 1.0, size = 2*n) \n",
    "S = np.concatenate(([x],[y],[z]), axis=0).T\n",
    "S1 = S[:n,:]\n",
    "S2 = S[n:,:]"
   ]
  },
  {
   "cell_type": "code",
   "execution_count": 55,
   "metadata": {},
   "outputs": [
    {
     "name": "stdout",
     "output_type": "stream",
     "text": [
      "9.61 µs ± 28.4 ns per loop (mean ± std. dev. of 7 runs, 100000 loops each)\n"
     ]
    }
   ],
   "source": [
    "%%timeit\n",
    "\n",
    "np.trapz(x)"
   ]
  },
  {
   "cell_type": "markdown",
   "metadata": {},
   "source": [
    "### Torch"
   ]
  },
  {
   "cell_type": "code",
   "execution_count": 56,
   "metadata": {},
   "outputs": [
    {
     "name": "stdout",
     "output_type": "stream",
     "text": [
      "Using torch device: cuda\n"
     ]
    }
   ],
   "source": [
    "# %load test_torch\n",
    "import torch\n",
    "n=1000\n",
    "device = torch.device('cuda' if torch.cuda.is_available() else 'cpu')\n",
    "dist = torch.distributions.normal.Normal(loc = 0.0, scale = 1.0)\n",
    "x = dist.sample((2 * n,1)).to(device)\n",
    "y = dist.sample((2 * n,1)).to(device)\n",
    "z = dist.sample((2 * n,1)).to(device)\n",
    "S = torch.cat((x,y,z), axis=1).to(device)\n",
    "S1 = S[:n,:].to(device)\n",
    "S2 = S[n:,:].to(device)\n",
    "print(f\"Using torch device: {device}\")\n"
   ]
  },
  {
   "cell_type": "code",
   "execution_count": 57,
   "metadata": {},
   "outputs": [
    {
     "name": "stdout",
     "output_type": "stream",
     "text": [
      "40.1 µs ± 59.4 ns per loop (mean ± std. dev. of 7 runs, 10000 loops each)\n"
     ]
    }
   ],
   "source": [
    "%%timeit\n",
    "\n",
    "torch.trapz(x)"
   ]
  },
  {
   "cell_type": "markdown",
   "metadata": {},
   "source": [
    "### Conclusion"
   ]
  },
  {
   "cell_type": "markdown",
   "metadata": {},
   "source": [
    "Numpy"
   ]
  },
  {
   "cell_type": "markdown",
   "metadata": {},
   "source": [
    "## Redundant sampling points"
   ]
  },
  {
   "cell_type": "markdown",
   "metadata": {},
   "source": [
    "### Numpy"
   ]
  },
  {
   "cell_type": "code",
   "execution_count": 69,
   "metadata": {},
   "outputs": [
    {
     "name": "stdout",
     "output_type": "stream",
     "text": [
      "(1000, 3)\n"
     ]
    }
   ],
   "source": [
    "# %load test_numpy\n",
    "import numpy as np\n",
    "n=1000\n",
    "x = np.random.normal(loc = 0.0, scale = 1.0, size = 2*n) \n",
    "y = np.random.normal(loc = 0.0, scale = 1.0, size = 2*n) \n",
    "z = np.random.normal(loc = 0.0, scale = 1.0, size = 2*n) \n",
    "S = np.concatenate(([x],[y],[z]), axis=0).T\n",
    "S1 = S[:n,:]\n",
    "S2 = S[n:,:]\n",
    "print(S1.shape)"
   ]
  },
  {
   "cell_type": "code",
   "execution_count": 68,
   "metadata": {},
   "outputs": [],
   "source": [
    "test_cond = np.concatenate((np.ones(n),np.zeros(n)))"
   ]
  },
  {
   "cell_type": "code",
   "execution_count": 71,
   "metadata": {},
   "outputs": [
    {
     "name": "stdout",
     "output_type": "stream",
     "text": [
      "8.52 µs ± 6.8 ns per loop (mean ± std. dev. of 7 runs, 100000 loops each)\n"
     ]
    }
   ],
   "source": [
    "%%timeit\n",
    "\n",
    "np.where(test_cond, inner1d(S,S), 0)"
   ]
  },
  {
   "cell_type": "code",
   "execution_count": 72,
   "metadata": {},
   "outputs": [
    {
     "name": "stdout",
     "output_type": "stream",
     "text": [
      "6.15 µs ± 10.6 ns per loop (mean ± std. dev. of 7 runs, 100000 loops each)\n"
     ]
    }
   ],
   "source": [
    "%%timeit\n",
    "\n",
    "inner1d(S,S) * test_cond"
   ]
  },
  {
   "cell_type": "markdown",
   "metadata": {},
   "source": [
    "### Conclusion"
   ]
  },
  {
   "cell_type": "markdown",
   "metadata": {},
   "source": [
    "Using np.where does not optimise over element-wise vector multiplication with the boolean condition."
   ]
  },
  {
   "cell_type": "markdown",
   "metadata": {},
   "source": [
    "## Spacecraft pointing history"
   ]
  },
  {
   "cell_type": "code",
   "execution_count": 128,
   "metadata": {},
   "outputs": [],
   "source": [
    "# %load test_numpy.py\n",
    "import numpy as np\n",
    "n = 1000\n",
    "t = np.linspace(0,2 * np.pi, n)\n",
    "\n",
    "def rot(theta):\n",
    "    return np.array([\n",
    "        [+np.cos(theta), -np.sin(theta)],\n",
    "        [+np.sin(theta), +np.cos(theta)]\n",
    "    ])\n",
    "\n",
    "\n",
    "def sin_a_plus_b(cos_a, sin_a, b):\n",
    "    return sin_a * np.cos(b) + np.sin(b) * cos_a\n",
    "\n",
    "def cos_a_plus_b(cos_a, sin_a, b):\n",
    "    return cos_a * np.cos(b) - sin_a * np.sin(b)\n",
    "\n",
    "def unit_vector_trajectory(cos_a, sin_a, b):\n",
    "    return np.array([\n",
    "        cos_a_plus_b(cos_a, sin_a, b),\n",
    "        sin_a_plus_b(cos_a, sin_a, b)]).T\n",
    "    \n",
    "bod_t = np.pi / 4\n",
    "bod_v = np.array([1,1])/np.sqrt(2)\n",
    "c_att = np.cos(t)\n",
    "s_att = np.sin(t)"
   ]
  },
  {
   "cell_type": "code",
   "execution_count": 118,
   "metadata": {},
   "outputs": [
    {
     "name": "stdout",
     "output_type": "stream",
     "text": [
      "24.6 µs ± 86.3 ns per loop (mean ± std. dev. of 7 runs, 10000 loops each)\n"
     ]
    }
   ],
   "source": [
    "%%timeit\n",
    "\n",
    "c_att = np.cos(t)\n",
    "s_att = np.sin(t)"
   ]
  },
  {
   "cell_type": "code",
   "execution_count": 119,
   "metadata": {},
   "outputs": [
    {
     "name": "stdout",
     "output_type": "stream",
     "text": [
      "68.5 µs ± 54.6 ns per loop (mean ± std. dev. of 7 runs, 10000 loops each)\n"
     ]
    }
   ],
   "source": [
    "%%timeit\n",
    "\n",
    "np.matmul(rot(t).transpose([2,0,1]) , bod_v)"
   ]
  },
  {
   "cell_type": "code",
   "execution_count": 129,
   "metadata": {},
   "outputs": [
    {
     "name": "stdout",
     "output_type": "stream",
     "text": [
      "36.9 µs ± 84.4 ns per loop (mean ± std. dev. of 7 runs, 10000 loops each)\n"
     ]
    }
   ],
   "source": [
    "%%timeit\n",
    "\n",
    "unit_vector_trajectory(np.cos(t), np.sin(t), bod_t)"
   ]
  },
  {
   "cell_type": "code",
   "execution_count": 130,
   "metadata": {},
   "outputs": [
    {
     "name": "stdout",
     "output_type": "stream",
     "text": [
      "11.7 µs ± 29.2 ns per loop (mean ± std. dev. of 7 runs, 100000 loops each)\n"
     ]
    }
   ],
   "source": [
    "%%timeit\n",
    "\n",
    "unit_vector_trajectory(c_att, s_att, bod_t)"
   ]
  },
  {
   "cell_type": "code",
   "execution_count": 139,
   "metadata": {},
   "outputs": [
    {
     "data": {
      "text/plain": [
       "1.4299672557172016e-13"
      ]
     },
     "execution_count": 139,
     "metadata": {},
     "output_type": "execute_result"
    }
   ],
   "source": [
    "res1 = np.matmul(rot(t).transpose([2,0,1]), bod_v)\n",
    "res2 = unit_vector_trajectory(np.cos(t), np.sin(t), bod_t)\n",
    "\n",
    "np.sum(np.abs(res1-res2))\n",
    "# assert np.all(res1 == res2)"
   ]
  },
  {
   "cell_type": "code",
   "execution_count": 143,
   "metadata": {},
   "outputs": [],
   "source": [
    "time_array_1 = np.linspace(0,np.pi, 10 )\n",
    "time_array_2 = np.linspace(0,np.pi,1000)"
   ]
  },
  {
   "cell_type": "code",
   "execution_count": 173,
   "metadata": {},
   "outputs": [],
   "source": [
    "omega = np.sin(time_array_1)\n",
    "from scipy import integrate, interpolate\n",
    "init_theta = 0"
   ]
  },
  {
   "cell_type": "code",
   "execution_count": 179,
   "metadata": {},
   "outputs": [
    {
     "name": "stdout",
     "output_type": "stream",
     "text": [
      "72.6 µs ± 309 ns per loop (mean ± std. dev. of 7 runs, 10000 loops each)\n"
     ]
    }
   ],
   "source": [
    "%%timeit\n",
    "omega2 = interpolate.interp1d(time_array_1, omega)(time_array_2)\n",
    "theta =  integrate.cumtrapz(omega2, time_array_2, initial=0) + init_theta\n",
    "alpha = np.diff(omega2)\n",
    "alpha = np.concatenate((alpha, [alpha[-1]]))\n"
   ]
  },
  {
   "cell_type": "markdown",
   "metadata": {},
   "source": [
    "## Heap data storage management prior to saving (dynamic vs static)"
   ]
  },
  {
   "cell_type": "code",
   "execution_count": null,
   "metadata": {},
   "outputs": [],
   "source": [
    "def way1(n):\n",
    "    x1, x2, x3 = np.tile(np.linspace(0, 2 * np.pi, n), (3,1))\n",
    "    res = None\n",
    "    for i in range(x1.shape[0]):\n",
    "        current = np.concatenate(([x1[i]], [x2[i]], [x3[i]]))\n",
    "        res = np.array([current]) if res is None else np.concatenate((res, [current]))\n",
    "        \n",
    "def way2(n):\n",
    "    x1, x2, x3 = np.tile(np.linspace(0, 2 * np.pi, n), (3,1))\n",
    "    res = np.zeros((x1.shape[0], 3))\n",
    "    for i in range(x1.shape[0]):\n",
    "        res[i] = np.concatenate(([x1[i]], [x2[i]], [x3[i]]))\n",
    "        \n",
    "results_method1 = []\n",
    "for exp in [1, 2, 3, 4, 5, 6]:\n",
    "    result = %timeit -o way1(10**exp)\n",
    "    results_method1.append(result)\n",
    "    \n",
    "results_method2 = []\n",
    "for exp in [1, 2, 3, 4, 5, 6]:\n",
    "    result = %timeit -o way2(10**exp)\n",
    "    results_method2.append(result)\n",
    "    \n",
    "import matplotlib.pyplot as plt\n",
    "%matplotlib inline\n",
    "plt.loglog([10 ** i for i in [1,2,3,4,5]], [res1.best for res1 in results_method1])\n",
    "plt.loglog([10 ** i for i in [1,2,3,4,5]], [res2.best for res2 in results_method2])\n",
    "plt.show()"
   ]
  }
 ],
 "metadata": {
  "kernelspec": {
   "display_name": "py37",
   "language": "python",
   "name": "py37"
  },
  "language_info": {
   "codemirror_mode": {
    "name": "ipython",
    "version": 3
   },
   "file_extension": ".py",
   "mimetype": "text/x-python",
   "name": "python",
   "nbconvert_exporter": "python",
   "pygments_lexer": "ipython3",
   "version": "3.7.4"
  },
  "toc-autonumbering": true
 },
 "nbformat": 4,
 "nbformat_minor": 4
}
