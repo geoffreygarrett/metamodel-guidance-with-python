{
 "cells": [
  {
   "cell_type": "markdown",
   "metadata": {},
   "source": [
    "# Machine Learning Meta-Models for Complex Guidance Problems\n",
    "\n",
    "- [Stagiare] RFP 10422645 – Geoffrey Garrett – Date de début : 08/07/2019"
   ]
  },
  {
   "cell_type": "markdown",
   "metadata": {},
   "source": [
    "## Project Structure\n",
    "\n",
    "```\n",
    "NB10422645/\n",
    "├── data        # Directory that data is generated/downloaded to.\n",
    "├── notebooks   # Location of all work and research available for download.\n",
    "├── README.md   \n",
    "├── reference   # PDF Resources used, all saved on Mendeley.\n",
    "├── setup.py    # Setup file for compiling Cython files.\n",
    "└── src\n",
    "    ├── notebooks    # Source files for notebooks.\n",
    "    ├── problems     # Source files for defined problems.\n",
    "    └── surrogate    # Source files for surrogate modelling.\n",
    "```"
   ]
  },
  {
   "cell_type": "markdown",
   "metadata": {},
   "source": [
    "## Source Documentation"
   ]
  },
  {
   "cell_type": "markdown",
   "metadata": {},
   "source": [
    "### Notebooks"
   ]
  },
  {
   "cell_type": "markdown",
   "metadata": {},
   "source": [
    "### Problems"
   ]
  },
  {
   "cell_type": "markdown",
   "metadata": {},
   "source": [
    "### Surrogate"
   ]
  },
  {
   "cell_type": "markdown",
   "metadata": {},
   "source": [
    "# Surrogate modelling with neural networks for expensive high dimensional data"
   ]
  },
  {
   "cell_type": "markdown",
   "metadata": {},
   "source": [
    "## Literature Study"
   ]
  },
  {
   "cell_type": "code",
   "execution_count": null,
   "metadata": {},
   "outputs": [],
   "source": []
  }
 ],
 "metadata": {
  "kernelspec": {
   "display_name": "py37",
   "language": "python",
   "name": "py37"
  },
  "language_info": {
   "codemirror_mode": {
    "name": "ipython",
    "version": 3
   },
   "file_extension": ".py",
   "mimetype": "text/x-python",
   "name": "python",
   "nbconvert_exporter": "python",
   "pygments_lexer": "ipython3",
   "version": "3.7.4"
  }
 },
 "nbformat": 4,
 "nbformat_minor": 4
}
