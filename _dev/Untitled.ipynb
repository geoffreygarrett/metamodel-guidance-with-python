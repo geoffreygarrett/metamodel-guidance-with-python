{
 "cells": [
  {
   "cell_type": "code",
   "execution_count": 1,
   "metadata": {},
   "outputs": [],
   "source": [
    "# Whats the best way to store hyperparameters?\n",
    "\n",
    "# A: Key, value tuple pairs with <entity>__<hp> form.\n",
    "\n",
    "# examples\n",
    "\n",
    "ffn_hp = {\n",
    "    \"_ffn_hidden_layers\": 10,\n",
    "    \"_ffn_hidden_neurons\": 5,\n",
    "    \"_ffn_activation\": \"sigmoid\"    \n",
    "}\n",
    "\n",
    "\n",
    "cnn_hp = {\n",
    "    \"_cnn_hidden_layers\": 10,\n",
    "    \"_cnn_hidden_neurons\": 5,\n",
    "    \"_cnn_stride\": 3,\n",
    "    \"_cnn_kernel_size\": 3,\n",
    "    \"_cnn_activation\": \"sigmoid\"    \n",
    "}\n",
    "\n",
    "rfr_hp = {\n",
    "    \"_rfr_n_estimators\": 10,\n",
    "    # default=10\n",
    "    \"_rfr_criterion\": \"mse\"\n",
    "    # default=\"mse\", alternative=\"mae\"\n",
    "    \"_rfr_min_samples_split\": \n",
    "    # default=1\n",
    "}\n",
    "\n"
   ]
  },
  {
   "cell_type": "code",
   "execution_count": null,
   "metadata": {},
   "outputs": [],
   "source": []
  }
 ],
 "metadata": {
  "kernelspec": {
   "display_name": "sigh",
   "language": "python",
   "name": "sigh"
  },
  "language_info": {
   "codemirror_mode": {
    "name": "ipython",
    "version": 3
   },
   "file_extension": ".py",
   "mimetype": "text/x-python",
   "name": "python",
   "nbconvert_exporter": "python",
   "pygments_lexer": "ipython3",
   "version": "3.7.3"
  }
 },
 "nbformat": 4,
 "nbformat_minor": 4
}
