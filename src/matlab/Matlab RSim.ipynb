{
 "cells": [
  {
   "cell_type": "code",
   "execution_count": 19,
   "metadata": {},
   "outputs": [
    {
     "name": "stdout",
     "output_type": "stream",
     "text": [
      "/home/ggarrett/lab/NB10422645/src/matlab\n",
      "b\"** Starting model 'rs_bicycle' @ Wed Oct 30 00:01:06 2019\\n *** testpy.mat is successfully loaded! ***\\n** created simulations/asdasd.mat **\"\n"
     ]
    }
   ],
   "source": [
    "%cd \".\"\n",
    "\n",
    "import subprocess\n",
    "from scipy.io import savemat\n",
    "import numpy as np\n",
    "\n",
    "test = np.array([[0, 50, 150, 160],[0, 5, 10, 5]]).astype(float).T\n",
    "mdict = {'test':test}\n",
    "savemat('testpy.mat', mdict)\n",
    "\n",
    "import os \n",
    "os.system(\"./rs_bicycle\" \"-i testpy.mat -o asdasd.mat\")\n",
    "\n",
    "\n",
    "def subprocess_cmd(command):\n",
    "    process = subprocess.Popen(command,stdout=subprocess.PIPE, shell=True)\n",
    "    proc_stdout = process.communicate()[0].strip()\n",
    "    print(proc_stdout)\n",
    "\n",
    "os.mkdir('simulations')\n",
    "cmd = f\"./rs_bicycle -i testpy.mat -o simulations/f{}.mat\"\n",
    "\n",
    "subprocess_cmd(cmd)\n",
    "\n",
    "# subprocess.run([\"./rs_bicycle\", \"-i testpy.mat -o asdasd.mat\"], shell=True)"
   ]
  },
  {
   "cell_type": "code",
   "execution_count": null,
   "metadata": {},
   "outputs": [],
   "source": []
  },
  {
   "cell_type": "code",
   "execution_count": null,
   "metadata": {},
   "outputs": [],
   "source": []
  }
 ],
 "metadata": {
  "kernelspec": {
   "display_name": "sigh",
   "language": "python",
   "name": "sigh"
  },
  "language_info": {
   "codemirror_mode": {
    "name": "ipython",
    "version": 3
   },
   "file_extension": ".py",
   "mimetype": "text/x-python",
   "name": "python",
   "nbconvert_exporter": "python",
   "pygments_lexer": "ipython3",
   "version": "3.7.3"
  }
 },
 "nbformat": 4,
 "nbformat_minor": 4
}
